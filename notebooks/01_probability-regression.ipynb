{
 "cells": [
  {
   "cell_type": "markdown",
   "metadata": {},
   "source": [
    "## Probability and Regression\n",
    "\n",
    "My own reworking of the example code within the text book."
   ]
  },
  {
   "cell_type": "code",
   "execution_count": 1,
   "metadata": {},
   "outputs": [],
   "source": [
    "import numpy as np\n",
    "import pandas as pd\n",
    "import statsmodels.api as sm\n",
    "import statsmodels.formula.api as smf\n",
    "\n",
    "import plotnine as p"
   ]
  },
  {
   "cell_type": "code",
   "execution_count": 2,
   "metadata": {},
   "outputs": [],
   "source": [
    "# read data\n",
    "def read_data(file):\n",
    "    return pd.read_csv(\"https://raw.github.com/scunning1975/mixtape/master/\" + file)"
   ]
  },
  {
   "cell_type": "code",
   "execution_count": 52,
   "metadata": {},
   "outputs": [],
   "source": [
    "np.random.seed(1)\n",
    "\n",
    "df = pd.DataFrame({\n",
    "    'x': np.random.normal(size=10000),\n",
    "    'u': np.random.normal(size=10000)})\n",
    "df['y'] = 5.5*df['x'].values + 12*df['u'].values"
   ]
  },
  {
   "cell_type": "code",
   "execution_count": 53,
   "metadata": {},
   "outputs": [
    {
     "data": {
      "text/html": [
       "<div>\n",
       "<style scoped>\n",
       "    .dataframe tbody tr th:only-of-type {\n",
       "        vertical-align: middle;\n",
       "    }\n",
       "\n",
       "    .dataframe tbody tr th {\n",
       "        vertical-align: top;\n",
       "    }\n",
       "\n",
       "    .dataframe thead th {\n",
       "        text-align: right;\n",
       "    }\n",
       "</style>\n",
       "<table border=\"1\" class=\"dataframe\">\n",
       "  <thead>\n",
       "    <tr style=\"text-align: right;\">\n",
       "      <th></th>\n",
       "      <th>x</th>\n",
       "      <th>u</th>\n",
       "      <th>y</th>\n",
       "    </tr>\n",
       "  </thead>\n",
       "  <tbody>\n",
       "    <tr>\n",
       "      <th>0</th>\n",
       "      <td>1.624345</td>\n",
       "      <td>-0.122474</td>\n",
       "      <td>7.464213</td>\n",
       "    </tr>\n",
       "    <tr>\n",
       "      <th>1</th>\n",
       "      <td>-0.611756</td>\n",
       "      <td>0.228170</td>\n",
       "      <td>-0.626622</td>\n",
       "    </tr>\n",
       "    <tr>\n",
       "      <th>2</th>\n",
       "      <td>-0.528172</td>\n",
       "      <td>-0.352305</td>\n",
       "      <td>-7.132606</td>\n",
       "    </tr>\n",
       "    <tr>\n",
       "      <th>3</th>\n",
       "      <td>-1.072969</td>\n",
       "      <td>-0.830553</td>\n",
       "      <td>-15.867969</td>\n",
       "    </tr>\n",
       "    <tr>\n",
       "      <th>4</th>\n",
       "      <td>0.865408</td>\n",
       "      <td>-0.261090</td>\n",
       "      <td>1.626664</td>\n",
       "    </tr>\n",
       "    <tr>\n",
       "      <th>...</th>\n",
       "      <td>...</td>\n",
       "      <td>...</td>\n",
       "      <td>...</td>\n",
       "    </tr>\n",
       "    <tr>\n",
       "      <th>9995</th>\n",
       "      <td>0.072959</td>\n",
       "      <td>-0.943208</td>\n",
       "      <td>-10.917229</td>\n",
       "    </tr>\n",
       "    <tr>\n",
       "      <th>9996</th>\n",
       "      <td>0.489102</td>\n",
       "      <td>0.782216</td>\n",
       "      <td>12.076651</td>\n",
       "    </tr>\n",
       "    <tr>\n",
       "      <th>9997</th>\n",
       "      <td>-1.014144</td>\n",
       "      <td>2.408434</td>\n",
       "      <td>23.323415</td>\n",
       "    </tr>\n",
       "    <tr>\n",
       "      <th>9998</th>\n",
       "      <td>-0.062696</td>\n",
       "      <td>0.882786</td>\n",
       "      <td>10.248597</td>\n",
       "    </tr>\n",
       "    <tr>\n",
       "      <th>9999</th>\n",
       "      <td>-1.437870</td>\n",
       "      <td>-0.099596</td>\n",
       "      <td>-9.103440</td>\n",
       "    </tr>\n",
       "  </tbody>\n",
       "</table>\n",
       "<p>10000 rows × 3 columns</p>\n",
       "</div>"
      ],
      "text/plain": [
       "             x         u          y\n",
       "0     1.624345 -0.122474   7.464213\n",
       "1    -0.611756  0.228170  -0.626622\n",
       "2    -0.528172 -0.352305  -7.132606\n",
       "3    -1.072969 -0.830553 -15.867969\n",
       "4     0.865408 -0.261090   1.626664\n",
       "...        ...       ...        ...\n",
       "9995  0.072959 -0.943208 -10.917229\n",
       "9996  0.489102  0.782216  12.076651\n",
       "9997 -1.014144  2.408434  23.323415\n",
       "9998 -0.062696  0.882786  10.248597\n",
       "9999 -1.437870 -0.099596  -9.103440\n",
       "\n",
       "[10000 rows x 3 columns]"
      ]
     },
     "execution_count": 53,
     "metadata": {},
     "output_type": "execute_result"
    }
   ],
   "source": [
    "df"
   ]
  },
  {
   "cell_type": "code",
   "execution_count": 54,
   "metadata": {},
   "outputs": [
    {
     "data": {
      "text/html": [
       "<table class=\"simpletable\">\n",
       "<caption>OLS Regression Results</caption>\n",
       "<tr>\n",
       "  <th>Dep. Variable:</th>            <td>y</td>        <th>  R-squared:         </th> <td>   0.183</td> \n",
       "</tr>\n",
       "<tr>\n",
       "  <th>Model:</th>                   <td>OLS</td>       <th>  Adj. R-squared:    </th> <td>   0.183</td> \n",
       "</tr>\n",
       "<tr>\n",
       "  <th>Method:</th>             <td>Least Squares</td>  <th>  F-statistic:       </th> <td>   2237.</td> \n",
       "</tr>\n",
       "<tr>\n",
       "  <th>Date:</th>             <td>Sat, 21 May 2022</td> <th>  Prob (F-statistic):</th>  <td>  0.00</td>  \n",
       "</tr>\n",
       "<tr>\n",
       "  <th>Time:</th>                 <td>14:57:35</td>     <th>  Log-Likelihood:    </th> <td> -39049.</td> \n",
       "</tr>\n",
       "<tr>\n",
       "  <th>No. Observations:</th>      <td> 10000</td>      <th>  AIC:               </th> <td>7.810e+04</td>\n",
       "</tr>\n",
       "<tr>\n",
       "  <th>Df Residuals:</th>          <td>  9998</td>      <th>  BIC:               </th> <td>7.812e+04</td>\n",
       "</tr>\n",
       "<tr>\n",
       "  <th>Df Model:</th>              <td>     1</td>      <th>                     </th>     <td> </td>    \n",
       "</tr>\n",
       "<tr>\n",
       "  <th>Covariance Type:</th>      <td>nonrobust</td>    <th>                     </th>     <td> </td>    \n",
       "</tr>\n",
       "</table>\n",
       "<table class=\"simpletable\">\n",
       "<tr>\n",
       "      <td></td>         <th>coef</th>     <th>std err</th>      <th>t</th>      <th>P>|t|</th>  <th>[0.025</th>    <th>0.975]</th>  \n",
       "</tr>\n",
       "<tr>\n",
       "  <th>Intercept</th> <td>    0.1114</td> <td>    0.120</td> <td>    0.927</td> <td> 0.354</td> <td>   -0.124</td> <td>    0.347</td>\n",
       "</tr>\n",
       "<tr>\n",
       "  <th>x</th>         <td>    5.6887</td> <td>    0.120</td> <td>   47.293</td> <td> 0.000</td> <td>    5.453</td> <td>    5.924</td>\n",
       "</tr>\n",
       "</table>\n",
       "<table class=\"simpletable\">\n",
       "<tr>\n",
       "  <th>Omnibus:</th>       <td> 0.640</td> <th>  Durbin-Watson:     </th> <td>   2.050</td>\n",
       "</tr>\n",
       "<tr>\n",
       "  <th>Prob(Omnibus):</th> <td> 0.726</td> <th>  Jarque-Bera (JB):  </th> <td>   0.672</td>\n",
       "</tr>\n",
       "<tr>\n",
       "  <th>Skew:</th>          <td>-0.012</td> <th>  Prob(JB):          </th> <td>   0.715</td>\n",
       "</tr>\n",
       "<tr>\n",
       "  <th>Kurtosis:</th>      <td> 2.968</td> <th>  Cond. No.          </th> <td>    1.01</td>\n",
       "</tr>\n",
       "</table><br/><br/>Notes:<br/>[1] Standard Errors assume that the covariance matrix of the errors is correctly specified."
      ],
      "text/plain": [
       "<class 'statsmodels.iolib.summary.Summary'>\n",
       "\"\"\"\n",
       "                            OLS Regression Results                            \n",
       "==============================================================================\n",
       "Dep. Variable:                      y   R-squared:                       0.183\n",
       "Model:                            OLS   Adj. R-squared:                  0.183\n",
       "Method:                 Least Squares   F-statistic:                     2237.\n",
       "Date:                Sat, 21 May 2022   Prob (F-statistic):               0.00\n",
       "Time:                        14:57:35   Log-Likelihood:                -39049.\n",
       "No. Observations:               10000   AIC:                         7.810e+04\n",
       "Df Residuals:                    9998   BIC:                         7.812e+04\n",
       "Df Model:                           1                                         \n",
       "Covariance Type:            nonrobust                                         \n",
       "==============================================================================\n",
       "                 coef    std err          t      P>|t|      [0.025      0.975]\n",
       "------------------------------------------------------------------------------\n",
       "Intercept      0.1114      0.120      0.927      0.354      -0.124       0.347\n",
       "x              5.6887      0.120     47.293      0.000       5.453       5.924\n",
       "==============================================================================\n",
       "Omnibus:                        0.640   Durbin-Watson:                   2.050\n",
       "Prob(Omnibus):                  0.726   Jarque-Bera (JB):                0.672\n",
       "Skew:                          -0.012   Prob(JB):                        0.715\n",
       "Kurtosis:                       2.968   Cond. No.                         1.01\n",
       "==============================================================================\n",
       "\n",
       "Notes:\n",
       "[1] Standard Errors assume that the covariance matrix of the errors is correctly specified.\n",
       "\"\"\""
      ]
     },
     "execution_count": 54,
     "metadata": {},
     "output_type": "execute_result"
    }
   ],
   "source": [
    "reg_df = sm.OLS.from_formula('y ~ x', data=df).fit()\n",
    "reg_df.summary()"
   ]
  },
  {
   "cell_type": "markdown",
   "metadata": {},
   "source": [
    "### After running the OLS fit, we can predict the parameters of $\\hat{y}$ (predicted value of $y$, given the OLS fit) and $\\hat{u}$ (the residual, i.e., $y - \\hat{y}$ ) with the `statsmodel` package, or manually, using the coefficients from the summary above.\n",
    "\n",
    "\n",
    "$$\n",
    "y = \\beta_0 + \\beta_1 x + u\n",
    "$$\n",
    "\n",
    "where:\n",
    "- $x =$ data point that is influencing the effect\n",
    "- $y =$ the effect/outcome\n",
    "- $\\beta_0 =$ the intercept\n",
    "- $\\beta_1 =$ the coefficient for $x$\n",
    "- $u = $ the error term (captures other factors that are causing the outcome effect not captured by this model)\n",
    "\n",
    "This represents our model of the world when applying OLS.\n",
    "\n",
    "\n",
    "Then, given some observed data, the equation is represented with the  $\\hat{~}$  symbol to show that we're making estimates. Also, the $u$ term now represents the _residuals_ — the difference between the predicted $\\hat{y}$ and the real $y$ - instead of the error term.\n",
    "\n",
    "$$\n",
    "\\hat{y} = \\hat{\\beta}_0 + \\hat{\\beta}_1 x + u\n",
    "$$\n",
    "\n",
    "where:\n",
    "- $x =$ data point that is influencing the estimated effect\n",
    "- $\\hat{y} =$ the estimated effect/outcome\n",
    "- $\\beta_0 =$ the estimated intercept\n",
    "- $\\beta_1 =$ the estimated coefficient for $x$\n",
    "- $u = $ the residual (captures the difference between the predicted $\\hat{y}$ and the real $y$)\n",
    "\n",
    "\n",
    "**In the summary above, the `Intercept` coefficient = the intercept of the fit and the `x` coefficient represents $\\hat{\\beta}_1$**\n",
    "\n",
    "This means that our OLS model fit equation becomes:\n",
    "\n",
    "$$\n",
    "\\hat{y} = 0.1114 + 5.6887x\n",
    "$$\n",
    "\n",
    "As mentioned above, we can calculate the $\\hat{y}$ and $u$ (residual) values for all data points using either the `statsmodels` object, `reg_tb`, or simply plugging our `x` values into the equation returned by the summary data."
   ]
  },
  {
   "cell_type": "code",
   "execution_count": 55,
   "metadata": {},
   "outputs": [],
   "source": [
    "\n",
    "# Calculating values with statsmodels\n",
    "df['yhat1'] = reg_df.predict(df)\n",
    "df['uhat1'] = reg_df.resid\n",
    "\n",
    "# Calculating them manually\n",
    "df['yhat2'] = 0.1114 + 5.6887*df['x']\n",
    "df['uhat2'] = df['y'] - df['yhat2']"
   ]
  },
  {
   "cell_type": "markdown",
   "metadata": {},
   "source": [
    "### As you can see below, the values are very similar."
   ]
  },
  {
   "cell_type": "code",
   "execution_count": 56,
   "metadata": {
    "scrolled": true
   },
   "outputs": [
    {
     "data": {
      "text/html": [
       "<div>\n",
       "<style scoped>\n",
       "    .dataframe tbody tr th:only-of-type {\n",
       "        vertical-align: middle;\n",
       "    }\n",
       "\n",
       "    .dataframe tbody tr th {\n",
       "        vertical-align: top;\n",
       "    }\n",
       "\n",
       "    .dataframe thead th {\n",
       "        text-align: right;\n",
       "    }\n",
       "</style>\n",
       "<table border=\"1\" class=\"dataframe\">\n",
       "  <thead>\n",
       "    <tr style=\"text-align: right;\">\n",
       "      <th></th>\n",
       "      <th>yhat1</th>\n",
       "      <th>yhat2</th>\n",
       "    </tr>\n",
       "  </thead>\n",
       "  <tbody>\n",
       "    <tr>\n",
       "      <th>0</th>\n",
       "      <td>9.351735</td>\n",
       "      <td>9.351813</td>\n",
       "    </tr>\n",
       "    <tr>\n",
       "      <th>1</th>\n",
       "      <td>-3.368695</td>\n",
       "      <td>-3.368699</td>\n",
       "    </tr>\n",
       "    <tr>\n",
       "      <th>2</th>\n",
       "      <td>-2.893210</td>\n",
       "      <td>-2.893211</td>\n",
       "    </tr>\n",
       "    <tr>\n",
       "      <th>3</th>\n",
       "      <td>-5.992376</td>\n",
       "      <td>-5.992397</td>\n",
       "    </tr>\n",
       "    <tr>\n",
       "      <th>4</th>\n",
       "      <td>5.034394</td>\n",
       "      <td>5.034444</td>\n",
       "    </tr>\n",
       "    <tr>\n",
       "      <th>...</th>\n",
       "      <td>...</td>\n",
       "      <td>...</td>\n",
       "    </tr>\n",
       "    <tr>\n",
       "      <th>9995</th>\n",
       "      <td>0.526418</td>\n",
       "      <td>0.526439</td>\n",
       "    </tr>\n",
       "    <tr>\n",
       "      <th>9996</th>\n",
       "      <td>2.893719</td>\n",
       "      <td>2.893755</td>\n",
       "    </tr>\n",
       "    <tr>\n",
       "      <th>9997</th>\n",
       "      <td>-5.657741</td>\n",
       "      <td>-5.657760</td>\n",
       "    </tr>\n",
       "    <tr>\n",
       "      <th>9998</th>\n",
       "      <td>-0.245276</td>\n",
       "      <td>-0.245260</td>\n",
       "    </tr>\n",
       "    <tr>\n",
       "      <th>9999</th>\n",
       "      <td>-8.068176</td>\n",
       "      <td>-8.068210</td>\n",
       "    </tr>\n",
       "  </tbody>\n",
       "</table>\n",
       "<p>10000 rows × 2 columns</p>\n",
       "</div>"
      ],
      "text/plain": [
       "         yhat1     yhat2\n",
       "0     9.351735  9.351813\n",
       "1    -3.368695 -3.368699\n",
       "2    -2.893210 -2.893211\n",
       "3    -5.992376 -5.992397\n",
       "4     5.034394  5.034444\n",
       "...        ...       ...\n",
       "9995  0.526418  0.526439\n",
       "9996  2.893719  2.893755\n",
       "9997 -5.657741 -5.657760\n",
       "9998 -0.245276 -0.245260\n",
       "9999 -8.068176 -8.068210\n",
       "\n",
       "[10000 rows x 2 columns]"
      ]
     },
     "execution_count": 56,
     "metadata": {},
     "output_type": "execute_result"
    }
   ],
   "source": [
    "df[['yhat1', 'yhat2']]"
   ]
  },
  {
   "cell_type": "code",
   "execution_count": 57,
   "metadata": {},
   "outputs": [
    {
     "data": {
      "text/html": [
       "<div>\n",
       "<style scoped>\n",
       "    .dataframe tbody tr th:only-of-type {\n",
       "        vertical-align: middle;\n",
       "    }\n",
       "\n",
       "    .dataframe tbody tr th {\n",
       "        vertical-align: top;\n",
       "    }\n",
       "\n",
       "    .dataframe thead th {\n",
       "        text-align: right;\n",
       "    }\n",
       "</style>\n",
       "<table border=\"1\" class=\"dataframe\">\n",
       "  <thead>\n",
       "    <tr style=\"text-align: right;\">\n",
       "      <th></th>\n",
       "      <th>uhat1</th>\n",
       "      <th>uhat2</th>\n",
       "    </tr>\n",
       "  </thead>\n",
       "  <tbody>\n",
       "    <tr>\n",
       "      <th>0</th>\n",
       "      <td>-1.887522</td>\n",
       "      <td>-1.887601</td>\n",
       "    </tr>\n",
       "    <tr>\n",
       "      <th>1</th>\n",
       "      <td>2.742073</td>\n",
       "      <td>2.742076</td>\n",
       "    </tr>\n",
       "    <tr>\n",
       "      <th>2</th>\n",
       "      <td>-4.239396</td>\n",
       "      <td>-4.239396</td>\n",
       "    </tr>\n",
       "    <tr>\n",
       "      <th>3</th>\n",
       "      <td>-9.875593</td>\n",
       "      <td>-9.875572</td>\n",
       "    </tr>\n",
       "    <tr>\n",
       "      <th>4</th>\n",
       "      <td>-3.407730</td>\n",
       "      <td>-3.407780</td>\n",
       "    </tr>\n",
       "    <tr>\n",
       "      <th>...</th>\n",
       "      <td>...</td>\n",
       "      <td>...</td>\n",
       "    </tr>\n",
       "    <tr>\n",
       "      <th>9995</th>\n",
       "      <td>-11.443647</td>\n",
       "      <td>-11.443668</td>\n",
       "    </tr>\n",
       "    <tr>\n",
       "      <th>9996</th>\n",
       "      <td>9.182932</td>\n",
       "      <td>9.182895</td>\n",
       "    </tr>\n",
       "    <tr>\n",
       "      <th>9997</th>\n",
       "      <td>28.981156</td>\n",
       "      <td>28.981175</td>\n",
       "    </tr>\n",
       "    <tr>\n",
       "      <th>9998</th>\n",
       "      <td>10.493874</td>\n",
       "      <td>10.493857</td>\n",
       "    </tr>\n",
       "    <tr>\n",
       "      <th>9999</th>\n",
       "      <td>-1.035264</td>\n",
       "      <td>-1.035230</td>\n",
       "    </tr>\n",
       "  </tbody>\n",
       "</table>\n",
       "<p>10000 rows × 2 columns</p>\n",
       "</div>"
      ],
      "text/plain": [
       "          uhat1      uhat2\n",
       "0     -1.887522  -1.887601\n",
       "1      2.742073   2.742076\n",
       "2     -4.239396  -4.239396\n",
       "3     -9.875593  -9.875572\n",
       "4     -3.407730  -3.407780\n",
       "...         ...        ...\n",
       "9995 -11.443647 -11.443668\n",
       "9996   9.182932   9.182895\n",
       "9997  28.981156  28.981175\n",
       "9998  10.493874  10.493857\n",
       "9999  -1.035264  -1.035230\n",
       "\n",
       "[10000 rows x 2 columns]"
      ]
     },
     "execution_count": 57,
     "metadata": {},
     "output_type": "execute_result"
    }
   ],
   "source": [
    "df[['uhat1', 'uhat2']]"
   ]
  },
  {
   "cell_type": "markdown",
   "metadata": {},
   "source": [
    "### While there are some minor differences we can see that, overall, the averages are very similar. Compare the summary statistics for `yhat1` with `yhat2` as well as `uhat1` with `uhat2` and you'll see that they are nearly identical."
   ]
  },
  {
   "cell_type": "code",
   "execution_count": 58,
   "metadata": {},
   "outputs": [
    {
     "data": {
      "text/html": [
       "<div>\n",
       "<style scoped>\n",
       "    .dataframe tbody tr th:only-of-type {\n",
       "        vertical-align: middle;\n",
       "    }\n",
       "\n",
       "    .dataframe tbody tr th {\n",
       "        vertical-align: top;\n",
       "    }\n",
       "\n",
       "    .dataframe thead th {\n",
       "        text-align: right;\n",
       "    }\n",
       "</style>\n",
       "<table border=\"1\" class=\"dataframe\">\n",
       "  <thead>\n",
       "    <tr style=\"text-align: right;\">\n",
       "      <th></th>\n",
       "      <th>x</th>\n",
       "      <th>u</th>\n",
       "      <th>y</th>\n",
       "      <th>yhat1</th>\n",
       "      <th>uhat1</th>\n",
       "      <th>yhat2</th>\n",
       "      <th>uhat2</th>\n",
       "    </tr>\n",
       "  </thead>\n",
       "  <tbody>\n",
       "    <tr>\n",
       "      <th>count</th>\n",
       "      <td>10000.000000</td>\n",
       "      <td>10000.000000</td>\n",
       "      <td>10000.000000</td>\n",
       "      <td>10000.000000</td>\n",
       "      <td>1.000000e+04</td>\n",
       "      <td>10000.000000</td>\n",
       "      <td>10000.000000</td>\n",
       "    </tr>\n",
       "    <tr>\n",
       "      <th>mean</th>\n",
       "      <td>0.009773</td>\n",
       "      <td>0.009435</td>\n",
       "      <td>0.166975</td>\n",
       "      <td>0.166975</td>\n",
       "      <td>-2.120970e-16</td>\n",
       "      <td>0.166994</td>\n",
       "      <td>-0.000019</td>\n",
       "    </tr>\n",
       "    <tr>\n",
       "      <th>std</th>\n",
       "      <td>0.998836</td>\n",
       "      <td>1.001239</td>\n",
       "      <td>13.289365</td>\n",
       "      <td>5.682040</td>\n",
       "      <td>1.201339e+01</td>\n",
       "      <td>5.682077</td>\n",
       "      <td>12.013394</td>\n",
       "    </tr>\n",
       "    <tr>\n",
       "      <th>min</th>\n",
       "      <td>-3.656440</td>\n",
       "      <td>-3.451403</td>\n",
       "      <td>-50.654682</td>\n",
       "      <td>-20.688875</td>\n",
       "      <td>-4.142425e+01</td>\n",
       "      <td>-20.688991</td>\n",
       "      <td>-41.424248</td>\n",
       "    </tr>\n",
       "    <tr>\n",
       "      <th>25%</th>\n",
       "      <td>-0.662925</td>\n",
       "      <td>-0.672294</td>\n",
       "      <td>-8.827691</td>\n",
       "      <td>-3.659775</td>\n",
       "      <td>-8.199882e+00</td>\n",
       "      <td>-3.659781</td>\n",
       "      <td>-8.199908</td>\n",
       "    </tr>\n",
       "    <tr>\n",
       "      <th>50%</th>\n",
       "      <td>0.008454</td>\n",
       "      <td>0.018803</td>\n",
       "      <td>0.242724</td>\n",
       "      <td>0.159473</td>\n",
       "      <td>4.497835e-02</td>\n",
       "      <td>0.159493</td>\n",
       "      <td>0.044993</td>\n",
       "    </tr>\n",
       "    <tr>\n",
       "      <th>75%</th>\n",
       "      <td>0.671809</td>\n",
       "      <td>0.688683</td>\n",
       "      <td>9.232769</td>\n",
       "      <td>3.933075</td>\n",
       "      <td>8.147307e+00</td>\n",
       "      <td>3.933119</td>\n",
       "      <td>8.147305</td>\n",
       "    </tr>\n",
       "    <tr>\n",
       "      <th>max</th>\n",
       "      <td>4.026849</td>\n",
       "      <td>4.168118</td>\n",
       "      <td>48.162716</td>\n",
       "      <td>23.018769</td>\n",
       "      <td>5.000751e+01</td>\n",
       "      <td>23.018936</td>\n",
       "      <td>50.007515</td>\n",
       "    </tr>\n",
       "  </tbody>\n",
       "</table>\n",
       "</div>"
      ],
      "text/plain": [
       "                  x             u             y         yhat1         uhat1  \\\n",
       "count  10000.000000  10000.000000  10000.000000  10000.000000  1.000000e+04   \n",
       "mean       0.009773      0.009435      0.166975      0.166975 -2.120970e-16   \n",
       "std        0.998836      1.001239     13.289365      5.682040  1.201339e+01   \n",
       "min       -3.656440     -3.451403    -50.654682    -20.688875 -4.142425e+01   \n",
       "25%       -0.662925     -0.672294     -8.827691     -3.659775 -8.199882e+00   \n",
       "50%        0.008454      0.018803      0.242724      0.159473  4.497835e-02   \n",
       "75%        0.671809      0.688683      9.232769      3.933075  8.147307e+00   \n",
       "max        4.026849      4.168118     48.162716     23.018769  5.000751e+01   \n",
       "\n",
       "              yhat2         uhat2  \n",
       "count  10000.000000  10000.000000  \n",
       "mean       0.166994     -0.000019  \n",
       "std        5.682077     12.013394  \n",
       "min      -20.688991    -41.424248  \n",
       "25%       -3.659781     -8.199908  \n",
       "50%        0.159493      0.044993  \n",
       "75%        3.933119      8.147305  \n",
       "max       23.018936     50.007515  "
      ]
     },
     "execution_count": 58,
     "metadata": {},
     "output_type": "execute_result"
    }
   ],
   "source": [
    "df.describe()"
   ]
  },
  {
   "cell_type": "code",
   "execution_count": 59,
   "metadata": {},
   "outputs": [
    {
     "data": {
      "text/plain": [
       "-1.3096723705530167e-10"
      ]
     },
     "execution_count": 59,
     "metadata": {},
     "output_type": "execute_result"
    }
   ],
   "source": [
    "(df['yhat1'] * df['uhat1']).sum()"
   ]
  },
  {
   "cell_type": "code",
   "execution_count": 60,
   "metadata": {},
   "outputs": [
    {
     "data": {
      "image/png": "[encoded data removed]",
      "text/plain": [
       "<Figure size 640x480 with 1 Axes>"
      ]
     },
     "metadata": {},
     "output_type": "display_data"
    },
    {
     "data": {
      "text/plain": [
       "<ggplot: (8785856969489)>"
      ]
     },
     "execution_count": 60,
     "metadata": {},
     "output_type": "execute_result"
    }
   ],
   "source": [
    "p.ggplot(df, p.aes(x='x', y='y')) +\\\n",
    "    p.ggtitle(\"OLS Regression Line\") +\\\n",
    "    p.geom_point(size = 0.00001, color = \"black\", alpha = 0.5) +\\\n",
    "    p.geom_smooth(p.aes(x='x', y='y'), method = \"lm\", color = \"black\") +\\\n",
    "    p.annotate(\"text\", x = -1.5, y = 30, color = \"red\", \n",
    "             label = \"Intercept = {}\".format(-0.0732608)) +\\\n",
    "    p.annotate(\"text\", x = 1.5, y = -30, color = \"blue\", \n",
    "             label = \"Slope = {}\".format(5.685033))"
   ]
  },
  {
   "cell_type": "markdown",
   "metadata": {},
   "source": [
    "## Some algebraic properties of OLS"
   ]
  },
  {
   "cell_type": "markdown",
   "metadata": {},
   "source": [
    "### 1. The sum of the residuals, $\\sum u$, will always = 0"
   ]
  },
  {
   "cell_type": "markdown",
   "metadata": {},
   "source": [
    "### Note that the sum of the residuals, by design, will always equal 0. This is because the OLS fit minimized difference between the data points and the fitted line. More specifically, the OLS form is trying to find the best fit line that minimizes — leads to zero — residual error."
   ]
  },
  {
   "cell_type": "code",
   "execution_count": 61,
   "metadata": {},
   "outputs": [],
   "source": [
    "df['yhat'] = reg_df.predict(df)\n",
    "df['uhat'] = reg_df.resid"
   ]
  },
  {
   "cell_type": "code",
   "execution_count": 62,
   "metadata": {},
   "outputs": [
    {
     "data": {
      "text/html": [
       "<table class=\"simpletable\">\n",
       "<caption>OLS Regression Results</caption>\n",
       "<tr>\n",
       "  <th>Dep. Variable:</th>            <td>y</td>        <th>  R-squared:         </th> <td>   0.183</td> \n",
       "</tr>\n",
       "<tr>\n",
       "  <th>Model:</th>                   <td>OLS</td>       <th>  Adj. R-squared:    </th> <td>   0.183</td> \n",
       "</tr>\n",
       "<tr>\n",
       "  <th>Method:</th>             <td>Least Squares</td>  <th>  F-statistic:       </th> <td>   2237.</td> \n",
       "</tr>\n",
       "<tr>\n",
       "  <th>Date:</th>             <td>Sat, 21 May 2022</td> <th>  Prob (F-statistic):</th>  <td>  0.00</td>  \n",
       "</tr>\n",
       "<tr>\n",
       "  <th>Time:</th>                 <td>14:57:50</td>     <th>  Log-Likelihood:    </th> <td> -39049.</td> \n",
       "</tr>\n",
       "<tr>\n",
       "  <th>No. Observations:</th>      <td> 10000</td>      <th>  AIC:               </th> <td>7.810e+04</td>\n",
       "</tr>\n",
       "<tr>\n",
       "  <th>Df Residuals:</th>          <td>  9998</td>      <th>  BIC:               </th> <td>7.812e+04</td>\n",
       "</tr>\n",
       "<tr>\n",
       "  <th>Df Model:</th>              <td>     1</td>      <th>                     </th>     <td> </td>    \n",
       "</tr>\n",
       "<tr>\n",
       "  <th>Covariance Type:</th>      <td>nonrobust</td>    <th>                     </th>     <td> </td>    \n",
       "</tr>\n",
       "</table>\n",
       "<table class=\"simpletable\">\n",
       "<tr>\n",
       "      <td></td>         <th>coef</th>     <th>std err</th>      <th>t</th>      <th>P>|t|</th>  <th>[0.025</th>    <th>0.975]</th>  \n",
       "</tr>\n",
       "<tr>\n",
       "  <th>Intercept</th> <td>    0.1114</td> <td>    0.120</td> <td>    0.927</td> <td> 0.354</td> <td>   -0.124</td> <td>    0.347</td>\n",
       "</tr>\n",
       "<tr>\n",
       "  <th>x</th>         <td>    5.6887</td> <td>    0.120</td> <td>   47.293</td> <td> 0.000</td> <td>    5.453</td> <td>    5.924</td>\n",
       "</tr>\n",
       "</table>\n",
       "<table class=\"simpletable\">\n",
       "<tr>\n",
       "  <th>Omnibus:</th>       <td> 0.640</td> <th>  Durbin-Watson:     </th> <td>   2.050</td>\n",
       "</tr>\n",
       "<tr>\n",
       "  <th>Prob(Omnibus):</th> <td> 0.726</td> <th>  Jarque-Bera (JB):  </th> <td>   0.672</td>\n",
       "</tr>\n",
       "<tr>\n",
       "  <th>Skew:</th>          <td>-0.012</td> <th>  Prob(JB):          </th> <td>   0.715</td>\n",
       "</tr>\n",
       "<tr>\n",
       "  <th>Kurtosis:</th>      <td> 2.968</td> <th>  Cond. No.          </th> <td>    1.01</td>\n",
       "</tr>\n",
       "</table><br/><br/>Notes:<br/>[1] Standard Errors assume that the covariance matrix of the errors is correctly specified."
      ],
      "text/plain": [
       "<class 'statsmodels.iolib.summary.Summary'>\n",
       "\"\"\"\n",
       "                            OLS Regression Results                            \n",
       "==============================================================================\n",
       "Dep. Variable:                      y   R-squared:                       0.183\n",
       "Model:                            OLS   Adj. R-squared:                  0.183\n",
       "Method:                 Least Squares   F-statistic:                     2237.\n",
       "Date:                Sat, 21 May 2022   Prob (F-statistic):               0.00\n",
       "Time:                        14:57:50   Log-Likelihood:                -39049.\n",
       "No. Observations:               10000   AIC:                         7.810e+04\n",
       "Df Residuals:                    9998   BIC:                         7.812e+04\n",
       "Df Model:                           1                                         \n",
       "Covariance Type:            nonrobust                                         \n",
       "==============================================================================\n",
       "                 coef    std err          t      P>|t|      [0.025      0.975]\n",
       "------------------------------------------------------------------------------\n",
       "Intercept      0.1114      0.120      0.927      0.354      -0.124       0.347\n",
       "x              5.6887      0.120     47.293      0.000       5.453       5.924\n",
       "==============================================================================\n",
       "Omnibus:                        0.640   Durbin-Watson:                   2.050\n",
       "Prob(Omnibus):                  0.726   Jarque-Bera (JB):                0.672\n",
       "Skew:                          -0.012   Prob(JB):                        0.715\n",
       "Kurtosis:                       2.968   Cond. No.                         1.01\n",
       "==============================================================================\n",
       "\n",
       "Notes:\n",
       "[1] Standard Errors assume that the covariance matrix of the errors is correctly specified.\n",
       "\"\"\""
      ]
     },
     "execution_count": 62,
     "metadata": {},
     "output_type": "execute_result"
    }
   ],
   "source": [
    "reg_df.summary()"
   ]
  },
  {
   "cell_type": "code",
   "execution_count": 63,
   "metadata": {},
   "outputs": [
    {
     "name": "stdout",
     "output_type": "stream",
     "text": [
      "Residual sum = -1.6910917111090384e-12\n"
     ]
    },
    {
     "data": {
      "text/plain": [
       "True"
      ]
     },
     "execution_count": 63,
     "metadata": {},
     "output_type": "execute_result"
    }
   ],
   "source": [
    "print(f\"Residual sum = {df['uhat'].sum()}\")\n",
    "\n",
    "# The very small number has to do with rounding and floating point representation issues so\n",
    "# we can check with the np.allclose() method to make sure it is very close to zero.\n",
    "np.allclose(df['uhat'].sum(), 0)"
   ]
  },
  {
   "cell_type": "code",
   "execution_count": 64,
   "metadata": {},
   "outputs": [
    {
     "data": {
      "text/plain": [
       "-1.6910917111090384e-12"
      ]
     },
     "execution_count": 64,
     "metadata": {},
     "output_type": "execute_result"
    }
   ],
   "source": [
    "# Remember, this is just the difference between\n",
    "# the predicted y value (yhat) and the real value for y\n",
    "(df['y'] - df['yhat']).sum()"
   ]
  },
  {
   "cell_type": "markdown",
   "metadata": {},
   "source": [
    "### 2. Given what residuals represent: $\\hat{y} + \\hat{u} = y$"
   ]
  },
  {
   "cell_type": "code",
   "execution_count": 65,
   "metadata": {},
   "outputs": [
    {
     "data": {
      "text/plain": [
       "True"
      ]
     },
     "execution_count": 65,
     "metadata": {},
     "output_type": "execute_result"
    }
   ],
   "source": [
    "# This shows the difference for each value\n",
    "np.allclose(df['yhat'] + df['uhat'], df['y'])"
   ]
  },
  {
   "cell_type": "code",
   "execution_count": 66,
   "metadata": {},
   "outputs": [
    {
     "data": {
      "text/plain": [
       "True"
      ]
     },
     "execution_count": 66,
     "metadata": {},
     "output_type": "execute_result"
    }
   ],
   "source": [
    "# This shows the difference for the mean of all values\n",
    "np.allclose(\n",
    "    df['yhat'].mean() + df['uhat'].mean(),\n",
    "    df['y'].mean()\n",
    ")"
   ]
  },
  {
   "cell_type": "markdown",
   "metadata": {},
   "source": [
    "### 3. Again, by design, the residuals do not correlate with either the $x$ or $\\hat{y}$ variables."
   ]
  },
  {
   "cell_type": "code",
   "execution_count": 67,
   "metadata": {},
   "outputs": [],
   "source": [
    "import matplotlib.pyplot as plt"
   ]
  },
  {
   "cell_type": "markdown",
   "metadata": {},
   "source": [
    "#### First, we can show this visually"
   ]
  },
  {
   "cell_type": "code",
   "execution_count": 68,
   "metadata": {},
   "outputs": [
    {
     "data": {
      "text/plain": [
       "Text(0, 0.5, 'Residuals')"
      ]
     },
     "execution_count": 68,
     "metadata": {},
     "output_type": "execute_result"
    },
    {
     "data": {
      "image/png": "[encoded data removed]",
      "text/plain": [
       "<Figure size 576x576 with 1 Axes>"
      ]
     },
     "metadata": {
      "needs_background": "light"
     },
     "output_type": "display_data"
    }
   ],
   "source": [
    "plt.figure(figsize=(8,8))\n",
    "plt.title(\"No correlation between the residuals and the data\")\n",
    "plt.scatter(df['x'], df['uhat'], s=2, alpha=.5)\n",
    "plt.xlabel(\"Data points\")\n",
    "plt.ylabel(\"Residuals\")"
   ]
  },
  {
   "cell_type": "code",
   "execution_count": 69,
   "metadata": {},
   "outputs": [
    {
     "data": {
      "text/plain": [
       "Text(0, 0.5, 'Fitted values')"
      ]
     },
     "execution_count": 69,
     "metadata": {},
     "output_type": "execute_result"
    },
    {
     "data": {
      "image/png": "[encoded data removed]",
      "text/plain": [
       "<Figure size 576x576 with 1 Axes>"
      ]
     },
     "metadata": {
      "needs_background": "light"
     },
     "output_type": "display_data"
    }
   ],
   "source": [
    "plt.figure(figsize=(8,8))\n",
    "plt.title(\"No correlation between the residuals and the fitted values\")\n",
    "plt.scatter(df['yhat'], df['uhat'], s=2, alpha=.5)\n",
    "plt.xlabel(\"Data points\")\n",
    "plt.ylabel(\"Fitted values\")"
   ]
  },
  {
   "cell_type": "markdown",
   "metadata": {},
   "source": [
    "#### Next we can show this mathematically.\n",
    "\n",
    "First, we can just import and calculate the correlation using `scipy`..."
   ]
  },
  {
   "cell_type": "code",
   "execution_count": 70,
   "metadata": {},
   "outputs": [
    {
     "name": "stdout",
     "output_type": "stream",
     "text": [
      "Correlation = -2.0751629581372555e-16\n",
      "pvalue = 1.000000000006041\n"
     ]
    }
   ],
   "source": [
    "from scipy.stats import pearsonr\n",
    "\n",
    "r,pval = pearsonr(df['x'], df['uhat'])\n",
    "print(f'Correlation = {r}')\n",
    "print(f'pvalue = {pval}')"
   ]
  },
  {
   "cell_type": "code",
   "execution_count": 71,
   "metadata": {},
   "outputs": [
    {
     "name": "stdout",
     "output_type": "stream",
     "text": [
      "Correlation = -1.986258379993444e-16\n",
      "pvalue = 1.000000000006041\n"
     ]
    }
   ],
   "source": [
    "r,pval = pearsonr(df['yhat'], df['uhat'])\n",
    "print(f'Correlation = {r}')\n",
    "print(f'pvalue = {pval}')"
   ]
  },
  {
   "cell_type": "markdown",
   "metadata": {},
   "source": [
    "Lets also consider the equation for correlation:\n",
    "\n",
    "$$\n",
    "r = \\frac{\\sum(x_i - \\bar{x})(y_i - \\bar{y})}{\\sqrt{\\sum(x_i - \\bar{x})^2(y_i - \\bar{y})^2}}\n",
    "$$\n",
    "\n",
    "Since the mean value in the numerator is just subtracting away the average of each value, and the variance in the denominator is just a normalization factor, we can simply look at the sum of all these values — if they are not correlated at all, the value should equal zero. That is:\n",
    "\n",
    "If $\\mbox{correlation}(x,\\hat{u}) = 0$, then:\n",
    "\n",
    "$$\n",
    "\\sum x_i \\hat{u}_i = 0\n",
    "$$\n",
    "\n"
   ]
  },
  {
   "cell_type": "code",
   "execution_count": 72,
   "metadata": {},
   "outputs": [
    {
     "data": {
      "text/plain": [
       "True"
      ]
     },
     "execution_count": 72,
     "metadata": {},
     "output_type": "execute_result"
    }
   ],
   "source": [
    "np.allclose( (df['x'] * df['uhat']).sum(), 0)"
   ]
  },
  {
   "cell_type": "markdown",
   "metadata": {},
   "source": [
    "The same logic applies to the values of $\\hat{y}$ and $\\hat{u}$, so again: if $\\mbox{correlation}(\\hat{y},\\hat{u}) = 0$, then:\n",
    "\n",
    "$$\n",
    "\\sum \\hat{y}_i \\hat{u}_i = 0\n",
    "$$"
   ]
  },
  {
   "cell_type": "code",
   "execution_count": 73,
   "metadata": {},
   "outputs": [
    {
     "data": {
      "text/plain": [
       "True"
      ]
     },
     "execution_count": 73,
     "metadata": {},
     "output_type": "execute_result"
    }
   ],
   "source": [
    "np.allclose( (df['yhat'] * df['uhat']).sum(), 0)"
   ]
  },
  {
   "cell_type": "code",
   "execution_count": 74,
   "metadata": {},
   "outputs": [
    {
     "data": {
      "text/html": [
       "<div>\n",
       "<style scoped>\n",
       "    .dataframe tbody tr th:only-of-type {\n",
       "        vertical-align: middle;\n",
       "    }\n",
       "\n",
       "    .dataframe tbody tr th {\n",
       "        vertical-align: top;\n",
       "    }\n",
       "\n",
       "    .dataframe thead th {\n",
       "        text-align: right;\n",
       "    }\n",
       "</style>\n",
       "<table border=\"1\" class=\"dataframe\">\n",
       "  <thead>\n",
       "    <tr style=\"text-align: right;\">\n",
       "      <th></th>\n",
       "      <th>x</th>\n",
       "      <th>u</th>\n",
       "      <th>y</th>\n",
       "      <th>yhat1</th>\n",
       "      <th>uhat1</th>\n",
       "      <th>yhat2</th>\n",
       "      <th>uhat2</th>\n",
       "      <th>yhat</th>\n",
       "      <th>uhat</th>\n",
       "    </tr>\n",
       "  </thead>\n",
       "  <tbody>\n",
       "    <tr>\n",
       "      <th>0</th>\n",
       "      <td>1.624345</td>\n",
       "      <td>-0.122474</td>\n",
       "      <td>7.464213</td>\n",
       "      <td>9.351735</td>\n",
       "      <td>-1.887522</td>\n",
       "      <td>9.351813</td>\n",
       "      <td>-1.887601</td>\n",
       "      <td>9.351735</td>\n",
       "      <td>-1.887522</td>\n",
       "    </tr>\n",
       "    <tr>\n",
       "      <th>1</th>\n",
       "      <td>-0.611756</td>\n",
       "      <td>0.228170</td>\n",
       "      <td>-0.626622</td>\n",
       "      <td>-3.368695</td>\n",
       "      <td>2.742073</td>\n",
       "      <td>-3.368699</td>\n",
       "      <td>2.742076</td>\n",
       "      <td>-3.368695</td>\n",
       "      <td>2.742073</td>\n",
       "    </tr>\n",
       "    <tr>\n",
       "      <th>2</th>\n",
       "      <td>-0.528172</td>\n",
       "      <td>-0.352305</td>\n",
       "      <td>-7.132606</td>\n",
       "      <td>-2.893210</td>\n",
       "      <td>-4.239396</td>\n",
       "      <td>-2.893211</td>\n",
       "      <td>-4.239396</td>\n",
       "      <td>-2.893210</td>\n",
       "      <td>-4.239396</td>\n",
       "    </tr>\n",
       "    <tr>\n",
       "      <th>3</th>\n",
       "      <td>-1.072969</td>\n",
       "      <td>-0.830553</td>\n",
       "      <td>-15.867969</td>\n",
       "      <td>-5.992376</td>\n",
       "      <td>-9.875593</td>\n",
       "      <td>-5.992397</td>\n",
       "      <td>-9.875572</td>\n",
       "      <td>-5.992376</td>\n",
       "      <td>-9.875593</td>\n",
       "    </tr>\n",
       "    <tr>\n",
       "      <th>4</th>\n",
       "      <td>0.865408</td>\n",
       "      <td>-0.261090</td>\n",
       "      <td>1.626664</td>\n",
       "      <td>5.034394</td>\n",
       "      <td>-3.407730</td>\n",
       "      <td>5.034444</td>\n",
       "      <td>-3.407780</td>\n",
       "      <td>5.034394</td>\n",
       "      <td>-3.407730</td>\n",
       "    </tr>\n",
       "    <tr>\n",
       "      <th>...</th>\n",
       "      <td>...</td>\n",
       "      <td>...</td>\n",
       "      <td>...</td>\n",
       "      <td>...</td>\n",
       "      <td>...</td>\n",
       "      <td>...</td>\n",
       "      <td>...</td>\n",
       "      <td>...</td>\n",
       "      <td>...</td>\n",
       "    </tr>\n",
       "    <tr>\n",
       "      <th>9995</th>\n",
       "      <td>0.072959</td>\n",
       "      <td>-0.943208</td>\n",
       "      <td>-10.917229</td>\n",
       "      <td>0.526418</td>\n",
       "      <td>-11.443647</td>\n",
       "      <td>0.526439</td>\n",
       "      <td>-11.443668</td>\n",
       "      <td>0.526418</td>\n",
       "      <td>-11.443647</td>\n",
       "    </tr>\n",
       "    <tr>\n",
       "      <th>9996</th>\n",
       "      <td>0.489102</td>\n",
       "      <td>0.782216</td>\n",
       "      <td>12.076651</td>\n",
       "      <td>2.893719</td>\n",
       "      <td>9.182932</td>\n",
       "      <td>2.893755</td>\n",
       "      <td>9.182895</td>\n",
       "      <td>2.893719</td>\n",
       "      <td>9.182932</td>\n",
       "    </tr>\n",
       "    <tr>\n",
       "      <th>9997</th>\n",
       "      <td>-1.014144</td>\n",
       "      <td>2.408434</td>\n",
       "      <td>23.323415</td>\n",
       "      <td>-5.657741</td>\n",
       "      <td>28.981156</td>\n",
       "      <td>-5.657760</td>\n",
       "      <td>28.981175</td>\n",
       "      <td>-5.657741</td>\n",
       "      <td>28.981156</td>\n",
       "    </tr>\n",
       "    <tr>\n",
       "      <th>9998</th>\n",
       "      <td>-0.062696</td>\n",
       "      <td>0.882786</td>\n",
       "      <td>10.248597</td>\n",
       "      <td>-0.245276</td>\n",
       "      <td>10.493874</td>\n",
       "      <td>-0.245260</td>\n",
       "      <td>10.493857</td>\n",
       "      <td>-0.245276</td>\n",
       "      <td>10.493874</td>\n",
       "    </tr>\n",
       "    <tr>\n",
       "      <th>9999</th>\n",
       "      <td>-1.437870</td>\n",
       "      <td>-0.099596</td>\n",
       "      <td>-9.103440</td>\n",
       "      <td>-8.068176</td>\n",
       "      <td>-1.035264</td>\n",
       "      <td>-8.068210</td>\n",
       "      <td>-1.035230</td>\n",
       "      <td>-8.068176</td>\n",
       "      <td>-1.035264</td>\n",
       "    </tr>\n",
       "  </tbody>\n",
       "</table>\n",
       "<p>10000 rows × 9 columns</p>\n",
       "</div>"
      ],
      "text/plain": [
       "             x         u          y     yhat1      uhat1     yhat2      uhat2  \\\n",
       "0     1.624345 -0.122474   7.464213  9.351735  -1.887522  9.351813  -1.887601   \n",
       "1    -0.611756  0.228170  -0.626622 -3.368695   2.742073 -3.368699   2.742076   \n",
       "2    -0.528172 -0.352305  -7.132606 -2.893210  -4.239396 -2.893211  -4.239396   \n",
       "3    -1.072969 -0.830553 -15.867969 -5.992376  -9.875593 -5.992397  -9.875572   \n",
       "4     0.865408 -0.261090   1.626664  5.034394  -3.407730  5.034444  -3.407780   \n",
       "...        ...       ...        ...       ...        ...       ...        ...   \n",
       "9995  0.072959 -0.943208 -10.917229  0.526418 -11.443647  0.526439 -11.443668   \n",
       "9996  0.489102  0.782216  12.076651  2.893719   9.182932  2.893755   9.182895   \n",
       "9997 -1.014144  2.408434  23.323415 -5.657741  28.981156 -5.657760  28.981175   \n",
       "9998 -0.062696  0.882786  10.248597 -0.245276  10.493874 -0.245260  10.493857   \n",
       "9999 -1.437870 -0.099596  -9.103440 -8.068176  -1.035264 -8.068210  -1.035230   \n",
       "\n",
       "          yhat       uhat  \n",
       "0     9.351735  -1.887522  \n",
       "1    -3.368695   2.742073  \n",
       "2    -2.893210  -4.239396  \n",
       "3    -5.992376  -9.875593  \n",
       "4     5.034394  -3.407730  \n",
       "...        ...        ...  \n",
       "9995  0.526418 -11.443647  \n",
       "9996  2.893719   9.182932  \n",
       "9997 -5.657741  28.981156  \n",
       "9998 -0.245276  10.493874  \n",
       "9999 -8.068176  -1.035264  \n",
       "\n",
       "[10000 rows x 9 columns]"
      ]
     },
     "execution_count": 74,
     "metadata": {},
     "output_type": "execute_result"
    }
   ],
   "source": [
    "df"
   ]
  },
  {
   "cell_type": "code",
   "execution_count": 75,
   "metadata": {},
   "outputs": [
    {
     "data": {
      "text/plain": [
       "1765895.6166331377"
      ]
     },
     "execution_count": 75,
     "metadata": {},
     "output_type": "execute_result"
    }
   ],
   "source": [
    "((df['y'] - df['y'].mean())**2).sum()"
   ]
  },
  {
   "cell_type": "code",
   "execution_count": 76,
   "metadata": {},
   "outputs": [
    {
     "data": {
      "text/plain": [
       "1.6910917111090384e-12"
      ]
     },
     "execution_count": 76,
     "metadata": {},
     "output_type": "execute_result"
    }
   ],
   "source": [
    "(df['yhat'] - df['y']).sum()"
   ]
  },
  {
   "cell_type": "code",
   "execution_count": 78,
   "metadata": {},
   "outputs": [
    {
     "data": {
      "text/plain": [
       "0.1669745732103024"
      ]
     },
     "execution_count": 78,
     "metadata": {},
     "output_type": "execute_result"
    }
   ],
   "source": [
    "df['y'].mean()"
   ]
  },
  {
   "cell_type": "code",
   "execution_count": 79,
   "metadata": {},
   "outputs": [
    {
     "data": {
      "text/plain": [
       "-227.54652941865058"
      ]
     },
     "execution_count": 79,
     "metadata": {},
     "output_type": "execute_result"
    }
   ],
   "source": [
    "reg_df.params[\"x\"] * text_x"
   ]
  },
  {
   "cell_type": "code",
   "execution_count": 80,
   "metadata": {},
   "outputs": [
    {
     "data": {
      "text/plain": [
       "Text(0, 0.5, 'y-values')"
      ]
     },
     "execution_count": 80,
     "metadata": {},
     "output_type": "execute_result"
    },
    {
     "data": {
      "image/png": "[encoded data removed]",
      "text/plain": [
       "<Figure size 720x720 with 1 Axes>"
      ]
     },
     "metadata": {
      "needs_background": "light"
     },
     "output_type": "display_data"
    }
   ],
   "source": [
    "plt.figure(figsize=(10,10))\n",
    "\n",
    "# Plot the x and y data\n",
    "plt.scatter(df['x'], df['y'], s = 2, alpha=.3)\n",
    "\n",
    "text_x = -40\n",
    "text_y = reg_df.params[\"x\"] * text_x\n",
    "\n",
    "# plt.annotate(\n",
    "#     text = f\"Slope = {np.round(reg_df.params['x'], 4)}\",\n",
    "#     xy=(text_x,text_y + 10),\n",
    "#     rotation = 30,\n",
    "#     fontweight='bold',\n",
    "#     fontsize=14\n",
    "# )\n",
    "\n",
    "# Plot the fit line\n",
    "plt.plot(df['x'], df['yhat'], c='red')\n",
    "plt.annotate(\n",
    "    text = f\"mean(y) = mean(yhat)= {np.round(df['y'].mean(),4)}\",\n",
    "    xy=(-50,df['y'].mean()+5),\n",
    "    fontweight='bold',\n",
    "    fontsize=14\n",
    ")\n",
    "\n",
    "\n",
    "# plot the mean(y) value\n",
    "plt.hlines(y=df['y'].mean(), xmin=-50, xmax=40, color='black')\n",
    "\n",
    "plt.xlabel(\"x-values\")\n",
    "plt.ylabel(\"y-values\")\n"
   ]
  },
  {
   "cell_type": "markdown",
   "metadata": {},
   "source": [
    "# Goodness of fit\n",
    "\n",
    "\n",
    "## Different types of 'Sum of squares'\n",
    "\n",
    "### Total sum of squares (SST):\n",
    "\n",
    "$$\n",
    "\\mbox{SST} = \\sum(y_i - \\bar{y})^2\n",
    "$$\n",
    "\n",
    "This is the sum of the squared vertical distance between all data points and the mean $y$ value (black line above).\n",
    "\n",
    "### Explained sum of squares (SSE):\n",
    "\n",
    "$$\n",
    "\\mbox{SSE} = \\sum(\\hat{y}_i - \\bar{y})^2\n",
    "$$\n",
    "\n",
    "This is the sum of the squared vertical distance between all predicted $\\hat{y}$ values (those that fall on the red line above) and mean $y$ value (black line above).\n",
    "\n",
    "### Residual sum of squares (SSR):\n",
    "\n",
    "$$\n",
    "\\mbox{SSR} = \\sum \\hat{u}^2 = \\sum (y_i - \\hat{y}_i)^2\n",
    "$$\n",
    "\n",
    "This is the sum of the squared vertical distance between the predicted $\\hat{y}$ values (those that fall on the red line above) and the real $y$ values .\n",
    "\n",
    "\n",
    "\n"
   ]
  },
  {
   "cell_type": "markdown",
   "metadata": {},
   "source": [
    "## Lets visually represent what each of these mean by taking a smaller sample of random data and highlighting the error that each of the above metrics captures."
   ]
  },
  {
   "cell_type": "code",
   "execution_count": 104,
   "metadata": {},
   "outputs": [
    {
     "data": {
      "image/png": "[encoded data removed]",
      "text/plain": [
       "<Figure size 720x1080 with 3 Axes>"
      ]
     },
     "metadata": {
      "needs_background": "light"
     },
     "output_type": "display_data"
    }
   ],
   "source": [
    "num_data_points = 10\n",
    "\n",
    "df = pd.DataFrame(\n",
    "        {\n",
    "            'x': np.random.normal(size=num_data_points),\n",
    "            'u': np.random.normal(size=num_data_points)\n",
    "        }\n",
    "    )\n",
    "    \n",
    "# Feed all data points to into the equation: 3 + 2x + U\n",
    "df['y'] = 1 + 1.5*df['x'].values + df['u'].values\n",
    "\n",
    "# Fit the data\n",
    "reg_df = sm.OLS.from_formula('y ~ x', data=df).fit()\n",
    "\n",
    "# Predict the yvalues with the OLS regression fit\n",
    "df['yhat'] = reg_df.predict()\n",
    "\n",
    "plt.figure(figsize=(10,15))\n",
    "\n",
    "### Show sum of squares TOTAL\n",
    "# --------------------------\n",
    "plt.subplot(311)\n",
    "plt.title('SS Total error (not squared)', fontsize=16)\n",
    "\n",
    "# Plot the x and y data\n",
    "plt.scatter(df['x'], df['y'], s = 20, alpha=.75)\n",
    "\n",
    "# Plot the fit line\n",
    "plt.plot(df['x'], df['yhat'], c='red')\n",
    "plt.annotate(\n",
    "    text = f\"mean(y) = {np.round(df['y'].mean(),2)}\",\n",
    "    xy=(\n",
    "        df['x'].max() - ((df['x'].max() - df['x'].min()) *.25),\n",
    "        df['y'].mean() - ((df['y'].mean() - df['yhat'].min()) *.25),\n",
    "    ),\n",
    "    fontsize=14\n",
    ")\n",
    "\n",
    "\n",
    "# plot the mean(y) value\n",
    "plt.hlines(y=df['y'].mean(), xmin=df['x'].min(), xmax=df['x'].max(), color='black')\n",
    "\n",
    "plt.xlabel(\"x-values\")\n",
    "plt.ylabel(\"y-values\")\n",
    "\n",
    "ymean = df['y'].mean()\n",
    "\n",
    "for x in range(len(df)):\n",
    "    yval = df.iloc[x].y\n",
    "    xval = df.iloc[x].x\n",
    "    \n",
    "    if yval < ymean:\n",
    "        plt.vlines(xval, ymin=yval, ymax= ymean, color='grey')\n",
    "    elif yval > ymean:\n",
    "        plt.vlines(xval, ymin=ymean, ymax = yval, color='grey')\n",
    "\n",
    "        \n",
    "        \n",
    "### Show sum of squares EXPECTED\n",
    "# --------------------------\n",
    "plt.subplot(312)\n",
    "plt.title('SS Expected error (not squared)', fontsize=16)\n",
    "\n",
    "# Plot the x and y data\n",
    "plt.scatter(df['x'], df['y'], s = 20, alpha=.75)\n",
    "\n",
    "# Plot the fit line\n",
    "plt.plot(df['x'], df['yhat'], c='red', label='OLS fit line')\n",
    "plt.annotate(\n",
    "    text = f\"mean(y) = {np.round(df['y'].mean(),2)}\",\n",
    "    xy=(\n",
    "        df['x'].max() - ((df['x'].max() - df['x'].min()) *.25),\n",
    "        df['y'].mean() - ((df['y'].mean() - df['yhat'].min()) *.25),\n",
    "    ),\n",
    "    fontsize=14\n",
    ")\n",
    "\n",
    "plt.legend()\n",
    "\n",
    "# plot the mean(y) value\n",
    "plt.hlines(y=df['y'].mean(), xmin=df['x'].min(), xmax=df['x'].max(), color='black')\n",
    "\n",
    "plt.xlabel(\"x-values\")\n",
    "plt.ylabel(\"y-values\")\n",
    "\n",
    "\n",
    "for x in range(len(df)):\n",
    "    yval = df.iloc[x].yhat\n",
    "    xval = df.iloc[x].x\n",
    "    \n",
    "    if yval < ymean:\n",
    "        plt.vlines(xval, ymin=yval, ymax= ymean, color='grey')\n",
    "    elif yval > ymean:\n",
    "        plt.vlines(xval, ymin=ymean, ymax = yval, color='grey')\n",
    "        \n",
    "        \n",
    "        \n",
    "### Show sum of squares RESIDUAL\n",
    "# --------------------------\n",
    "plt.subplot(313)\n",
    "plt.title('SS Residual error (not squared)', fontsize=16)\n",
    "\n",
    "# Plot the x and y data\n",
    "plt.scatter(df['x'], df['y'], s = 20, alpha=.75)\n",
    "\n",
    "# Plot the fit line\n",
    "plt.plot(df['x'], df['yhat'], c='red', label='OLS fit line')\n",
    "plt.annotate(\n",
    "    text = f\"mean(y) = {np.round(df['y'].mean(),2)}\",\n",
    "    xy=(\n",
    "        df['x'].max() - ((df['x'].max() - df['x'].min()) *.25),\n",
    "        df['y'].mean() - ((df['y'].mean() - df['yhat'].min()) *.25),\n",
    "    ),\n",
    "    fontsize=14\n",
    ")\n",
    "\n",
    "plt.legend()\n",
    "\n",
    "# plot the mean(y) value\n",
    "plt.hlines(y=df['y'].mean(), xmin=df['x'].min(), xmax=df['x'].max(), color='black')\n",
    "\n",
    "plt.xlabel(\"x-values\")\n",
    "plt.ylabel(\"y-values\")\n",
    "\n",
    "\n",
    "for x in range(len(df)):\n",
    "    yhat = df.iloc[x].yhat\n",
    "    yval = df.iloc[x].y\n",
    "    xval = df.iloc[x].x\n",
    "    \n",
    "    if yval < yhat:\n",
    "        plt.vlines(xval, ymin=yval, ymax= yhat, color='grey')\n",
    "    elif yval > yhat:\n",
    "        plt.vlines(xval, ymin=yhat, ymax = yval, color='grey')\n",
    "    else:\n",
    "        print(\"Whoops!\",x,yhat,yval)\n",
    "\n",
    "plt.subplots_adjust(hspace=.3)"
   ]
  },
  {
   "cell_type": "markdown",
   "metadata": {},
   "source": [
    "## Now lets better understand what these metrics represent"
   ]
  },
  {
   "cell_type": "code",
   "execution_count": 105,
   "metadata": {},
   "outputs": [
    {
     "name": "stdout",
     "output_type": "stream",
     "text": [
      "SST = 24.7667\n",
      "SSE = 17.3390\n",
      "SSR = 7.4277\n"
     ]
    }
   ],
   "source": [
    "SST = sum((df['y'] - df['y'].mean())**2)\n",
    "SSE = sum((df['yhat'] - df['y'].mean())**2)\n",
    "SSR = sum((df['y'] - df['yhat'])**2)\n",
    "\n",
    "print(f\"SST = {SST:,.4f}\")\n",
    "print(f\"SSE = {SSE:,.4f}\")\n",
    "print(f\"SSR = {SSR:,.4f}\")"
   ]
  },
  {
   "cell_type": "markdown",
   "metadata": {},
   "source": [
    "### As mentioned in the book, if we divide each of these metrics by $n-1$, we will get the _sample variance_ of each. For example:\n",
    "\n",
    "$$\n",
    "\\frac{SST}{n-1} = \\mbox{sample variance of } y_i\n",
    "$$\n",
    "\n",
    "$$\n",
    "\\frac{SSE}{n-1} = \\mbox{sample variance of } \\hat{y}_i\n",
    "$$\n",
    "\n",
    "$$\n",
    "\\frac{SSR}{n-1} = \\mbox{sample variance of } u_i\n",
    "$$\n",
    "\n",
    "Overall, they represent the expected variance of the given metric from it's average (mean) value.\n",
    "\n",
    "\n",
    "### We can easily confirm this by using the builtin python methods to calculate the variance of each column\n"
   ]
  },
  {
   "cell_type": "code",
   "execution_count": 106,
   "metadata": {},
   "outputs": [
    {
     "name": "stdout",
     "output_type": "stream",
     "text": [
      "True\n",
      "True\n",
      "True\n"
     ]
    }
   ],
   "source": [
    "y_pd_var = df['y'].var()\n",
    "y_manual_var = SST/(len(df)-1)\n",
    "print(np.allclose(y_pd_var, y_manual_var))\n",
    "\n",
    "\n",
    "yhat_pd_var = df['yhat'].var()\n",
    "yhat_manual_var = SSE/(len(df)-1)\n",
    "print(np.allclose(yhat_pd_var, yhat_manual_var))\n",
    "\n",
    "\n",
    "df['uhat'] = reg_df.resid\n",
    "residual_pd_var = df['uhat'].var()\n",
    "residual_manual_var = SSR/(len(df)-1)\n",
    "print(np.allclose(residual_pd_var, residual_manual_var))"
   ]
  },
  {
   "cell_type": "markdown",
   "metadata": {},
   "source": [
    "### Also, note that:\n",
    "\n",
    "$$\n",
    "SST = SSE + SSR\n",
    "$$"
   ]
  },
  {
   "cell_type": "code",
   "execution_count": 107,
   "metadata": {},
   "outputs": [
    {
     "data": {
      "text/plain": [
       "True"
      ]
     },
     "execution_count": 107,
     "metadata": {},
     "output_type": "execute_result"
    }
   ],
   "source": [
    "ssr_and_SSE = SSR + SSE\n",
    "\n",
    "np.allclose(SST,ssr_and_SSE)"
   ]
  },
  {
   "cell_type": "markdown",
   "metadata": {},
   "source": [
    "### Assuming that $SST > 0$, we can use the variance measure to define the fraction of the total variation in $y_i$ that is explained by $x_i$ — i.e., by the OLS regression line as:\n",
    "\n",
    "$$\n",
    "R^2 = \\frac{SSE}{SST} = 1 - \\frac{SSR}{SST}\n",
    "$$\n",
    "\n",
    "Lets confirm this by calculating $R^2$ with built in methods."
   ]
  },
  {
   "cell_type": "code",
   "execution_count": 108,
   "metadata": {},
   "outputs": [
    {
     "name": "stdout",
     "output_type": "stream",
     "text": [
      "Manual R^2 = 0.7000927268294164\n"
     ]
    }
   ],
   "source": [
    "sse_and_sst_r2 = SSE/SST\n",
    "ssr_and_sst_r2 = 1 - (SSR/SST)\n",
    "if np.allclose(sse_and_sst_r2, ssr_and_sst_r2):\n",
    "    print(f\"Manual R^2 = {ssr_and_sst_r2}\")\n"
   ]
  },
  {
   "cell_type": "code",
   "execution_count": 109,
   "metadata": {},
   "outputs": [
    {
     "name": "stdout",
     "output_type": "stream",
     "text": [
      "Manual R^2 = 0.7000927268294161\n"
     ]
    },
    {
     "data": {
      "text/plain": [
       "True"
      ]
     },
     "execution_count": 109,
     "metadata": {},
     "output_type": "execute_result"
    }
   ],
   "source": [
    "r, pval = pearsonr(df['x'], df['y'])\n",
    "\n",
    "built_in_r2 = r**2\n",
    "\n",
    "print(f\"Manual R^2 = {built_in_r2}\")\n",
    "\n",
    "np.allclose(sse_and_sst_r2, built_in_r2)\n",
    "\n"
   ]
  },
  {
   "cell_type": "markdown",
   "metadata": {},
   "source": [
    "## The OLS is an unbiased estimator of $\\beta$ in the population because it's expected value across samples is the $\\beta$ value for the true population."
   ]
  },
  {
   "cell_type": "code",
   "execution_count": 110,
   "metadata": {},
   "outputs": [],
   "source": [
    "# Generate lots of random data, taking the beta coefficient each time\n",
    "\n",
    "coefs = np.zeros(1000)\n",
    "\n",
    "# For 1,000 random data sets...\n",
    "for i in range(1000):\n",
    "    \n",
    "    # Create 10,000 random observations\n",
    "    df = pd.DataFrame(\n",
    "        {\n",
    "            'x': 9*np.random.normal(size=10000),\n",
    "            'u': 36*np.random.normal(size=10000)\n",
    "        }\n",
    "    )\n",
    "    \n",
    "    # Feed all data points to into the equation: 3 + 2x + U\n",
    "    df['y'] = 3 + 2*df['x'].values + df['u'].values\n",
    "    \n",
    "    # Calculate the OLS fit\n",
    "    reg_df = sm.OLS.from_formula('y ~ x', data=df).fit()\n",
    "    \n",
    "    # Store the `x` coefficient, i.e., the B_1 estimate (i.e., \\hat{B_1})\n",
    "    coefs[i] = reg_df.params['x']"
   ]
  },
  {
   "cell_type": "code",
   "execution_count": 111,
   "metadata": {},
   "outputs": [
    {
     "data": {
      "text/plain": [
       "1.9991905625948667"
      ]
     },
     "execution_count": 111,
     "metadata": {},
     "output_type": "execute_result"
    }
   ],
   "source": [
    "coefs.mean()"
   ]
  },
  {
   "cell_type": "markdown",
   "metadata": {},
   "source": [
    "\n",
    "### Now we can create a histogram of those coefficients. As you can see below, the predicted coefficients correctly group around 2, as this was the coefficient that we fed into our equation above. That said, it is not always exactly 2 because we are creating random noise in the form of the random residual values. \n",
    "\n",
    "\n",
    "### If you rerun the equation above but comment out the `+ tb['u'].values` portion of line 15, you'll see that _all_ predicted coefficients are _exactly 2_ and the noise in the below histogram will go away."
   ]
  },
  {
   "cell_type": "code",
   "execution_count": 112,
   "metadata": {},
   "outputs": [
    {
     "data": {
      "image/png": "[encoded data removed]",
      "text/plain": [
       "<Figure size 720x360 with 1 Axes>"
      ]
     },
     "metadata": {
      "needs_background": "light"
     },
     "output_type": "display_data"
    }
   ],
   "source": [
    "plt.figure(figsize=(10,5))\n",
    "plt.title(\"OLS is an unbiased estimator of beta\")\n",
    "_ = plt.hist(coefs, bins='auto', label='beta estimates')\n",
    "plt.vlines(x=np.mean(coefs), ymin=0,ymax=120, color='red', label='mean beta')\n",
    "_ = plt.legend()"
   ]
  },
  {
   "cell_type": "code",
   "execution_count": null,
   "metadata": {},
   "outputs": [],
   "source": []
  },
  {
   "cell_type": "markdown",
   "metadata": {},
   "source": [
    "# Regression anatomy theorem\n",
    "\n",
    "The regression anatomy theorem is an idea taken from Angrist and Pischke ([2009](https://jonnyphillips.github.io/FLS6415/Class_3/Angrist%20&%20Pischke.pdf)). The idea is that the coefficient of variable $x$'s linear regression in a multiple regression is equivalent to the coefficient of a bivariate model using the _residual_ from a regression of that variable regressed on all the other variables. Regression anatomy provides an answer to the _how_ of control variables work.\n",
    "\n",
    "Below we work through this idea..."
   ]
  },
  {
   "cell_type": "code",
   "execution_count": 113,
   "metadata": {},
   "outputs": [],
   "source": [
    "auto = pd.read_stata('https://raw.github.com/scunning1975/mixtape/master/auto.dta')"
   ]
  },
  {
   "cell_type": "code",
   "execution_count": 114,
   "metadata": {},
   "outputs": [
    {
     "data": {
      "text/html": [
       "<div>\n",
       "<style scoped>\n",
       "    .dataframe tbody tr th:only-of-type {\n",
       "        vertical-align: middle;\n",
       "    }\n",
       "\n",
       "    .dataframe tbody tr th {\n",
       "        vertical-align: top;\n",
       "    }\n",
       "\n",
       "    .dataframe thead th {\n",
       "        text-align: right;\n",
       "    }\n",
       "</style>\n",
       "<table border=\"1\" class=\"dataframe\">\n",
       "  <thead>\n",
       "    <tr style=\"text-align: right;\">\n",
       "      <th></th>\n",
       "      <th>make</th>\n",
       "      <th>price</th>\n",
       "      <th>mpg</th>\n",
       "      <th>rep78</th>\n",
       "      <th>headroom</th>\n",
       "      <th>trunk</th>\n",
       "      <th>weight</th>\n",
       "      <th>length</th>\n",
       "      <th>turn</th>\n",
       "      <th>displacement</th>\n",
       "      <th>gear_ratio</th>\n",
       "      <th>foreign</th>\n",
       "    </tr>\n",
       "  </thead>\n",
       "  <tbody>\n",
       "    <tr>\n",
       "      <th>0</th>\n",
       "      <td>AMC Concord</td>\n",
       "      <td>4099</td>\n",
       "      <td>22</td>\n",
       "      <td>3.0</td>\n",
       "      <td>2.5</td>\n",
       "      <td>11</td>\n",
       "      <td>2930</td>\n",
       "      <td>186</td>\n",
       "      <td>40</td>\n",
       "      <td>121</td>\n",
       "      <td>3.58</td>\n",
       "      <td>Domestic</td>\n",
       "    </tr>\n",
       "    <tr>\n",
       "      <th>1</th>\n",
       "      <td>AMC Pacer</td>\n",
       "      <td>4749</td>\n",
       "      <td>17</td>\n",
       "      <td>3.0</td>\n",
       "      <td>3.0</td>\n",
       "      <td>11</td>\n",
       "      <td>3350</td>\n",
       "      <td>173</td>\n",
       "      <td>40</td>\n",
       "      <td>258</td>\n",
       "      <td>2.53</td>\n",
       "      <td>Domestic</td>\n",
       "    </tr>\n",
       "    <tr>\n",
       "      <th>2</th>\n",
       "      <td>AMC Spirit</td>\n",
       "      <td>3799</td>\n",
       "      <td>22</td>\n",
       "      <td>NaN</td>\n",
       "      <td>3.0</td>\n",
       "      <td>12</td>\n",
       "      <td>2640</td>\n",
       "      <td>168</td>\n",
       "      <td>35</td>\n",
       "      <td>121</td>\n",
       "      <td>3.08</td>\n",
       "      <td>Domestic</td>\n",
       "    </tr>\n",
       "    <tr>\n",
       "      <th>3</th>\n",
       "      <td>Buick Century</td>\n",
       "      <td>4816</td>\n",
       "      <td>20</td>\n",
       "      <td>3.0</td>\n",
       "      <td>4.5</td>\n",
       "      <td>16</td>\n",
       "      <td>3250</td>\n",
       "      <td>196</td>\n",
       "      <td>40</td>\n",
       "      <td>196</td>\n",
       "      <td>2.93</td>\n",
       "      <td>Domestic</td>\n",
       "    </tr>\n",
       "    <tr>\n",
       "      <th>4</th>\n",
       "      <td>Buick Electra</td>\n",
       "      <td>7827</td>\n",
       "      <td>15</td>\n",
       "      <td>4.0</td>\n",
       "      <td>4.0</td>\n",
       "      <td>20</td>\n",
       "      <td>4080</td>\n",
       "      <td>222</td>\n",
       "      <td>43</td>\n",
       "      <td>350</td>\n",
       "      <td>2.41</td>\n",
       "      <td>Domestic</td>\n",
       "    </tr>\n",
       "  </tbody>\n",
       "</table>\n",
       "</div>"
      ],
      "text/plain": [
       "            make  price  mpg  rep78  headroom  trunk  weight  length  turn  \\\n",
       "0    AMC Concord   4099   22    3.0       2.5     11    2930     186    40   \n",
       "1      AMC Pacer   4749   17    3.0       3.0     11    3350     173    40   \n",
       "2     AMC Spirit   3799   22    NaN       3.0     12    2640     168    35   \n",
       "3  Buick Century   4816   20    3.0       4.5     16    3250     196    40   \n",
       "4  Buick Electra   7827   15    4.0       4.0     20    4080     222    43   \n",
       "\n",
       "   displacement  gear_ratio   foreign  \n",
       "0           121        3.58  Domestic  \n",
       "1           258        2.53  Domestic  \n",
       "2           121        3.08  Domestic  \n",
       "3           196        2.93  Domestic  \n",
       "4           350        2.41  Domestic  "
      ]
     },
     "execution_count": 114,
     "metadata": {},
     "output_type": "execute_result"
    }
   ],
   "source": [
    "auto.head()"
   ]
  },
  {
   "cell_type": "code",
   "execution_count": 115,
   "metadata": {},
   "outputs": [],
   "source": [
    "# Characterizes the length as it's difference from the mean\n",
    "auto['length'] = auto['length'] - auto['length'].mean()"
   ]
  },
  {
   "cell_type": "code",
   "execution_count": 116,
   "metadata": {},
   "outputs": [],
   "source": [
    "# Regress price on ONLY LENGTH\n",
    "lm1 = sm.OLS.from_formula('price ~ length', data=auto).fit()\n",
    "\n",
    "# Multiple regression of price onto length controlling for weight, headroom, and mpg\n",
    "lm2 = sm.OLS.from_formula('price ~ length + weight + headroom + mpg', data=auto).fit()"
   ]
  },
  {
   "cell_type": "markdown",
   "metadata": {},
   "source": [
    "### Lets check out the results..."
   ]
  },
  {
   "cell_type": "code",
   "execution_count": 117,
   "metadata": {},
   "outputs": [
    {
     "data": {
      "text/html": [
       "<table class=\"simpletable\">\n",
       "<caption>OLS Regression Results</caption>\n",
       "<tr>\n",
       "  <th>Dep. Variable:</th>          <td>price</td>      <th>  R-squared:         </th> <td>   0.186</td>\n",
       "</tr>\n",
       "<tr>\n",
       "  <th>Model:</th>                   <td>OLS</td>       <th>  Adj. R-squared:    </th> <td>   0.175</td>\n",
       "</tr>\n",
       "<tr>\n",
       "  <th>Method:</th>             <td>Least Squares</td>  <th>  F-statistic:       </th> <td>   16.50</td>\n",
       "</tr>\n",
       "<tr>\n",
       "  <th>Date:</th>             <td>Sat, 21 May 2022</td> <th>  Prob (F-statistic):</th> <td>0.000122</td>\n",
       "</tr>\n",
       "<tr>\n",
       "  <th>Time:</th>                 <td>15:07:38</td>     <th>  Log-Likelihood:    </th> <td> -688.08</td>\n",
       "</tr>\n",
       "<tr>\n",
       "  <th>No. Observations:</th>      <td>    74</td>      <th>  AIC:               </th> <td>   1380.</td>\n",
       "</tr>\n",
       "<tr>\n",
       "  <th>Df Residuals:</th>          <td>    72</td>      <th>  BIC:               </th> <td>   1385.</td>\n",
       "</tr>\n",
       "<tr>\n",
       "  <th>Df Model:</th>              <td>     1</td>      <th>                     </th>     <td> </td>   \n",
       "</tr>\n",
       "<tr>\n",
       "  <th>Covariance Type:</th>      <td>nonrobust</td>    <th>                     </th>     <td> </td>   \n",
       "</tr>\n",
       "</table>\n",
       "<table class=\"simpletable\">\n",
       "<tr>\n",
       "      <td></td>         <th>coef</th>     <th>std err</th>      <th>t</th>      <th>P>|t|</th>  <th>[0.025</th>    <th>0.975]</th>  \n",
       "</tr>\n",
       "<tr>\n",
       "  <th>Intercept</th> <td> 6165.2568</td> <td>  311.395</td> <td>   19.799</td> <td> 0.000</td> <td> 5544.502</td> <td> 6786.011</td>\n",
       "</tr>\n",
       "<tr>\n",
       "  <th>length</th>    <td>   57.2022</td> <td>   14.080</td> <td>    4.063</td> <td> 0.000</td> <td>   29.133</td> <td>   85.271</td>\n",
       "</tr>\n",
       "</table>\n",
       "<table class=\"simpletable\">\n",
       "<tr>\n",
       "  <th>Omnibus:</th>       <td>22.617</td> <th>  Durbin-Watson:     </th> <td>   1.165</td>\n",
       "</tr>\n",
       "<tr>\n",
       "  <th>Prob(Omnibus):</th> <td> 0.000</td> <th>  Jarque-Bera (JB):  </th> <td>  30.201</td>\n",
       "</tr>\n",
       "<tr>\n",
       "  <th>Skew:</th>          <td> 1.378</td> <th>  Prob(JB):          </th> <td>2.77e-07</td>\n",
       "</tr>\n",
       "<tr>\n",
       "  <th>Kurtosis:</th>      <td> 4.484</td> <th>  Cond. No.          </th> <td>    22.1</td>\n",
       "</tr>\n",
       "</table><br/><br/>Notes:<br/>[1] Standard Errors assume that the covariance matrix of the errors is correctly specified."
      ],
      "text/plain": [
       "<class 'statsmodels.iolib.summary.Summary'>\n",
       "\"\"\"\n",
       "                            OLS Regression Results                            \n",
       "==============================================================================\n",
       "Dep. Variable:                  price   R-squared:                       0.186\n",
       "Model:                            OLS   Adj. R-squared:                  0.175\n",
       "Method:                 Least Squares   F-statistic:                     16.50\n",
       "Date:                Sat, 21 May 2022   Prob (F-statistic):           0.000122\n",
       "Time:                        15:07:38   Log-Likelihood:                -688.08\n",
       "No. Observations:                  74   AIC:                             1380.\n",
       "Df Residuals:                      72   BIC:                             1385.\n",
       "Df Model:                           1                                         \n",
       "Covariance Type:            nonrobust                                         \n",
       "==============================================================================\n",
       "                 coef    std err          t      P>|t|      [0.025      0.975]\n",
       "------------------------------------------------------------------------------\n",
       "Intercept   6165.2568    311.395     19.799      0.000    5544.502    6786.011\n",
       "length        57.2022     14.080      4.063      0.000      29.133      85.271\n",
       "==============================================================================\n",
       "Omnibus:                       22.617   Durbin-Watson:                   1.165\n",
       "Prob(Omnibus):                  0.000   Jarque-Bera (JB):               30.201\n",
       "Skew:                           1.378   Prob(JB):                     2.77e-07\n",
       "Kurtosis:                       4.484   Cond. No.                         22.1\n",
       "==============================================================================\n",
       "\n",
       "Notes:\n",
       "[1] Standard Errors assume that the covariance matrix of the errors is correctly specified.\n",
       "\"\"\""
      ]
     },
     "execution_count": 117,
     "metadata": {},
     "output_type": "execute_result"
    }
   ],
   "source": [
    "# Simple regression\n",
    "lm1.summary()"
   ]
  },
  {
   "cell_type": "markdown",
   "metadata": {},
   "source": [
    "### Now lets check out the multiple regression"
   ]
  },
  {
   "cell_type": "code",
   "execution_count": 118,
   "metadata": {},
   "outputs": [
    {
     "data": {
      "text/html": [
       "<table class=\"simpletable\">\n",
       "<caption>OLS Regression Results</caption>\n",
       "<tr>\n",
       "  <th>Dep. Variable:</th>          <td>price</td>      <th>  R-squared:         </th> <td>   0.372</td>\n",
       "</tr>\n",
       "<tr>\n",
       "  <th>Model:</th>                   <td>OLS</td>       <th>  Adj. R-squared:    </th> <td>   0.336</td>\n",
       "</tr>\n",
       "<tr>\n",
       "  <th>Method:</th>             <td>Least Squares</td>  <th>  F-statistic:       </th> <td>   10.21</td>\n",
       "</tr>\n",
       "<tr>\n",
       "  <th>Date:</th>             <td>Sat, 21 May 2022</td> <th>  Prob (F-statistic):</th> <td>1.49e-06</td>\n",
       "</tr>\n",
       "<tr>\n",
       "  <th>Time:</th>                 <td>15:07:38</td>     <th>  Log-Likelihood:    </th> <td> -678.50</td>\n",
       "</tr>\n",
       "<tr>\n",
       "  <th>No. Observations:</th>      <td>    74</td>      <th>  AIC:               </th> <td>   1367.</td>\n",
       "</tr>\n",
       "<tr>\n",
       "  <th>Df Residuals:</th>          <td>    69</td>      <th>  BIC:               </th> <td>   1379.</td>\n",
       "</tr>\n",
       "<tr>\n",
       "  <th>Df Model:</th>              <td>     4</td>      <th>                     </th>     <td> </td>   \n",
       "</tr>\n",
       "<tr>\n",
       "  <th>Covariance Type:</th>      <td>nonrobust</td>    <th>                     </th>     <td> </td>   \n",
       "</tr>\n",
       "</table>\n",
       "<table class=\"simpletable\">\n",
       "<tr>\n",
       "      <td></td>         <th>coef</th>     <th>std err</th>      <th>t</th>      <th>P>|t|</th>  <th>[0.025</th>    <th>0.975]</th>  \n",
       "</tr>\n",
       "<tr>\n",
       "  <th>Intercept</th> <td>-3581.3766</td> <td> 4538.813</td> <td>   -0.789</td> <td> 0.433</td> <td>-1.26e+04</td> <td> 5473.307</td>\n",
       "</tr>\n",
       "<tr>\n",
       "  <th>length</th>    <td>  -94.4965</td> <td>   40.396</td> <td>   -2.339</td> <td> 0.022</td> <td> -175.084</td> <td>  -13.909</td>\n",
       "</tr>\n",
       "<tr>\n",
       "  <th>weight</th>    <td>    4.3350</td> <td>    1.163</td> <td>    3.728</td> <td> 0.000</td> <td>    2.015</td> <td>    6.655</td>\n",
       "</tr>\n",
       "<tr>\n",
       "  <th>headroom</th>  <td> -490.9667</td> <td>  388.489</td> <td>   -1.264</td> <td> 0.211</td> <td>-1265.981</td> <td>  284.048</td>\n",
       "</tr>\n",
       "<tr>\n",
       "  <th>mpg</th>       <td>  -87.9584</td> <td>   83.593</td> <td>   -1.052</td> <td> 0.296</td> <td> -254.721</td> <td>   78.804</td>\n",
       "</tr>\n",
       "</table>\n",
       "<table class=\"simpletable\">\n",
       "<tr>\n",
       "  <th>Omnibus:</th>       <td> 5.211</td> <th>  Durbin-Watson:     </th> <td>   1.284</td>\n",
       "</tr>\n",
       "<tr>\n",
       "  <th>Prob(Omnibus):</th> <td> 0.074</td> <th>  Jarque-Bera (JB):  </th> <td>   5.062</td>\n",
       "</tr>\n",
       "<tr>\n",
       "  <th>Skew:</th>          <td> 0.639</td> <th>  Prob(JB):          </th> <td>  0.0796</td>\n",
       "</tr>\n",
       "<tr>\n",
       "  <th>Kurtosis:</th>      <td> 2.914</td> <th>  Cond. No.          </th> <td>5.06e+04</td>\n",
       "</tr>\n",
       "</table><br/><br/>Notes:<br/>[1] Standard Errors assume that the covariance matrix of the errors is correctly specified.<br/>[2] The condition number is large, 5.06e+04. This might indicate that there are<br/>strong multicollinearity or other numerical problems."
      ],
      "text/plain": [
       "<class 'statsmodels.iolib.summary.Summary'>\n",
       "\"\"\"\n",
       "                            OLS Regression Results                            \n",
       "==============================================================================\n",
       "Dep. Variable:                  price   R-squared:                       0.372\n",
       "Model:                            OLS   Adj. R-squared:                  0.336\n",
       "Method:                 Least Squares   F-statistic:                     10.21\n",
       "Date:                Sat, 21 May 2022   Prob (F-statistic):           1.49e-06\n",
       "Time:                        15:07:38   Log-Likelihood:                -678.50\n",
       "No. Observations:                  74   AIC:                             1367.\n",
       "Df Residuals:                      69   BIC:                             1379.\n",
       "Df Model:                           4                                         \n",
       "Covariance Type:            nonrobust                                         \n",
       "==============================================================================\n",
       "                 coef    std err          t      P>|t|      [0.025      0.975]\n",
       "------------------------------------------------------------------------------\n",
       "Intercept  -3581.3766   4538.813     -0.789      0.433   -1.26e+04    5473.307\n",
       "length       -94.4965     40.396     -2.339      0.022    -175.084     -13.909\n",
       "weight         4.3350      1.163      3.728      0.000       2.015       6.655\n",
       "headroom    -490.9667    388.489     -1.264      0.211   -1265.981     284.048\n",
       "mpg          -87.9584     83.593     -1.052      0.296    -254.721      78.804\n",
       "==============================================================================\n",
       "Omnibus:                        5.211   Durbin-Watson:                   1.284\n",
       "Prob(Omnibus):                  0.074   Jarque-Bera (JB):                5.062\n",
       "Skew:                           0.639   Prob(JB):                       0.0796\n",
       "Kurtosis:                       2.914   Cond. No.                     5.06e+04\n",
       "==============================================================================\n",
       "\n",
       "Notes:\n",
       "[1] Standard Errors assume that the covariance matrix of the errors is correctly specified.\n",
       "[2] The condition number is large, 5.06e+04. This might indicate that there are\n",
       "strong multicollinearity or other numerical problems.\n",
       "\"\"\""
      ]
     },
     "execution_count": 118,
     "metadata": {},
     "output_type": "execute_result"
    }
   ],
   "source": [
    "lm2.summary()\n"
   ]
  },
  {
   "cell_type": "markdown",
   "metadata": {},
   "source": [
    "### We can see here how the coeficient for `length` change significantly as we are controlling for the other variables and the relationship went from positive (increased car length -> increased price) to negative (increased car lenght -> reduced price)."
   ]
  },
  {
   "cell_type": "markdown",
   "metadata": {},
   "source": [
    "### Now we plot the different fit lines..."
   ]
  },
  {
   "cell_type": "code",
   "execution_count": 119,
   "metadata": {},
   "outputs": [
    {
     "data": {
      "text/plain": [
       "[<matplotlib.lines.Line2D at 0x7fd9e02eb4d0>]"
      ]
     },
     "execution_count": 119,
     "metadata": {},
     "output_type": "execute_result"
    },
    {
     "data": {
      "image/png": "[encoded data removed]",
      "text/plain": [
       "<Figure size 720x720 with 1 Axes>"
      ]
     },
     "metadata": {
      "needs_background": "light"
     },
     "output_type": "display_data"
    }
   ],
   "source": [
    "# Collect the parameters from each fit as well as the residuals from the multi-regress model\n",
    "coef_lm1 = lm1.params\n",
    "coef_lm2 = lm2.params\n",
    "resid_lm2 = lm2.resid\n",
    "\n",
    "# Using the intercept from the single (short) regression for both equations,\n",
    "# we predict the outcome variable using the coefficient from both regression models\n",
    "# This is our: y = B_0 + B_1*X equation\n",
    "auto['y_single'] = coef_lm1[0] + coef_lm1[1]*auto['length']\n",
    "auto['y_multi'] = coef_lm1[0] + coef_lm2[1]*auto['length']\n",
    "\n",
    "# Create the figure\n",
    "plt.figure(figsize = (10,10))\n",
    "plt.scatter(auto['length'], auto['price'])\n",
    "plt.plot(auto['length'], auto['y_multi'], color='blue')\n",
    "plt.plot(auto['length'], auto['y_single'], color='red')"
   ]
  },
  {
   "cell_type": "markdown",
   "metadata": {},
   "source": [
    "### The important part here, though, is yet to come. \n",
    "\n",
    "### Now we regress the `length` onto all of the other variables: `weight`, `headroom`, and `mpg`."
   ]
  },
  {
   "cell_type": "code",
   "execution_count": 120,
   "metadata": {},
   "outputs": [],
   "source": [
    "auxilliary_lm = sm.OLS.from_formula('length ~ weight + headroom + mpg', data=auto).fit()"
   ]
  },
  {
   "cell_type": "markdown",
   "metadata": {},
   "source": [
    "### Then we take the residuals"
   ]
  },
  {
   "cell_type": "code",
   "execution_count": 121,
   "metadata": {},
   "outputs": [
    {
     "data": {
      "text/plain": [
       "0      1.419421\n",
       "1    -24.341241\n",
       "2    -10.581583\n",
       "3     -0.858066\n",
       "4      4.472605\n",
       "        ...    \n",
       "69     6.277803\n",
       "70    -2.761974\n",
       "71    -5.494208\n",
       "72    -3.983675\n",
       "73     0.965546\n",
       "Name: regress_length_on_controls_resid, Length: 74, dtype: float64"
      ]
     },
     "execution_count": 121,
     "metadata": {},
     "output_type": "execute_result"
    }
   ],
   "source": [
    "auto['regress_length_on_controls_resid'] = auxilliary_lm.resid\n",
    "\n",
    "auto['regress_length_on_controls_resid']"
   ]
  },
  {
   "cell_type": "markdown",
   "metadata": {},
   "source": [
    "### Next we regress the price onto the _residuals_"
   ]
  },
  {
   "cell_type": "code",
   "execution_count": 122,
   "metadata": {},
   "outputs": [],
   "source": [
    "price_on_resid = sm.OLS.from_formula('price ~ regress_length_on_controls_resid', data=auto).fit()"
   ]
  },
  {
   "cell_type": "markdown",
   "metadata": {},
   "source": [
    "### If we again look at the summary, we can see that the coefficient of `regress_length_on_controls_resid` with respect to the price is *equal* to the full multiple regression model."
   ]
  },
  {
   "cell_type": "code",
   "execution_count": 123,
   "metadata": {},
   "outputs": [
    {
     "data": {
      "text/html": [
       "<table class=\"simpletable\">\n",
       "<caption>OLS Regression Results</caption>\n",
       "<tr>\n",
       "  <th>Dep. Variable:</th>          <td>price</td>      <th>  R-squared:         </th> <td>   0.050</td>\n",
       "</tr>\n",
       "<tr>\n",
       "  <th>Model:</th>                   <td>OLS</td>       <th>  Adj. R-squared:    </th> <td>   0.037</td>\n",
       "</tr>\n",
       "<tr>\n",
       "  <th>Method:</th>             <td>Least Squares</td>  <th>  F-statistic:       </th> <td>   3.774</td>\n",
       "</tr>\n",
       "<tr>\n",
       "  <th>Date:</th>             <td>Sat, 21 May 2022</td> <th>  Prob (F-statistic):</th>  <td>0.0560</td> \n",
       "</tr>\n",
       "<tr>\n",
       "  <th>Time:</th>                 <td>15:07:41</td>     <th>  Log-Likelihood:    </th> <td> -693.82</td>\n",
       "</tr>\n",
       "<tr>\n",
       "  <th>No. Observations:</th>      <td>    74</td>      <th>  AIC:               </th> <td>   1392.</td>\n",
       "</tr>\n",
       "<tr>\n",
       "  <th>Df Residuals:</th>          <td>    72</td>      <th>  BIC:               </th> <td>   1396.</td>\n",
       "</tr>\n",
       "<tr>\n",
       "  <th>Df Model:</th>              <td>     1</td>      <th>                     </th>     <td> </td>   \n",
       "</tr>\n",
       "<tr>\n",
       "  <th>Covariance Type:</th>      <td>nonrobust</td>    <th>                     </th>     <td> </td>   \n",
       "</tr>\n",
       "</table>\n",
       "<table class=\"simpletable\">\n",
       "<tr>\n",
       "                  <td></td>                    <th>coef</th>     <th>std err</th>      <th>t</th>      <th>P>|t|</th>  <th>[0.025</th>    <th>0.975]</th>  \n",
       "</tr>\n",
       "<tr>\n",
       "  <th>Intercept</th>                        <td> 6165.2568</td> <td>  336.536</td> <td>   18.320</td> <td> 0.000</td> <td> 5494.384</td> <td> 6836.130</td>\n",
       "</tr>\n",
       "<tr>\n",
       "  <th>regress_length_on_controls_resid</th> <td>  -94.4965</td> <td>   48.639</td> <td>   -1.943</td> <td> 0.056</td> <td> -191.457</td> <td>    2.464</td>\n",
       "</tr>\n",
       "</table>\n",
       "<table class=\"simpletable\">\n",
       "<tr>\n",
       "  <th>Omnibus:</th>       <td>17.465</td> <th>  Durbin-Watson:     </th> <td>   1.567</td>\n",
       "</tr>\n",
       "<tr>\n",
       "  <th>Prob(Omnibus):</th> <td> 0.000</td> <th>  Jarque-Bera (JB):  </th> <td>  20.745</td>\n",
       "</tr>\n",
       "<tr>\n",
       "  <th>Skew:</th>          <td> 1.238</td> <th>  Prob(JB):          </th> <td>3.13e-05</td>\n",
       "</tr>\n",
       "<tr>\n",
       "  <th>Kurtosis:</th>      <td> 3.773</td> <th>  Cond. No.          </th> <td>    6.92</td>\n",
       "</tr>\n",
       "</table><br/><br/>Notes:<br/>[1] Standard Errors assume that the covariance matrix of the errors is correctly specified."
      ],
      "text/plain": [
       "<class 'statsmodels.iolib.summary.Summary'>\n",
       "\"\"\"\n",
       "                            OLS Regression Results                            \n",
       "==============================================================================\n",
       "Dep. Variable:                  price   R-squared:                       0.050\n",
       "Model:                            OLS   Adj. R-squared:                  0.037\n",
       "Method:                 Least Squares   F-statistic:                     3.774\n",
       "Date:                Sat, 21 May 2022   Prob (F-statistic):             0.0560\n",
       "Time:                        15:07:41   Log-Likelihood:                -693.82\n",
       "No. Observations:                  74   AIC:                             1392.\n",
       "Df Residuals:                      72   BIC:                             1396.\n",
       "Df Model:                           1                                         \n",
       "Covariance Type:            nonrobust                                         \n",
       "====================================================================================================\n",
       "                                       coef    std err          t      P>|t|      [0.025      0.975]\n",
       "----------------------------------------------------------------------------------------------------\n",
       "Intercept                         6165.2568    336.536     18.320      0.000    5494.384    6836.130\n",
       "regress_length_on_controls_resid   -94.4965     48.639     -1.943      0.056    -191.457       2.464\n",
       "==============================================================================\n",
       "Omnibus:                       17.465   Durbin-Watson:                   1.567\n",
       "Prob(Omnibus):                  0.000   Jarque-Bera (JB):               20.745\n",
       "Skew:                           1.238   Prob(JB):                     3.13e-05\n",
       "Kurtosis:                       3.773   Cond. No.                         6.92\n",
       "==============================================================================\n",
       "\n",
       "Notes:\n",
       "[1] Standard Errors assume that the covariance matrix of the errors is correctly specified.\n",
       "\"\"\""
      ]
     },
     "execution_count": 123,
     "metadata": {},
     "output_type": "execute_result"
    }
   ],
   "source": [
    "price_on_resid.summary()"
   ]
  },
  {
   "cell_type": "markdown",
   "metadata": {},
   "source": [
    "### We can see this a bit more clearly if we just print the coefficients..."
   ]
  },
  {
   "cell_type": "code",
   "execution_count": 124,
   "metadata": {},
   "outputs": [
    {
     "data": {
      "text/plain": [
       "-94.49650952525573"
      ]
     },
     "execution_count": 124,
     "metadata": {},
     "output_type": "execute_result"
    }
   ],
   "source": [
    "lm2.params['length']"
   ]
  },
  {
   "cell_type": "code",
   "execution_count": 125,
   "metadata": {},
   "outputs": [
    {
     "data": {
      "text/plain": [
       "-94.49650952525647"
      ]
     },
     "execution_count": 125,
     "metadata": {},
     "output_type": "execute_result"
    }
   ],
   "source": [
    "price_on_resid.params['regress_length_on_controls_resid']"
   ]
  },
  {
   "cell_type": "code",
   "execution_count": null,
   "metadata": {},
   "outputs": [],
   "source": []
  },
  {
   "cell_type": "markdown",
   "metadata": {},
   "source": [
    "# Cluster Robust Standard Errors"
   ]
  },
  {
   "cell_type": "code",
   "execution_count": 202,
   "metadata": {},
   "outputs": [],
   "source": [
    "def gen_cluster(param = (.1, .5), n = 1000, n_cluster = 50, rho = .5):\n",
    "    \"\"\"\n",
    "    Generate clustered data.\n",
    "    \n",
    "    Parameters:\n",
    "    -----------\n",
    "    param (tuple) : (intercept, b1 [aka regression slope])\n",
    "    n (int) : number of observations\n",
    "    n_cluster (int) : number of clusters\n",
    "    rho (float) : controls error variance in generated data\n",
    "    \n",
    "    Returns:\n",
    "    ----------\n",
    "    - df (pd.dataframe) : data points and cluster values like below.\n",
    "        {'x':x, 'y':y, 'cluster': cluster_name}\n",
    "    \"\"\"\n",
    "\n",
    "    # Create individual level data\n",
    "    Sigma_i = np.array((1, 0, 0, 1 - rho)).reshape(2,2)\n",
    "    values_i = np.random.multivariate_normal(np.zeros(2), Sigma_i, size = n)\n",
    "\n",
    "    # Create cluster level data\n",
    "    cluster_name = np.repeat(np.arange(1, n_cluster+1), repeats = n / n_cluster)\n",
    "    Sigma_cl = np.array((1, 0, 0, rho)).reshape(2,2)\n",
    "    values_cl = np.random.multivariate_normal(np.zeros(2),Sigma_cl, size = n_cluster)\n",
    "\n",
    "    # Add cluster influence components to individual predictor values\n",
    "    # i.e., predictor var consists of individual- and cluster-level components\n",
    "    x = values_i[: , 0] + np.repeat(values_cl[: , 0], repeats = n / n_cluster)\n",
    "    \n",
    "    # Add cluster error components to individual error values\n",
    "    # i.e., error consists of individual- and cluster-level components\n",
    "    error = values_i[: , 1] + np.repeat(values_cl[: , 1], repeats = n / n_cluster)\n",
    "\n",
    "    # Use the parameters provided to generate the treatment effect\n",
    "    y = param[0] + param[1]*x + error\n",
    "    \n",
    "    df = pd.DataFrame({'x':x, 'y':y, 'cluster': cluster_name})\n",
    "    return df\n"
   ]
  },
  {
   "cell_type": "code",
   "execution_count": 284,
   "metadata": {},
   "outputs": [],
   "source": [
    "def cluster_sim(param = (.1, .5), n = 1000, n_cluster = 50, rho = .5, cluster_robust = False):\n",
    "    \"\"\"\n",
    "    Generate a single estimates of the regression slope (b1), the standard error of x (s3),\n",
    "    and 95% confidence intervals around the estimated b1 slope for a random set of data\n",
    "    generated (via `gen_cluster`) using the parameters provided.\n",
    "    \n",
    "    Parameters:\n",
    "    -----------\n",
    "    - Same as `gen_cluster`\n",
    "    - cluster_robust (bool): controls whether a clusters are considered or not\n",
    "    \n",
    "    Returns:\n",
    "    -----------\n",
    "    - (b1, se, b1_ci95_low, b1_ci95_high)\n",
    "    \n",
    "    \"\"\"\n",
    "    \n",
    "    df = gen_cluster(param = param, n = n , n_cluster = n_cluster, rho = rho)\n",
    "\n",
    "    if not cluster_robust:\n",
    "        fit = sm.OLS.from_formula('y ~ x', data = df).fit()\n",
    "    else: # cluster-robust SE\n",
    "        fit = sm.OLS.from_formula('y ~ x', data = df).fit(\n",
    "            cov_type='cluster', cov_kwds={'groups': df['cluster']}\n",
    "        )\n",
    "    \n",
    "    # Use the beta value (our hypothetical ground truth) to calcualte the 95% CI\n",
    "    b1 = fit.params[1]\n",
    "    Sigma = fit.cov_params()   \n",
    "    \n",
    "    # np.diag(Sigma) here = [var(intercept), var(x)]\n",
    "    se = np.sqrt(np.diag(Sigma)[1])\n",
    "    ci95 = se*1.96\n",
    "    b1_ci95_low = b1-ci95\n",
    "    b1_ci95_high = b1+ci95\n",
    "\n",
    "    return (b1, se, b1_ci95_low, b1_ci95_high)"
   ]
  },
  {
   "cell_type": "code",
   "execution_count": 285,
   "metadata": {},
   "outputs": [],
   "source": [
    "def run_cluster_sim(\n",
    "    n_sims = 1000,\n",
    "    param = (.1, .5),\n",
    "    n = 1000,\n",
    "    n_cluster = 50,\n",
    "    rho = .5,\n",
    "    cluster_robust = False\n",
    "):\n",
    "    \"\"\"\n",
    "    Create `n_sims` results of `cluster_sim`\n",
    "    \n",
    "    Returns:\n",
    "    ---------\n",
    "    df (pd.dataframe) results where columns are ['b1', 'se_b1', 'ci95_lower', 'ci95_upper']\n",
    "    \"\"\"\n",
    "\n",
    "    res = [\n",
    "        cluster_sim(\n",
    "            param = param, n = n, rho = rho,n_cluster = n_cluster, cluster_robust = cluster_robust\n",
    "        ) for x in range(n_sims)\n",
    "          ]\n",
    "    df = pd.DataFrame(res)\n",
    "    df.columns = ('b1', 'se_b1', 'ci95_lower', 'ci95_upper')\n",
    "    df['param_caught'] = (df['ci95_lower'] <= param[1]) & (param[1] <= df['ci95_upper'])\n",
    "    df['id'] = df.index\n",
    "    return df"
   ]
  },
  {
   "cell_type": "markdown",
   "metadata": {},
   "source": [
    "### First we set $\\rho=0$ which means that $x$ has no effect on $y$."
   ]
  },
  {
   "cell_type": "code",
   "execution_count": 356,
   "metadata": {},
   "outputs": [],
   "source": [
    "# [intercept, beta1] = [.4, 0]\n",
    "sim_params = [.4, 0]\n",
    "\n",
    "# Create 10k estimates with these parameters\n",
    "sim_nocluster = run_cluster_sim(\n",
    "    n_sims=10_000,\n",
    "    param = sim_params,\n",
    "    rho=0,\n",
    "    cluster_robust = False\n",
    ")"
   ]
  },
  {
   "cell_type": "code",
   "execution_count": 357,
   "metadata": {},
   "outputs": [
    {
     "data": {
      "text/plain": [
       "0.0546"
      ]
     },
     "execution_count": 357,
     "metadata": {},
     "output_type": "execute_result"
    }
   ],
   "source": [
    "(10_000 - sim_nocluster['param_caught'].sum())/10_000"
   ]
  },
  {
   "cell_type": "markdown",
   "metadata": {},
   "source": [
    "### Now we can check out how the 1k estimates did and we can see that the estimates are accurately being identified as surrounding the mean, which is 0. "
   ]
  },
  {
   "cell_type": "code",
   "execution_count": 374,
   "metadata": {},
   "outputs": [
    {
     "data": {
      "image/png": "[encoded data removed]",
      "text/plain": [
       "<Figure size 1080x432 with 1 Axes>"
      ]
     },
     "metadata": {
      "needs_background": "light"
     },
     "output_type": "display_data"
    }
   ],
   "source": [
    "plt.figure(figsize=(15,6))\n",
    "_ = plt.hist(sim_nocluster['b1'], bins='auto',zorder=2)\n",
    "plt.vlines(x=0,ymin=0,ymax=500, color='red',zorder=3, label='True beta_1')\n",
    "\n",
    "plt.xlim(-.2,.2)\n",
    "\n",
    "plt.legend()\n",
    "plt.xlabel(\"b1 estimates\")\n",
    "plt.ylabel(\"Number of observations\")\n",
    "plt.grid(zorder=0)"
   ]
  },
  {
   "cell_type": "code",
   "execution_count": 259,
   "metadata": {},
   "outputs": [],
   "source": [
    "import altair as alt"
   ]
  },
  {
   "cell_type": "markdown",
   "metadata": {},
   "source": [
    "### We can also see that, the clustering effects do not have any influence on how often we *incorrectly* reject the null hypothesis. Thus, with a CI 95%, we should get (approximately) a 5% rejection rate. I take samples of the returned 1000 simulations, but the average of the sample should match the simulations.\n",
    "\n",
    "### Remember that here, we are rejecting the null hypothesis that "
   ]
  },
  {
   "cell_type": "code",
   "execution_count": 362,
   "metadata": {},
   "outputs": [
    {
     "name": "stdout",
     "output_type": "stream",
     "text": [
      "Percent simulation rejected null 5.46%\n",
      "Percent rejected: 5.470700000000001%\n"
     ]
    }
   ],
   "source": [
    "print(f\"Percent simulation rejected null {((10_000 - sim_nocluster['param_caught'].sum()) / 10_000)*100}%\")\n",
    "\n",
    "prop_rejections = []\n",
    "\n",
    "sample_size = 100\n",
    "\n",
    "for x in range(10000):\n",
    "    sample_estimates = sim_nocluster.sample(sample_size)\n",
    "    prop_rejections.append(\n",
    "        (sample_size - sample_estimates['param_caught'].sum()) / sample_size\n",
    "    )\n",
    "\n",
    "mean_prop = np.mean(prop_rejections)\n",
    "\n",
    "print(f\"Percent rejected: {mean_prop*100}%\")"
   ]
  },
  {
   "cell_type": "markdown",
   "metadata": {},
   "source": [
    "### Run the cell below to repeatedly visualize the incorrect rejections..."
   ]
  },
  {
   "cell_type": "code",
   "execution_count": 377,
   "metadata": {},
   "outputs": [
    {
     "data": {
      "text/html": [
       "<div>\n",
       "<style scoped>\n",
       "    .dataframe tbody tr th:only-of-type {\n",
       "        vertical-align: middle;\n",
       "    }\n",
       "\n",
       "    .dataframe tbody tr th {\n",
       "        vertical-align: top;\n",
       "    }\n",
       "\n",
       "    .dataframe thead th {\n",
       "        text-align: right;\n",
       "    }\n",
       "</style>\n",
       "<table border=\"1\" class=\"dataframe\">\n",
       "  <thead>\n",
       "    <tr style=\"text-align: right;\">\n",
       "      <th></th>\n",
       "      <th>b1</th>\n",
       "      <th>se_b1</th>\n",
       "      <th>ci95_lower</th>\n",
       "      <th>ci95_upper</th>\n",
       "      <th>param_caught</th>\n",
       "      <th>id</th>\n",
       "    </tr>\n",
       "  </thead>\n",
       "  <tbody>\n",
       "    <tr>\n",
       "      <th>32</th>\n",
       "      <td>-0.065169</td>\n",
       "      <td>0.022815</td>\n",
       "      <td>-0.109886</td>\n",
       "      <td>-0.020451</td>\n",
       "      <td>False</td>\n",
       "      <td>32</td>\n",
       "    </tr>\n",
       "    <tr>\n",
       "      <th>50</th>\n",
       "      <td>-0.054248</td>\n",
       "      <td>0.021298</td>\n",
       "      <td>-0.095993</td>\n",
       "      <td>-0.012504</td>\n",
       "      <td>False</td>\n",
       "      <td>50</td>\n",
       "    </tr>\n",
       "    <tr>\n",
       "      <th>90</th>\n",
       "      <td>-0.053094</td>\n",
       "      <td>0.021940</td>\n",
       "      <td>-0.096096</td>\n",
       "      <td>-0.010092</td>\n",
       "      <td>False</td>\n",
       "      <td>90</td>\n",
       "    </tr>\n",
       "    <tr>\n",
       "      <th>34</th>\n",
       "      <td>-0.050743</td>\n",
       "      <td>0.023365</td>\n",
       "      <td>-0.096539</td>\n",
       "      <td>-0.004946</td>\n",
       "      <td>False</td>\n",
       "      <td>34</td>\n",
       "    </tr>\n",
       "    <tr>\n",
       "      <th>58</th>\n",
       "      <td>-0.050677</td>\n",
       "      <td>0.022187</td>\n",
       "      <td>-0.094164</td>\n",
       "      <td>-0.007190</td>\n",
       "      <td>False</td>\n",
       "      <td>58</td>\n",
       "    </tr>\n",
       "    <tr>\n",
       "      <th>...</th>\n",
       "      <td>...</td>\n",
       "      <td>...</td>\n",
       "      <td>...</td>\n",
       "      <td>...</td>\n",
       "      <td>...</td>\n",
       "      <td>...</td>\n",
       "    </tr>\n",
       "    <tr>\n",
       "      <th>47</th>\n",
       "      <td>0.039360</td>\n",
       "      <td>0.020654</td>\n",
       "      <td>-0.001121</td>\n",
       "      <td>0.079842</td>\n",
       "      <td>True</td>\n",
       "      <td>47</td>\n",
       "    </tr>\n",
       "    <tr>\n",
       "      <th>68</th>\n",
       "      <td>0.042444</td>\n",
       "      <td>0.023810</td>\n",
       "      <td>-0.004224</td>\n",
       "      <td>0.089111</td>\n",
       "      <td>True</td>\n",
       "      <td>68</td>\n",
       "    </tr>\n",
       "    <tr>\n",
       "      <th>37</th>\n",
       "      <td>0.044537</td>\n",
       "      <td>0.025607</td>\n",
       "      <td>-0.005653</td>\n",
       "      <td>0.094727</td>\n",
       "      <td>True</td>\n",
       "      <td>37</td>\n",
       "    </tr>\n",
       "    <tr>\n",
       "      <th>6</th>\n",
       "      <td>0.047256</td>\n",
       "      <td>0.021691</td>\n",
       "      <td>0.004743</td>\n",
       "      <td>0.089770</td>\n",
       "      <td>False</td>\n",
       "      <td>6</td>\n",
       "    </tr>\n",
       "    <tr>\n",
       "      <th>81</th>\n",
       "      <td>0.077877</td>\n",
       "      <td>0.022945</td>\n",
       "      <td>0.032905</td>\n",
       "      <td>0.122850</td>\n",
       "      <td>False</td>\n",
       "      <td>81</td>\n",
       "    </tr>\n",
       "  </tbody>\n",
       "</table>\n",
       "<p>100 rows × 6 columns</p>\n",
       "</div>"
      ],
      "text/plain": [
       "          b1     se_b1  ci95_lower  ci95_upper  param_caught  id\n",
       "32 -0.065169  0.022815   -0.109886   -0.020451         False  32\n",
       "50 -0.054248  0.021298   -0.095993   -0.012504         False  50\n",
       "90 -0.053094  0.021940   -0.096096   -0.010092         False  90\n",
       "34 -0.050743  0.023365   -0.096539   -0.004946         False  34\n",
       "58 -0.050677  0.022187   -0.094164   -0.007190         False  58\n",
       "..       ...       ...         ...         ...           ...  ..\n",
       "47  0.039360  0.020654   -0.001121    0.079842          True  47\n",
       "68  0.042444  0.023810   -0.004224    0.089111          True  68\n",
       "37  0.044537  0.025607   -0.005653    0.094727          True  37\n",
       "6   0.047256  0.021691    0.004743    0.089770         False   6\n",
       "81  0.077877  0.022945    0.032905    0.122850         False  81\n",
       "\n",
       "[100 rows x 6 columns]"
      ]
     },
     "execution_count": 377,
     "metadata": {},
     "output_type": "execute_result"
    }
   ],
   "source": [
    "sample_estimates"
   ]
  },
  {
   "cell_type": "code",
   "execution_count": 379,
   "metadata": {},
   "outputs": [
    {
     "data": {
      "text/html": [
       "<div>\n",
       "<style scoped>\n",
       "    .dataframe tbody tr th:only-of-type {\n",
       "        vertical-align: middle;\n",
       "    }\n",
       "\n",
       "    .dataframe tbody tr th {\n",
       "        vertical-align: top;\n",
       "    }\n",
       "\n",
       "    .dataframe thead th {\n",
       "        text-align: right;\n",
       "    }\n",
       "</style>\n",
       "<table border=\"1\" class=\"dataframe\">\n",
       "  <thead>\n",
       "    <tr style=\"text-align: right;\">\n",
       "      <th></th>\n",
       "      <th>b1</th>\n",
       "      <th>se_b1</th>\n",
       "      <th>ci95_lower</th>\n",
       "      <th>ci95_upper</th>\n",
       "      <th>param_caught</th>\n",
       "      <th>id</th>\n",
       "    </tr>\n",
       "  </thead>\n",
       "  <tbody>\n",
       "    <tr>\n",
       "      <th>81</th>\n",
       "      <td>0.077877</td>\n",
       "      <td>0.022945</td>\n",
       "      <td>0.032905</td>\n",
       "      <td>0.122850</td>\n",
       "      <td>False</td>\n",
       "      <td>81</td>\n",
       "    </tr>\n",
       "    <tr>\n",
       "      <th>6</th>\n",
       "      <td>0.047256</td>\n",
       "      <td>0.021691</td>\n",
       "      <td>0.004743</td>\n",
       "      <td>0.089770</td>\n",
       "      <td>False</td>\n",
       "      <td>6</td>\n",
       "    </tr>\n",
       "    <tr>\n",
       "      <th>37</th>\n",
       "      <td>0.044537</td>\n",
       "      <td>0.025607</td>\n",
       "      <td>-0.005653</td>\n",
       "      <td>0.094727</td>\n",
       "      <td>True</td>\n",
       "      <td>37</td>\n",
       "    </tr>\n",
       "    <tr>\n",
       "      <th>68</th>\n",
       "      <td>0.042444</td>\n",
       "      <td>0.023810</td>\n",
       "      <td>-0.004224</td>\n",
       "      <td>0.089111</td>\n",
       "      <td>True</td>\n",
       "      <td>68</td>\n",
       "    </tr>\n",
       "    <tr>\n",
       "      <th>47</th>\n",
       "      <td>0.039360</td>\n",
       "      <td>0.020654</td>\n",
       "      <td>-0.001121</td>\n",
       "      <td>0.079842</td>\n",
       "      <td>True</td>\n",
       "      <td>47</td>\n",
       "    </tr>\n",
       "    <tr>\n",
       "      <th>...</th>\n",
       "      <td>...</td>\n",
       "      <td>...</td>\n",
       "      <td>...</td>\n",
       "      <td>...</td>\n",
       "      <td>...</td>\n",
       "      <td>...</td>\n",
       "    </tr>\n",
       "    <tr>\n",
       "      <th>58</th>\n",
       "      <td>-0.050677</td>\n",
       "      <td>0.022187</td>\n",
       "      <td>-0.094164</td>\n",
       "      <td>-0.007190</td>\n",
       "      <td>False</td>\n",
       "      <td>58</td>\n",
       "    </tr>\n",
       "    <tr>\n",
       "      <th>34</th>\n",
       "      <td>-0.050743</td>\n",
       "      <td>0.023365</td>\n",
       "      <td>-0.096539</td>\n",
       "      <td>-0.004946</td>\n",
       "      <td>False</td>\n",
       "      <td>34</td>\n",
       "    </tr>\n",
       "    <tr>\n",
       "      <th>90</th>\n",
       "      <td>-0.053094</td>\n",
       "      <td>0.021940</td>\n",
       "      <td>-0.096096</td>\n",
       "      <td>-0.010092</td>\n",
       "      <td>False</td>\n",
       "      <td>90</td>\n",
       "    </tr>\n",
       "    <tr>\n",
       "      <th>50</th>\n",
       "      <td>-0.054248</td>\n",
       "      <td>0.021298</td>\n",
       "      <td>-0.095993</td>\n",
       "      <td>-0.012504</td>\n",
       "      <td>False</td>\n",
       "      <td>50</td>\n",
       "    </tr>\n",
       "    <tr>\n",
       "      <th>32</th>\n",
       "      <td>-0.065169</td>\n",
       "      <td>0.022815</td>\n",
       "      <td>-0.109886</td>\n",
       "      <td>-0.020451</td>\n",
       "      <td>False</td>\n",
       "      <td>32</td>\n",
       "    </tr>\n",
       "  </tbody>\n",
       "</table>\n",
       "<p>100 rows × 6 columns</p>\n",
       "</div>"
      ],
      "text/plain": [
       "          b1     se_b1  ci95_lower  ci95_upper  param_caught  id\n",
       "81  0.077877  0.022945    0.032905    0.122850         False  81\n",
       "6   0.047256  0.021691    0.004743    0.089770         False   6\n",
       "37  0.044537  0.025607   -0.005653    0.094727          True  37\n",
       "68  0.042444  0.023810   -0.004224    0.089111          True  68\n",
       "47  0.039360  0.020654   -0.001121    0.079842          True  47\n",
       "..       ...       ...         ...         ...           ...  ..\n",
       "58 -0.050677  0.022187   -0.094164   -0.007190         False  58\n",
       "34 -0.050743  0.023365   -0.096539   -0.004946         False  34\n",
       "90 -0.053094  0.021940   -0.096096   -0.010092         False  90\n",
       "50 -0.054248  0.021298   -0.095993   -0.012504         False  50\n",
       "32 -0.065169  0.022815   -0.109886   -0.020451         False  32\n",
       "\n",
       "[100 rows x 6 columns]"
      ]
     },
     "execution_count": 379,
     "metadata": {},
     "output_type": "execute_result"
    }
   ],
   "source": [
    "sample_estimates.sort_values('b1',ascending=False)"
   ]
  },
  {
   "cell_type": "code",
   "execution_count": 392,
   "metadata": {},
   "outputs": [
    {
     "data": {
      "text/html": [
       "\n",
       "<div id=\"altair-viz-906e9f9e55064a558034e5ffe4aef191\"></div>\n",
       "<script type=\"text/javascript\">\n",
       "  (function(spec, embedOpt){\n",
       "    let outputDiv = document.currentScript.previousElementSibling;\n",
       "    if (outputDiv.id !== \"altair-viz-906e9f9e55064a558034e5ffe4aef191\") {\n",
       "      outputDiv = document.getElementById(\"altair-viz-906e9f9e55064a558034e5ffe4aef191\");\n",
       "    }\n",
       "    const paths = {\n",
       "      \"vega\": \"https://cdn.jsdelivr.net/npm//vega@5?noext\",\n",
       "      \"vega-lib\": \"https://cdn.jsdelivr.net/npm//vega-lib?noext\",\n",
       "      \"vega-lite\": \"https://cdn.jsdelivr.net/npm//vega-lite@4.8.1?noext\",\n",
       "      \"vega-embed\": \"https://cdn.jsdelivr.net/npm//vega-embed@6?noext\",\n",
       "    };\n",
       "\n",
       "    function loadScript(lib) {\n",
       "      return new Promise(function(resolve, reject) {\n",
       "        var s = document.createElement('script');\n",
       "        s.src = paths[lib];\n",
       "        s.async = true;\n",
       "        s.onload = () => resolve(paths[lib]);\n",
       "        s.onerror = () => reject(`Error loading script: ${paths[lib]}`);\n",
       "        document.getElementsByTagName(\"head\")[0].appendChild(s);\n",
       "      });\n",
       "    }\n",
       "\n",
       "    function showError(err) {\n",
       "      outputDiv.innerHTML = `<div class=\"error\" style=\"color:red;\">${err}</div>`;\n",
       "      throw err;\n",
       "    }\n",
       "\n",
       "    function displayChart(vegaEmbed) {\n",
       "      vegaEmbed(outputDiv, spec, embedOpt)\n",
       "        .catch(err => showError(`Javascript Error: ${err.message}<br>This usually means there's a typo in your chart specification. See the javascript console for the full traceback.`));\n",
       "    }\n",
       "\n",
       "    if(typeof define === \"function\" && define.amd) {\n",
       "      requirejs.config({paths});\n",
       "      require([\"vega-embed\"], displayChart, err => showError(`Error loading script: ${err.message}`));\n",
       "    } else if (typeof vegaEmbed === \"function\") {\n",
       "      displayChart(vegaEmbed);\n",
       "    } else {\n",
       "      loadScript(\"vega\")\n",
       "        .then(() => loadScript(\"vega-lite\"))\n",
       "        .then(() => loadScript(\"vega-embed\"))\n",
       "        .catch(showError)\n",
       "        .then(() => displayChart(vegaEmbed));\n",
       "    }\n",
       "  })({\"config\": {\"view\": {\"continuousWidth\": 400, \"continuousHeight\": 300}, \"axis\": {\"labelFontSize\": 14, \"titleFontSize\": 15}, \"legend\": {\"labelFontSize\": 14, \"titleFontSize\": 15}, \"title\": {\"fontSize\": 15}}, \"layer\": [{\"data\": {\"name\": \"data-76307185ef8d269e3a03481e7625ea2d\"}, \"mark\": {\"type\": \"point\", \"filled\": true}, \"encoding\": {\"color\": {\"type\": \"nominal\", \"field\": \"param_caught\"}, \"x\": {\"type\": \"quantitative\", \"field\": \"b1\", \"title\": \"b1\"}, \"y\": {\"type\": \"quantitative\", \"field\": \"id\", \"title\": \"Sample ID\"}}, \"title\": \"100 Randomly chosen b1 estimates\"}, {\"data\": {\"name\": \"data-76307185ef8d269e3a03481e7625ea2d\"}, \"mark\": \"line\", \"encoding\": {\"color\": {\"type\": \"nominal\", \"field\": \"param_caught\", \"scale\": {\"domain\": [true, false], \"range\": [\"black\", \"red\"]}, \"title\": [\"True b1\", \"parameter value (0)\", \"captured within CI\"]}, \"x\": {\"type\": \"quantitative\", \"field\": \"ci95_lower\"}, \"x2\": {\"field\": \"ci95_upper\"}, \"y\": {\"type\": \"quantitative\", \"field\": \"id\"}}}, {\"data\": {\"name\": \"data-9c00aa9dc2b1c1a0b4bf9b34ead12925\"}, \"mark\": \"rule\", \"encoding\": {\"x\": {\"type\": \"quantitative\", \"field\": \"x\"}}}], \"height\": 700, \"$schema\": \"https://vega.github.io/schema/vega-lite/v4.8.1.json\", \"datasets\": {\"data-76307185ef8d269e3a03481e7625ea2d\": [{\"b1\": -0.05760188986066788, \"se_b1\": 0.02352588611848936, \"ci95_lower\": -0.10371262665290702, \"ci95_upper\": -0.011491153068428739, \"param_caught\": false, \"id\": 0}, {\"b1\": -0.0456266410117145, \"se_b1\": 0.02140364018235249, \"ci95_lower\": -0.08757777576912537, \"ci95_upper\": -0.003675506254303622, \"param_caught\": false, \"id\": 1}, {\"b1\": -0.044118745771684786, \"se_b1\": 0.023512341342426232, \"ci95_lower\": -0.0902029348028402, \"ci95_upper\": 0.0019654432594706298, \"param_caught\": true, \"id\": 2}, {\"b1\": -0.03942433989250539, \"se_b1\": 0.023825744092512938, \"ci95_lower\": -0.08612279831383074, \"ci95_upper\": 0.007274118528819963, \"param_caught\": true, \"id\": 3}, {\"b1\": -0.03801674521393553, \"se_b1\": 0.020985419689127677, \"ci95_lower\": -0.07914816780462577, \"ci95_upper\": 0.003114677376754721, \"param_caught\": true, \"id\": 4}, {\"b1\": -0.03513481984676361, \"se_b1\": 0.02252341990277693, \"ci95_lower\": -0.07928072285620638, \"ci95_upper\": 0.009011083162679172, \"param_caught\": true, \"id\": 5}, {\"b1\": -0.03497457122039065, \"se_b1\": 0.023277201686286764, \"ci95_lower\": -0.08059788652551271, \"ci95_upper\": 0.010648744084731404, \"param_caught\": true, \"id\": 6}, {\"b1\": -0.0346738149485228, \"se_b1\": 0.022622215629492785, \"ci95_lower\": -0.07901335758232866, \"ci95_upper\": 0.009665727685283058, \"param_caught\": true, \"id\": 7}, {\"b1\": -0.030312374687940465, \"se_b1\": 0.023106617992602756, \"ci95_lower\": -0.07560134595344187, \"ci95_upper\": 0.014976596577560938, \"param_caught\": true, \"id\": 8}, {\"b1\": -0.026134471517935437, \"se_b1\": 0.02112694665104315, \"ci95_lower\": -0.06754328695398001, \"ci95_upper\": 0.01527434391810914, \"param_caught\": true, \"id\": 9}, {\"b1\": -0.026056148809854057, \"se_b1\": 0.020901056535949123, \"ci95_lower\": -0.06702221962031434, \"ci95_upper\": 0.014909922000606226, \"param_caught\": true, \"id\": 10}, {\"b1\": -0.025371673280775546, \"se_b1\": 0.021742827981726484, \"ci95_lower\": -0.06798761612495946, \"ci95_upper\": 0.01724426956340836, \"param_caught\": true, \"id\": 11}, {\"b1\": -0.024093485166502435, \"se_b1\": 0.021361260533308897, \"ci95_lower\": -0.06596155581178786, \"ci95_upper\": 0.017774585478783002, \"param_caught\": true, \"id\": 12}, {\"b1\": -0.02261845883686558, \"se_b1\": 0.02415667604631085, \"ci95_lower\": -0.06996554388763485, \"ci95_upper\": 0.02472862621390368, \"param_caught\": true, \"id\": 13}, {\"b1\": -0.022256169457748585, \"se_b1\": 0.02099677034362808, \"ci95_lower\": -0.06340983933125961, \"ci95_upper\": 0.018897500415762446, \"param_caught\": true, \"id\": 14}, {\"b1\": -0.021918050402230237, \"se_b1\": 0.022517641590095495, \"ci95_lower\": -0.06605262791881741, \"ci95_upper\": 0.022216527114356933, \"param_caught\": true, \"id\": 15}, {\"b1\": -0.0218854782146172, \"se_b1\": 0.024364266036294213, \"ci95_lower\": -0.06963943964575386, \"ci95_upper\": 0.02586848321651946, \"param_caught\": true, \"id\": 16}, {\"b1\": -0.02139535204155456, \"se_b1\": 0.021846661085726412, \"ci95_lower\": -0.06421480776957833, \"ci95_upper\": 0.021424103686469204, \"param_caught\": true, \"id\": 17}, {\"b1\": -0.020046078318847912, \"se_b1\": 0.021773117385779188, \"ci95_lower\": -0.06272138839497512, \"ci95_upper\": 0.022629231757279298, \"param_caught\": true, \"id\": 18}, {\"b1\": -0.01993517699942008, \"se_b1\": 0.023272978033339328, \"ci95_lower\": -0.06555021394476516, \"ci95_upper\": 0.025679859945925004, \"param_caught\": true, \"id\": 19}, {\"b1\": -0.019852162104041365, \"se_b1\": 0.024263870274132442, \"ci95_lower\": -0.06740934784134095, \"ci95_upper\": 0.02770502363325822, \"param_caught\": true, \"id\": 20}, {\"b1\": -0.019209502587688554, \"se_b1\": 0.022816676270722827, \"ci95_lower\": -0.06393018807830529, \"ci95_upper\": 0.025511182902928184, \"param_caught\": true, \"id\": 21}, {\"b1\": -0.019035624272799624, \"se_b1\": 0.021746535871773064, \"ci95_lower\": -0.06165883458147483, \"ci95_upper\": 0.02358758603587558, \"param_caught\": true, \"id\": 22}, {\"b1\": -0.01829657808004527, \"se_b1\": 0.020692317201530554, \"ci95_lower\": -0.058853519795045155, \"ci95_upper\": 0.022260363634954615, \"param_caught\": true, \"id\": 23}, {\"b1\": -0.016090293650507223, \"se_b1\": 0.019550093202865295, \"ci95_lower\": -0.0544084763281232, \"ci95_upper\": 0.022227889027108753, \"param_caught\": true, \"id\": 24}, {\"b1\": -0.014909663419509207, \"se_b1\": 0.02260126589036429, \"ci95_lower\": -0.05920814456462322, \"ci95_upper\": 0.029388817725604803, \"param_caught\": true, \"id\": 25}, {\"b1\": -0.01474752497974658, \"se_b1\": 0.019750478327961677, \"ci95_lower\": -0.053458462502551464, \"ci95_upper\": 0.023963412543058303, \"param_caught\": true, \"id\": 26}, {\"b1\": -0.014635086840294905, \"se_b1\": 0.021531263641324606, \"ci95_lower\": -0.05683636357729113, \"ci95_upper\": 0.027566189896701326, \"param_caught\": true, \"id\": 27}, {\"b1\": -0.014585928172759777, \"se_b1\": 0.023947895957372147, \"ci95_lower\": -0.06152380424920918, \"ci95_upper\": 0.03235194790368963, \"param_caught\": true, \"id\": 28}, {\"b1\": -0.014023112130638362, \"se_b1\": 0.023799823010593923, \"ci95_lower\": -0.060670765231402454, \"ci95_upper\": 0.03262454097012572, \"param_caught\": true, \"id\": 29}, {\"b1\": -0.013508868780633718, \"se_b1\": 0.023234831010791535, \"ci95_lower\": -0.05904913756178513, \"ci95_upper\": 0.03203140000051769, \"param_caught\": true, \"id\": 30}, {\"b1\": -0.012974505687629305, \"se_b1\": 0.023794169259779143, \"ci95_lower\": -0.059611077436796424, \"ci95_upper\": 0.033662066061537814, \"param_caught\": true, \"id\": 31}, {\"b1\": -0.012803785669939302, \"se_b1\": 0.022820018577656392, \"ci95_lower\": -0.05753102208214583, \"ci95_upper\": 0.031923450742267226, \"param_caught\": true, \"id\": 32}, {\"b1\": -0.012106111447169157, \"se_b1\": 0.02156238340853909, \"ci95_lower\": -0.05436838292790577, \"ci95_upper\": 0.030156160033567456, \"param_caught\": true, \"id\": 33}, {\"b1\": -0.010801620978693626, \"se_b1\": 0.0236695684131815, \"ci95_lower\": -0.057193975068529364, \"ci95_upper\": 0.035590733111142116, \"param_caught\": true, \"id\": 34}, {\"b1\": -0.010354117299238092, \"se_b1\": 0.024257443817528576, \"ci95_lower\": -0.057898707181594095, \"ci95_upper\": 0.03719047258311792, \"param_caught\": true, \"id\": 35}, {\"b1\": -0.00982391929131256, \"se_b1\": 0.021453470720313523, \"ci95_lower\": -0.05187272190312706, \"ci95_upper\": 0.03222488332050195, \"param_caught\": true, \"id\": 36}, {\"b1\": -0.009633811097644192, \"se_b1\": 0.020776640378481214, \"ci95_lower\": -0.05035602623946737, \"ci95_upper\": 0.031088404044178987, \"param_caught\": true, \"id\": 37}, {\"b1\": -0.009615515193065369, \"se_b1\": 0.02162523149746229, \"ci95_lower\": -0.05200096892809145, \"ci95_upper\": 0.03276993854196072, \"param_caught\": true, \"id\": 38}, {\"b1\": -0.007833044012438662, \"se_b1\": 0.023445834644377554, \"ci95_lower\": -0.05378687991541867, \"ci95_upper\": 0.038120791890541336, \"param_caught\": true, \"id\": 39}, {\"b1\": -0.007138649144376375, \"se_b1\": 0.020883595671828112, \"ci95_lower\": -0.04807049666115947, \"ci95_upper\": 0.03379319837240672, \"param_caught\": true, \"id\": 40}, {\"b1\": -0.006179031271242704, \"se_b1\": 0.02131663593494288, \"ci95_lower\": -0.04795963770373075, \"ci95_upper\": 0.03560157516124534, \"param_caught\": true, \"id\": 41}, {\"b1\": -0.004548392928520155, \"se_b1\": 0.021903717082616188, \"ci95_lower\": -0.04747967841044788, \"ci95_upper\": 0.03838289255340757, \"param_caught\": true, \"id\": 42}, {\"b1\": -0.004024374130966454, \"se_b1\": 0.02301434152708132, \"ci95_lower\": -0.04913248352404584, \"ci95_upper\": 0.04108373526211294, \"param_caught\": true, \"id\": 43}, {\"b1\": -0.003844682907471607, \"se_b1\": 0.02353901394425236, \"ci95_lower\": -0.049981150238206234, \"ci95_upper\": 0.04229178442326302, \"param_caught\": true, \"id\": 44}, {\"b1\": -0.0012522277154683164, \"se_b1\": 0.022988106941688246, \"ci95_lower\": -0.04630891732117728, \"ci95_upper\": 0.04380446189024064, \"param_caught\": true, \"id\": 45}, {\"b1\": -0.0010912408665519138, \"se_b1\": 0.024772080291135708, \"ci95_lower\": -0.0496445182371779, \"ci95_upper\": 0.04746203650407407, \"param_caught\": true, \"id\": 46}, {\"b1\": -0.0009679140286968694, \"se_b1\": 0.023177807499660415, \"ci95_lower\": -0.046396416728031284, \"ci95_upper\": 0.04446058867063754, \"param_caught\": true, \"id\": 47}, {\"b1\": -0.0002533939084608317, \"se_b1\": 0.0240129387919003, \"ci95_lower\": -0.04731875394058542, \"ci95_upper\": 0.046811966123663756, \"param_caught\": true, \"id\": 48}, {\"b1\": 0.00021373645661433745, \"se_b1\": 0.020517540112852072, \"ci95_lower\": -0.040000642164575724, \"ci95_upper\": 0.040428115077804395, \"param_caught\": true, \"id\": 49}, {\"b1\": 0.0003825805729494165, \"se_b1\": 0.02369323101114754, \"ci95_lower\": -0.04605615220889976, \"ci95_upper\": 0.0468213133547986, \"param_caught\": true, \"id\": 50}, {\"b1\": 0.00047625067944664055, \"se_b1\": 0.022006685637140627, \"ci95_lower\": -0.04265685316934899, \"ci95_upper\": 0.04360935452824227, \"param_caught\": true, \"id\": 51}, {\"b1\": 0.0014511860423441318, \"se_b1\": 0.0230008592597048, \"ci95_lower\": -0.04363049810667728, \"ci95_upper\": 0.04653287019136554, \"param_caught\": true, \"id\": 52}, {\"b1\": 0.0026425029403687123, \"se_b1\": 0.024601982566531937, \"ci95_lower\": -0.045577382890033886, \"ci95_upper\": 0.05086238877077131, \"param_caught\": true, \"id\": 53}, {\"b1\": 0.0033627603979825547, \"se_b1\": 0.020987380075306396, \"ci95_lower\": -0.03777250454961798, \"ci95_upper\": 0.044498025345583093, \"param_caught\": true, \"id\": 54}, {\"b1\": 0.003502938770746429, \"se_b1\": 0.020527982697936827, \"ci95_lower\": -0.03673190731720975, \"ci95_upper\": 0.04373778485870261, \"param_caught\": true, \"id\": 55}, {\"b1\": 0.003744530906524178, \"se_b1\": 0.023786576093715775, \"ci95_lower\": -0.04287715823715874, \"ci95_upper\": 0.0503662200502071, \"param_caught\": true, \"id\": 56}, {\"b1\": 0.004077951954751241, \"se_b1\": 0.02239768546429831, \"ci95_lower\": -0.03982151155527344, \"ci95_upper\": 0.04797741546477592, \"param_caught\": true, \"id\": 57}, {\"b1\": 0.004107719081089705, \"se_b1\": 0.020806817760257498, \"ci95_lower\": -0.036673643729014986, \"ci95_upper\": 0.0448890818911944, \"param_caught\": true, \"id\": 58}, {\"b1\": 0.0044422056193450556, \"se_b1\": 0.023434552536330127, \"ci95_lower\": -0.04148951735186199, \"ci95_upper\": 0.050373928590552106, \"param_caught\": true, \"id\": 59}, {\"b1\": 0.004987428185958558, \"se_b1\": 0.022177038085594493, \"ci95_lower\": -0.03847956646180665, \"ci95_upper\": 0.04845442283372376, \"param_caught\": true, \"id\": 60}, {\"b1\": 0.0058295842354970165, \"se_b1\": 0.02151346891462453, \"ci95_lower\": -0.03633681483716706, \"ci95_upper\": 0.04799598330816109, \"param_caught\": true, \"id\": 61}, {\"b1\": 0.006107194601167899, \"se_b1\": 0.023902151064032734, \"ci95_lower\": -0.04074102148433626, \"ci95_upper\": 0.052955410686672054, \"param_caught\": true, \"id\": 62}, {\"b1\": 0.00618360625972582, \"se_b1\": 0.020005092048731157, \"ci95_lower\": -0.03302637415578725, \"ci95_upper\": 0.045393586675238885, \"param_caught\": true, \"id\": 63}, {\"b1\": 0.0068195999860488875, \"se_b1\": 0.02035978772412581, \"ci95_lower\": -0.0330855839532377, \"ci95_upper\": 0.04672478392533547, \"param_caught\": true, \"id\": 64}, {\"b1\": 0.007216560890658976, \"se_b1\": 0.02417426900515089, \"ci95_lower\": -0.04016500635943677, \"ci95_upper\": 0.054598128140754716, \"param_caught\": true, \"id\": 65}, {\"b1\": 0.007971185032946724, \"se_b1\": 0.0238125396576398, \"ci95_lower\": -0.03870139269602728, \"ci95_upper\": 0.05464376276192073, \"param_caught\": true, \"id\": 66}, {\"b1\": 0.009408797007771606, \"se_b1\": 0.02274548483332398, \"ci95_lower\": -0.03517235326554339, \"ci95_upper\": 0.0539899472810866, \"param_caught\": true, \"id\": 67}, {\"b1\": 0.009954081123297612, \"se_b1\": 0.022695890170861342, \"ci95_lower\": -0.03452986361159062, \"ci95_upper\": 0.05443802585818584, \"param_caught\": true, \"id\": 68}, {\"b1\": 0.010190235862053988, \"se_b1\": 0.024184911415622148, \"ci95_lower\": -0.03721219051256542, \"ci95_upper\": 0.0575926622366734, \"param_caught\": true, \"id\": 69}, {\"b1\": 0.010923020870408022, \"se_b1\": 0.022805281565630997, \"ci95_lower\": -0.03377533099822873, \"ci95_upper\": 0.05562137273904477, \"param_caught\": true, \"id\": 70}, {\"b1\": 0.011313742775954948, \"se_b1\": 0.023076175511525583, \"ci95_lower\": -0.033915561226635194, \"ci95_upper\": 0.05654304677854509, \"param_caught\": true, \"id\": 71}, {\"b1\": 0.011811575781866694, \"se_b1\": 0.023660324874935426, \"ci95_lower\": -0.03456266097300674, \"ci95_upper\": 0.05818581253674013, \"param_caught\": true, \"id\": 72}, {\"b1\": 0.011992666595820557, \"se_b1\": 0.02471412484609674, \"ci95_lower\": -0.036447018102529045, \"ci95_upper\": 0.06043235129417016, \"param_caught\": true, \"id\": 73}, {\"b1\": 0.012371536531849489, \"se_b1\": 0.02295374052671646, \"ci95_lower\": -0.032617794900514765, \"ci95_upper\": 0.057360867964213746, \"param_caught\": true, \"id\": 74}, {\"b1\": 0.013378346456335545, \"se_b1\": 0.02243625681209141, \"ci95_lower\": -0.03059671689536362, \"ci95_upper\": 0.05735340980803471, \"param_caught\": true, \"id\": 75}, {\"b1\": 0.014316086100160011, \"se_b1\": 0.024009495488446664, \"ci95_lower\": -0.03274252505719545, \"ci95_upper\": 0.06137469725751547, \"param_caught\": true, \"id\": 76}, {\"b1\": 0.014540483223914123, \"se_b1\": 0.02419954080699645, \"ci95_lower\": -0.03289061675779892, \"ci95_upper\": 0.061971583205627165, \"param_caught\": true, \"id\": 77}, {\"b1\": 0.015463170904369465, \"se_b1\": 0.01993129617936607, \"ci95_lower\": -0.023602169607188035, \"ci95_upper\": 0.05452851141592697, \"param_caught\": true, \"id\": 78}, {\"b1\": 0.015751142688693626, \"se_b1\": 0.022716356831191626, \"ci95_lower\": -0.028772916700441964, \"ci95_upper\": 0.060275202077829215, \"param_caught\": true, \"id\": 79}, {\"b1\": 0.0159473224817305, \"se_b1\": 0.02266997065651153, \"ci95_lower\": -0.028485820005032098, \"ci95_upper\": 0.0603804649684931, \"param_caught\": true, \"id\": 80}, {\"b1\": 0.016084826650366913, \"se_b1\": 0.02103457668912055, \"ci95_lower\": -0.025142943660309367, \"ci95_upper\": 0.0573125969610432, \"param_caught\": true, \"id\": 81}, {\"b1\": 0.01609625513903517, \"se_b1\": 0.020369709144922178, \"ci95_lower\": -0.023828374785012298, \"ci95_upper\": 0.056020885063082636, \"param_caught\": true, \"id\": 82}, {\"b1\": 0.016864340111545393, \"se_b1\": 0.022941587890778284, \"ci95_lower\": -0.02810117215438004, \"ci95_upper\": 0.06182985237747082, \"param_caught\": true, \"id\": 83}, {\"b1\": 0.017514166442673736, \"se_b1\": 0.022027761952798614, \"ci95_lower\": -0.02566024698481155, \"ci95_upper\": 0.06068857987015902, \"param_caught\": true, \"id\": 84}, {\"b1\": 0.017769547498604286, \"se_b1\": 0.02357792956369813, \"ci95_lower\": -0.028443194446244047, \"ci95_upper\": 0.06398228944345262, \"param_caught\": true, \"id\": 85}, {\"b1\": 0.01862924658628277, \"se_b1\": 0.024242766595233698, \"ci95_lower\": -0.02888657594037528, \"ci95_upper\": 0.06614506911294082, \"param_caught\": true, \"id\": 86}, {\"b1\": 0.019093695724771917, \"se_b1\": 0.023668554181841644, \"ci95_lower\": -0.027296670471637703, \"ci95_upper\": 0.06548406192118153, \"param_caught\": true, \"id\": 87}, {\"b1\": 0.019142290515501762, \"se_b1\": 0.02222302450576756, \"ci95_lower\": -0.024414837515802656, \"ci95_upper\": 0.06269941854680618, \"param_caught\": true, \"id\": 88}, {\"b1\": 0.02070794621125316, \"se_b1\": 0.021011057944261214, \"ci95_lower\": -0.020473727359498817, \"ci95_upper\": 0.061889619782005134, \"param_caught\": true, \"id\": 89}, {\"b1\": 0.02243288726385702, \"se_b1\": 0.022343149508218526, \"ci95_lower\": -0.02135968577225129, \"ci95_upper\": 0.06622546029996533, \"param_caught\": true, \"id\": 90}, {\"b1\": 0.02297950766805728, \"se_b1\": 0.020584458457215318, \"ci95_lower\": -0.017366030908084744, \"ci95_upper\": 0.0633250462441993, \"param_caught\": true, \"id\": 91}, {\"b1\": 0.028020465717065193, \"se_b1\": 0.023469059309768673, \"ci95_lower\": -0.017978890530081407, \"ci95_upper\": 0.0740198219642118, \"param_caught\": true, \"id\": 92}, {\"b1\": 0.03280996285239163, \"se_b1\": 0.02311741199633018, \"ci95_lower\": -0.012500164660415522, \"ci95_upper\": 0.07812009036519878, \"param_caught\": true, \"id\": 93}, {\"b1\": 0.03281206941527459, \"se_b1\": 0.024873620967168105, \"ci95_lower\": -0.015940227680374897, \"ci95_upper\": 0.08156436651092408, \"param_caught\": true, \"id\": 94}, {\"b1\": 0.03406261648979564, \"se_b1\": 0.022459197151400385, \"ci95_lower\": -0.009957409926949115, \"ci95_upper\": 0.07808264290654039, \"param_caught\": true, \"id\": 95}, {\"b1\": 0.03779265850839176, \"se_b1\": 0.023218413699700152, \"ci95_lower\": -0.007715432343020537, \"ci95_upper\": 0.08330074935980405, \"param_caught\": true, \"id\": 96}, {\"b1\": 0.04530872319790616, \"se_b1\": 0.028127789669529814, \"ci95_lower\": -0.009821744554372278, \"ci95_upper\": 0.1004391909501846, \"param_caught\": true, \"id\": 97}, {\"b1\": 0.04999760652614584, \"se_b1\": 0.022344651747705713, \"ci95_lower\": 0.006202089100642648, \"ci95_upper\": 0.09379312395164904, \"param_caught\": false, \"id\": 98}, {\"b1\": 0.05334808096782288, \"se_b1\": 0.022288628286933298, \"ci95_lower\": 0.009662369525433617, \"ci95_upper\": 0.09703379241021215, \"param_caught\": false, \"id\": 99}], \"data-9c00aa9dc2b1c1a0b4bf9b34ead12925\": [{\"x\": 0}]}}, {\"mode\": \"vega-lite\"});\n",
       "</script>"
      ],
      "text/plain": [
       "alt.LayerChart(...)"
      ]
     },
     "execution_count": 392,
     "metadata": {},
     "output_type": "execute_result"
    }
   ],
   "source": [
    "# Take a new sample and clean it up\n",
    "sample_estimates = sim_nocluster.sample(sample_size)\n",
    "sample_estimates = sample_estimates.sort_values('b1')\n",
    "sample_estimates = sample_estimates.reset_index(drop=True)\n",
    "sample_estimates['id'] = sample_estimates.index\n",
    "\n",
    "\n",
    "domain_ = [True, False]\n",
    "range_ = ['black', 'red']\n",
    "\n",
    "points = alt.Chart(\n",
    "    sample_estimates,\n",
    "    title = '100 Randomly chosen b1 estimates'\n",
    ").mark_point(filled=True).encode(\n",
    "    x = alt.X(\"b1:Q\", title ='b1'),\n",
    "    y = alt.Y(\"id:Q\", title='Sample ID'),\n",
    "    color = alt.Color(\"param_caught:N\")\n",
    ")\n",
    "\n",
    "ci_lines = alt.Chart(\n",
    "    sample_estimates\n",
    ").mark_line().encode(\n",
    "    x = alt.X(\"ci95_lower:Q\"),\n",
    "    x2 = alt.X2(\"ci95_upper:Q\"),\n",
    "    y = alt.Y(\"id:Q\"),\n",
    "    color = alt.Color(\n",
    "        \"param_caught:N\",\n",
    "        title=['True b1','parameter value (0)','captured within CI'],\n",
    "        scale=alt.Scale(domain=domain_, range=range_)\n",
    "    )\n",
    ")\n",
    "truemeanline = alt.Chart(pd.DataFrame({\n",
    "    'x' : [0]\n",
    "})).mark_rule().encode(\n",
    "    x = 'x:Q'\n",
    ")\n",
    "\n",
    "alt.layer(\n",
    "    points,\n",
    "    ci_lines,\n",
    "    truemeanline\n",
    ").properties(\n",
    "    height=700\n",
    ").configure_axis(\n",
    "    titleFontSize=15,\n",
    "    labelFontSize=14\n",
    ").configure_legend(\n",
    "    titleFontSize=15,\n",
    "    labelFontSize=14\n",
    ").configure_title(\n",
    "    fontSize=15\n",
    ")"
   ]
  },
  {
   "cell_type": "markdown",
   "metadata": {},
   "source": [
    "### Now lets try this again by changing $\\rho$"
   ]
  },
  {
   "cell_type": "code",
   "execution_count": 398,
   "metadata": {},
   "outputs": [],
   "source": [
    "# [intercept, beta1] = [.4, 0]\n",
    "sim_params = [.4, 0]\n",
    "\n",
    "# Create 10k estimates with these parameters\n",
    "sim_w_cluster = run_cluster_sim(\n",
    "    n_sims=10_000,\n",
    "    param = sim_params,\n",
    "    rho=.5,\n",
    "    cluster_robust = False\n",
    ")"
   ]
  },
  {
   "cell_type": "code",
   "execution_count": 399,
   "metadata": {},
   "outputs": [
    {
     "data": {
      "text/plain": [
       "0.4092"
      ]
     },
     "execution_count": 399,
     "metadata": {},
     "output_type": "execute_result"
    }
   ],
   "source": [
    "(10_000 - sim_w_cluster['param_caught'].sum())/10_000"
   ]
  },
  {
   "cell_type": "markdown",
   "metadata": {},
   "source": [
    "### Take a look at the histogram one more time...."
   ]
  },
  {
   "cell_type": "code",
   "execution_count": 400,
   "metadata": {},
   "outputs": [
    {
     "data": {
      "image/png": "[encoded data removed]",
      "text/plain": [
       "<Figure size 1080x432 with 1 Axes>"
      ]
     },
     "metadata": {
      "needs_background": "light"
     },
     "output_type": "display_data"
    }
   ],
   "source": [
    "plt.figure(figsize=(15,6))\n",
    "_ = plt.hist(sim_w_cluster['b1'], bins='auto',zorder=2)\n",
    "plt.vlines(x=0,ymin=0,ymax=500, color='red',zorder=3, label='True beta_1')\n",
    "\n",
    "plt.xlim(-.2,.2)\n",
    "\n",
    "plt.legend()\n",
    "plt.xlabel(\"b1 estimates\")\n",
    "plt.ylabel(\"Number of observations\")\n",
    "plt.grid(zorder=0)"
   ]
  },
  {
   "cell_type": "code",
   "execution_count": 401,
   "metadata": {},
   "outputs": [
    {
     "name": "stdout",
     "output_type": "stream",
     "text": [
      "Percent simulation rejected null 40.92%\n"
     ]
    }
   ],
   "source": [
    "print(f\"Percent simulation rejected null {((10_000 - sim_w_cluster['param_caught'].sum()) / 10_000)*100}%\")"
   ]
  },
  {
   "cell_type": "code",
   "execution_count": 402,
   "metadata": {},
   "outputs": [
    {
     "data": {
      "text/html": [
       "\n",
       "<div id=\"altair-viz-b224db3bdc7148b1bd26267c6f1811cd\"></div>\n",
       "<script type=\"text/javascript\">\n",
       "  (function(spec, embedOpt){\n",
       "    let outputDiv = document.currentScript.previousElementSibling;\n",
       "    if (outputDiv.id !== \"altair-viz-b224db3bdc7148b1bd26267c6f1811cd\") {\n",
       "      outputDiv = document.getElementById(\"altair-viz-b224db3bdc7148b1bd26267c6f1811cd\");\n",
       "    }\n",
       "    const paths = {\n",
       "      \"vega\": \"https://cdn.jsdelivr.net/npm//vega@5?noext\",\n",
       "      \"vega-lib\": \"https://cdn.jsdelivr.net/npm//vega-lib?noext\",\n",
       "      \"vega-lite\": \"https://cdn.jsdelivr.net/npm//vega-lite@4.8.1?noext\",\n",
       "      \"vega-embed\": \"https://cdn.jsdelivr.net/npm//vega-embed@6?noext\",\n",
       "    };\n",
       "\n",
       "    function loadScript(lib) {\n",
       "      return new Promise(function(resolve, reject) {\n",
       "        var s = document.createElement('script');\n",
       "        s.src = paths[lib];\n",
       "        s.async = true;\n",
       "        s.onload = () => resolve(paths[lib]);\n",
       "        s.onerror = () => reject(`Error loading script: ${paths[lib]}`);\n",
       "        document.getElementsByTagName(\"head\")[0].appendChild(s);\n",
       "      });\n",
       "    }\n",
       "\n",
       "    function showError(err) {\n",
       "      outputDiv.innerHTML = `<div class=\"error\" style=\"color:red;\">${err}</div>`;\n",
       "      throw err;\n",
       "    }\n",
       "\n",
       "    function displayChart(vegaEmbed) {\n",
       "      vegaEmbed(outputDiv, spec, embedOpt)\n",
       "        .catch(err => showError(`Javascript Error: ${err.message}<br>This usually means there's a typo in your chart specification. See the javascript console for the full traceback.`));\n",
       "    }\n",
       "\n",
       "    if(typeof define === \"function\" && define.amd) {\n",
       "      requirejs.config({paths});\n",
       "      require([\"vega-embed\"], displayChart, err => showError(`Error loading script: ${err.message}`));\n",
       "    } else if (typeof vegaEmbed === \"function\") {\n",
       "      displayChart(vegaEmbed);\n",
       "    } else {\n",
       "      loadScript(\"vega\")\n",
       "        .then(() => loadScript(\"vega-lite\"))\n",
       "        .then(() => loadScript(\"vega-embed\"))\n",
       "        .catch(showError)\n",
       "        .then(() => displayChart(vegaEmbed));\n",
       "    }\n",
       "  })({\"config\": {\"view\": {\"continuousWidth\": 400, \"continuousHeight\": 300}, \"axis\": {\"labelFontSize\": 14, \"titleFontSize\": 15}, \"legend\": {\"labelFontSize\": 14, \"titleFontSize\": 15}, \"title\": {\"fontSize\": 15}}, \"layer\": [{\"data\": {\"name\": \"data-e6011d033bf78b28f9a3a1fc6fe2c394\"}, \"mark\": {\"type\": \"point\", \"filled\": true}, \"encoding\": {\"color\": {\"type\": \"nominal\", \"field\": \"param_caught\"}, \"x\": {\"type\": \"quantitative\", \"field\": \"b1\", \"title\": \"b1\"}, \"y\": {\"type\": \"quantitative\", \"field\": \"id\", \"title\": \"Sample ID\"}}, \"title\": \"100 Randomly chosen b1 estimates\"}, {\"data\": {\"name\": \"data-e6011d033bf78b28f9a3a1fc6fe2c394\"}, \"mark\": \"line\", \"encoding\": {\"color\": {\"type\": \"nominal\", \"field\": \"param_caught\", \"scale\": {\"domain\": [true, false], \"range\": [\"black\", \"red\"]}, \"title\": [\"True b1\", \"parameter value (0)\", \"captured within CI\"]}, \"x\": {\"type\": \"quantitative\", \"field\": \"ci95_lower\"}, \"x2\": {\"field\": \"ci95_upper\"}, \"y\": {\"type\": \"quantitative\", \"field\": \"id\"}}}, {\"data\": {\"name\": \"data-9c00aa9dc2b1c1a0b4bf9b34ead12925\"}, \"mark\": \"rule\", \"encoding\": {\"x\": {\"type\": \"quantitative\", \"field\": \"x\"}}}], \"height\": 700, \"$schema\": \"https://vega.github.io/schema/vega-lite/v4.8.1.json\", \"datasets\": {\"data-e6011d033bf78b28f9a3a1fc6fe2c394\": [{\"b1\": -0.12483468675230977, \"se_b1\": 0.02374210881283948, \"ci95_lower\": -0.17136922002547517, \"ci95_upper\": -0.07830015347914439, \"param_caught\": false, \"id\": 0}, {\"b1\": -0.11391107581782442, \"se_b1\": 0.02386435755788445, \"ci95_lower\": -0.16068521663127794, \"ci95_upper\": -0.0671369350043709, \"param_caught\": false, \"id\": 1}, {\"b1\": -0.10481585038519006, \"se_b1\": 0.02507998012689548, \"ci95_lower\": -0.1539726114339052, \"ci95_upper\": -0.055659089336474926, \"param_caught\": false, \"id\": 2}, {\"b1\": -0.09560088493828964, \"se_b1\": 0.019178541872668934, \"ci95_lower\": -0.13319082700872076, \"ci95_upper\": -0.05801094286785853, \"param_caught\": false, \"id\": 3}, {\"b1\": -0.09437172507021496, \"se_b1\": 0.02297267623915932, \"ci95_lower\": -0.13939817049896724, \"ci95_upper\": -0.049345279641462694, \"param_caught\": false, \"id\": 4}, {\"b1\": -0.08278994288449408, \"se_b1\": 0.023577310965435357, \"ci95_lower\": -0.1290014723767474, \"ci95_upper\": -0.03657841339224078, \"param_caught\": false, \"id\": 5}, {\"b1\": -0.08181919070237487, \"se_b1\": 0.023996042387967344, \"ci95_lower\": -0.12885143378279085, \"ci95_upper\": -0.03478694762195887, \"param_caught\": false, \"id\": 6}, {\"b1\": -0.08040436180516046, \"se_b1\": 0.022121131814786813, \"ci95_lower\": -0.12376178016214262, \"ci95_upper\": -0.037046943448178306, \"param_caught\": false, \"id\": 7}, {\"b1\": -0.07263131780269577, \"se_b1\": 0.02060733307120645, \"ci95_lower\": -0.11302169062226042, \"ci95_upper\": -0.03224094498313113, \"param_caught\": false, \"id\": 8}, {\"b1\": -0.06871449566659364, \"se_b1\": 0.02262871215819073, \"ci95_lower\": -0.11306677149664747, \"ci95_upper\": -0.024362219836539814, \"param_caught\": false, \"id\": 9}, {\"b1\": -0.06610070746186816, \"se_b1\": 0.02236894720877746, \"ci95_lower\": -0.10994384399107199, \"ci95_upper\": -0.02225757093266434, \"param_caught\": false, \"id\": 10}, {\"b1\": -0.0545342497065698, \"se_b1\": 0.02356997561411126, \"ci95_lower\": -0.10073140191022786, \"ci95_upper\": -0.008337097502911735, \"param_caught\": false, \"id\": 11}, {\"b1\": -0.054261411473800286, \"se_b1\": 0.02325230615396306, \"ci95_lower\": -0.09983593153556788, \"ci95_upper\": -0.008686891412032688, \"param_caught\": false, \"id\": 12}, {\"b1\": -0.053881544504616546, \"se_b1\": 0.022215240908330925, \"ci95_lower\": -0.09742341668494517, \"ci95_upper\": -0.010339672324287931, \"param_caught\": false, \"id\": 13}, {\"b1\": -0.05315266992226793, \"se_b1\": 0.023990116026799804, \"ci95_lower\": -0.10017329733479555, \"ci95_upper\": -0.00613204250974031, \"param_caught\": false, \"id\": 14}, {\"b1\": -0.04657134056080784, \"se_b1\": 0.020542288126513174, \"ci95_lower\": -0.08683422528877366, \"ci95_upper\": -0.006308455832842022, \"param_caught\": false, \"id\": 15}, {\"b1\": -0.04269711064658249, \"se_b1\": 0.020910116918531698, \"ci95_lower\": -0.08368093980690462, \"ci95_upper\": -0.0017132814862603624, \"param_caught\": false, \"id\": 16}, {\"b1\": -0.041171871374573024, \"se_b1\": 0.02065213777606795, \"ci95_lower\": -0.0816500614156662, \"ci95_upper\": -0.0006936813334798425, \"param_caught\": false, \"id\": 17}, {\"b1\": -0.0396848253401226, \"se_b1\": 0.022492137876104292, \"ci95_lower\": -0.08376941557728701, \"ci95_upper\": 0.004399764897041816, \"param_caught\": true, \"id\": 18}, {\"b1\": -0.03866622627195738, \"se_b1\": 0.02353176874158537, \"ci95_lower\": -0.0847884930054647, \"ci95_upper\": 0.007456040461549948, \"param_caught\": true, \"id\": 19}, {\"b1\": -0.03858228640147715, \"se_b1\": 0.021529865974574784, \"ci95_lower\": -0.08078082371164372, \"ci95_upper\": 0.0036162509086894237, \"param_caught\": true, \"id\": 20}, {\"b1\": -0.036334844396067295, \"se_b1\": 0.023195137498815195, \"ci95_lower\": -0.08179731389374507, \"ci95_upper\": 0.009127625101610484, \"param_caught\": true, \"id\": 21}, {\"b1\": -0.03509705539233607, \"se_b1\": 0.017963577292715728, \"ci95_lower\": -0.0703056668860589, \"ci95_upper\": 0.00011155610138675887, \"param_caught\": true, \"id\": 22}, {\"b1\": -0.031774517926540874, \"se_b1\": 0.021976540867506722, \"ci95_lower\": -0.07484853802685404, \"ci95_upper\": 0.011299502173772298, \"param_caught\": true, \"id\": 23}, {\"b1\": -0.028759973235876896, \"se_b1\": 0.023064137121367883, \"ci95_lower\": -0.07396568199375794, \"ci95_upper\": 0.01644573552200415, \"param_caught\": true, \"id\": 24}, {\"b1\": -0.02595501554863796, \"se_b1\": 0.020413077122819808, \"ci95_lower\": -0.06596464670936478, \"ci95_upper\": 0.014054615612088865, \"param_caught\": true, \"id\": 25}, {\"b1\": -0.025177798027629882, \"se_b1\": 0.02211148328536743, \"ci95_lower\": -0.06851630526695004, \"ci95_upper\": 0.018160709211690277, \"param_caught\": true, \"id\": 26}, {\"b1\": -0.024875157145247503, \"se_b1\": 0.022639288348990767, \"ci95_lower\": -0.0692481623092694, \"ci95_upper\": 0.019497848018774397, \"param_caught\": true, \"id\": 27}, {\"b1\": -0.024596802642994943, \"se_b1\": 0.01981752039766753, \"ci95_lower\": -0.0634391426224233, \"ci95_upper\": 0.014245537336433411, \"param_caught\": true, \"id\": 28}, {\"b1\": -0.023733227347189106, \"se_b1\": 0.024417005616321402, \"ci95_lower\": -0.07159055835517905, \"ci95_upper\": 0.02412410366080084, \"param_caught\": true, \"id\": 29}, {\"b1\": -0.02332505995513231, \"se_b1\": 0.024723530365894357, \"ci95_lower\": -0.07178317947228524, \"ci95_upper\": 0.02513305956202063, \"param_caught\": true, \"id\": 30}, {\"b1\": -0.022909458486674333, \"se_b1\": 0.024381920911958527, \"ci95_lower\": -0.07069802347411305, \"ci95_upper\": 0.02487910650076438, \"param_caught\": true, \"id\": 31}, {\"b1\": -0.019917118342729658, \"se_b1\": 0.020000893053848466, \"ci95_lower\": -0.059118868728272655, \"ci95_upper\": 0.019284632042813336, \"param_caught\": true, \"id\": 32}, {\"b1\": -0.01986922900918256, \"se_b1\": 0.02408385335621704, \"ci95_lower\": -0.06707358158736795, \"ci95_upper\": 0.02733512356900284, \"param_caught\": true, \"id\": 33}, {\"b1\": -0.018083960888698666, \"se_b1\": 0.023840427064783922, \"ci95_lower\": -0.06481119793567515, \"ci95_upper\": 0.028643276158277817, \"param_caught\": true, \"id\": 34}, {\"b1\": -0.01581793766166191, \"se_b1\": 0.0225796333765718, \"ci95_lower\": -0.060074019079742635, \"ci95_upper\": 0.028438143756418816, \"param_caught\": true, \"id\": 35}, {\"b1\": -0.0134749015364403, \"se_b1\": 0.02265871155794153, \"ci95_lower\": -0.0578859761900057, \"ci95_upper\": 0.0309361731171251, \"param_caught\": true, \"id\": 36}, {\"b1\": -0.012998780172960347, \"se_b1\": 0.0211901922234497, \"ci95_lower\": -0.05453155693092176, \"ci95_upper\": 0.02853399658500106, \"param_caught\": true, \"id\": 37}, {\"b1\": -0.008332001665881559, \"se_b1\": 0.019375064254190083, \"ci95_lower\": -0.04630712760409412, \"ci95_upper\": 0.029643124272331005, \"param_caught\": true, \"id\": 38}, {\"b1\": -0.008069240364814583, \"se_b1\": 0.025741389556764662, \"ci95_lower\": -0.05852236389607332, \"ci95_upper\": 0.04238388316644415, \"param_caught\": true, \"id\": 39}, {\"b1\": -0.0074871694914910416, \"se_b1\": 0.023403999956467348, \"ci95_lower\": -0.05335900940616704, \"ci95_upper\": 0.038384670423184955, \"param_caught\": true, \"id\": 40}, {\"b1\": -0.006361738153795276, \"se_b1\": 0.022488008536768758, \"ci95_lower\": -0.05043823488586204, \"ci95_upper\": 0.037714758578271494, \"param_caught\": true, \"id\": 41}, {\"b1\": -0.0063117527804282345, \"se_b1\": 0.02267978952963169, \"ci95_lower\": -0.05076414025850635, \"ci95_upper\": 0.03814063469764988, \"param_caught\": true, \"id\": 42}, {\"b1\": -0.005201603800145983, \"se_b1\": 0.02411592077506778, \"ci95_lower\": -0.052468808519278834, \"ci95_upper\": 0.04206560091898687, \"param_caught\": true, \"id\": 43}, {\"b1\": -0.005183721589779493, \"se_b1\": 0.02512782583069989, \"ci95_lower\": -0.05443426021795127, \"ci95_upper\": 0.04406681703839229, \"param_caught\": true, \"id\": 44}, {\"b1\": -0.003107144955050879, \"se_b1\": 0.021676085672483046, \"ci95_lower\": -0.04559227287311765, \"ci95_upper\": 0.039377982963015895, \"param_caught\": true, \"id\": 45}, {\"b1\": -0.001671895832470139, \"se_b1\": 0.024972438145323718, \"ci95_lower\": -0.05061787459730463, \"ci95_upper\": 0.04727408293236435, \"param_caught\": true, \"id\": 46}, {\"b1\": -0.001649295180540973, \"se_b1\": 0.020545404628074554, \"ci95_lower\": -0.0419182882515671, \"ci95_upper\": 0.03861969789048515, \"param_caught\": true, \"id\": 47}, {\"b1\": -0.000987287346482223, \"se_b1\": 0.02321263988458501, \"ci95_lower\": -0.04648406152026884, \"ci95_upper\": 0.0445094868273044, \"param_caught\": true, \"id\": 48}, {\"b1\": 0.0008263653898641097, \"se_b1\": 0.02209737115709007, \"ci95_lower\": -0.04248448207803243, \"ci95_upper\": 0.04413721285776065, \"param_caught\": true, \"id\": 49}, {\"b1\": 0.0011844807301511708, \"se_b1\": 0.020952456856627402, \"ci95_lower\": -0.039882334708838535, \"ci95_upper\": 0.042251296169140876, \"param_caught\": true, \"id\": 50}, {\"b1\": 0.0013609631893220409, \"se_b1\": 0.02095607685489015, \"ci95_lower\": -0.03971294744626265, \"ci95_upper\": 0.04243487382490674, \"param_caught\": true, \"id\": 51}, {\"b1\": 0.002004503930725737, \"se_b1\": 0.02267565693605547, \"ci95_lower\": -0.042439783663942986, \"ci95_upper\": 0.04644879152539446, \"param_caught\": true, \"id\": 52}, {\"b1\": 0.0027726093717983353, \"se_b1\": 0.021286314683951906, \"ci95_lower\": -0.0389485674087474, \"ci95_upper\": 0.044493786152344075, \"param_caught\": true, \"id\": 53}, {\"b1\": 0.004246116539772772, \"se_b1\": 0.02299346859587513, \"ci95_lower\": -0.04082108190814249, \"ci95_upper\": 0.049313314987688026, \"param_caught\": true, \"id\": 54}, {\"b1\": 0.004726687495637176, \"se_b1\": 0.018214617368414992, \"ci95_lower\": -0.030973962546456207, \"ci95_upper\": 0.04042733753773056, \"param_caught\": true, \"id\": 55}, {\"b1\": 0.004905630570788579, \"se_b1\": 0.0232364715089857, \"ci95_lower\": -0.04063785358682339, \"ci95_upper\": 0.050449114728400545, \"param_caught\": true, \"id\": 56}, {\"b1\": 0.006176997869241612, \"se_b1\": 0.021286688172380108, \"ci95_lower\": -0.0355449109486234, \"ci95_upper\": 0.04789890668710663, \"param_caught\": true, \"id\": 57}, {\"b1\": 0.0062522485396362725, \"se_b1\": 0.024832298774709265, \"ci95_lower\": -0.04241905705879388, \"ci95_upper\": 0.05492355413806643, \"param_caught\": true, \"id\": 58}, {\"b1\": 0.007639823117205496, \"se_b1\": 0.018875187837584132, \"ci95_lower\": -0.0293555450444594, \"ci95_upper\": 0.04463519127887039, \"param_caught\": true, \"id\": 59}, {\"b1\": 0.007732872814834951, \"se_b1\": 0.021510075659199088, \"ci95_lower\": -0.03442687547719526, \"ci95_upper\": 0.04989262110686516, \"param_caught\": true, \"id\": 60}, {\"b1\": 0.009641240770056687, \"se_b1\": 0.024748902479003073, \"ci95_lower\": -0.038866608088789334, \"ci95_upper\": 0.05814908962890271, \"param_caught\": true, \"id\": 61}, {\"b1\": 0.009678766740302665, \"se_b1\": 0.020674833762375236, \"ci95_lower\": -0.030843907433952794, \"ci95_upper\": 0.050201440914558124, \"param_caught\": true, \"id\": 62}, {\"b1\": 0.010142728462278386, \"se_b1\": 0.022659195842862412, \"ci95_lower\": -0.03426929538973194, \"ci95_upper\": 0.05455475231428871, \"param_caught\": true, \"id\": 63}, {\"b1\": 0.010359763471425264, \"se_b1\": 0.022886979196416416, \"ci95_lower\": -0.034498715753550915, \"ci95_upper\": 0.05521824269640144, \"param_caught\": true, \"id\": 64}, {\"b1\": 0.01211443730041596, \"se_b1\": 0.021708664605014985, \"ci95_lower\": -0.030434545325413405, \"ci95_upper\": 0.05466341992624533, \"param_caught\": true, \"id\": 65}, {\"b1\": 0.014304216107521838, \"se_b1\": 0.0235833471571347, \"ci95_lower\": -0.03191914432046217, \"ci95_upper\": 0.06052757653550585, \"param_caught\": true, \"id\": 66}, {\"b1\": 0.017578404557511057, \"se_b1\": 0.0243711839996447, \"ci95_lower\": -0.030189116081792554, \"ci95_upper\": 0.06534592519681467, \"param_caught\": true, \"id\": 67}, {\"b1\": 0.0177997398121858, \"se_b1\": 0.020980783803802416, \"ci95_lower\": -0.023322596443266938, \"ci95_upper\": 0.05892207606763854, \"param_caught\": true, \"id\": 68}, {\"b1\": 0.01834948920007378, \"se_b1\": 0.024396267968734512, \"ci95_lower\": -0.029467196018645864, \"ci95_upper\": 0.06616617441879342, \"param_caught\": true, \"id\": 69}, {\"b1\": 0.02209752466942766, \"se_b1\": 0.023340850517486758, \"ci95_lower\": -0.023650542344846384, \"ci95_upper\": 0.0678455916837017, \"param_caught\": true, \"id\": 70}, {\"b1\": 0.022998251840408067, \"se_b1\": 0.023360796219610912, \"ci95_lower\": -0.02278890875002932, \"ci95_upper\": 0.06878541243084546, \"param_caught\": true, \"id\": 71}, {\"b1\": 0.02843248373422544, \"se_b1\": 0.02164482870197497, \"ci95_lower\": -0.013991380521645502, \"ci95_upper\": 0.07085634799009638, \"param_caught\": true, \"id\": 72}, {\"b1\": 0.029762081972932508, \"se_b1\": 0.021521091183979848, \"ci95_lower\": -0.012419256747667994, \"ci95_upper\": 0.07194342069353302, \"param_caught\": true, \"id\": 73}, {\"b1\": 0.0324568475643733, \"se_b1\": 0.02249128109131738, \"ci95_lower\": -0.01162606337460876, \"ci95_upper\": 0.07653975850335537, \"param_caught\": true, \"id\": 74}, {\"b1\": 0.034117042248787185, \"se_b1\": 0.02511554667904046, \"ci95_lower\": -0.015109429242132114, \"ci95_upper\": 0.08334351373970648, \"param_caught\": true, \"id\": 75}, {\"b1\": 0.03513126233562711, \"se_b1\": 0.02127988490977482, \"ci95_lower\": -0.0065773120875315325, \"ci95_upper\": 0.07683983675878575, \"param_caught\": true, \"id\": 76}, {\"b1\": 0.03990688181215768, \"se_b1\": 0.02521633742715672, \"ci95_lower\": -0.00951713954506949, \"ci95_upper\": 0.08933090316938486, \"param_caught\": true, \"id\": 77}, {\"b1\": 0.042047315996406195, \"se_b1\": 0.02114268636983306, \"ci95_lower\": 0.000607650711533396, \"ci95_upper\": 0.08348698128127899, \"param_caught\": false, \"id\": 78}, {\"b1\": 0.04290618017851597, \"se_b1\": 0.022084494527819836, \"ci95_lower\": -0.00037942909601090813, \"ci95_upper\": 0.08619178945304284, \"param_caught\": true, \"id\": 79}, {\"b1\": 0.04314244821140718, \"se_b1\": 0.021824663837335553, \"ci95_lower\": 0.0003661070902295019, \"ci95_upper\": 0.08591878933258487, \"param_caught\": false, \"id\": 80}, {\"b1\": 0.04940618450273438, \"se_b1\": 0.02337108684739324, \"ci95_lower\": 0.0035988542818436303, \"ci95_upper\": 0.09521351472362513, \"param_caught\": false, \"id\": 81}, {\"b1\": 0.058223804090096525, \"se_b1\": 0.023591731504308395, \"ci95_lower\": 0.011984010341652071, \"ci95_upper\": 0.10446359783854098, \"param_caught\": false, \"id\": 82}, {\"b1\": 0.05896562658716706, \"se_b1\": 0.02261367265348644, \"ci95_lower\": 0.01464282818633364, \"ci95_upper\": 0.10328842498800048, \"param_caught\": false, \"id\": 83}, {\"b1\": 0.06082794042245412, \"se_b1\": 0.02035780184215107, \"ci95_lower\": 0.02092664881183802, \"ci95_upper\": 0.10072923203307022, \"param_caught\": false, \"id\": 84}, {\"b1\": 0.06106178195468956, \"se_b1\": 0.021923126053924012, \"ci95_lower\": 0.018092454888998494, \"ci95_upper\": 0.10403110902038062, \"param_caught\": false, \"id\": 85}, {\"b1\": 0.06181215750880939, \"se_b1\": 0.022382991106617914, \"ci95_lower\": 0.01794149493983828, \"ci95_upper\": 0.1056828200777805, \"param_caught\": false, \"id\": 86}, {\"b1\": 0.06347663562523824, \"se_b1\": 0.020510748607261726, \"ci95_lower\": 0.023275568355005258, \"ci95_upper\": 0.10367770289547122, \"param_caught\": false, \"id\": 87}, {\"b1\": 0.06416395526697362, \"se_b1\": 0.01933500826656965, \"ci95_lower\": 0.02626733906449711, \"ci95_upper\": 0.10206057146945013, \"param_caught\": false, \"id\": 88}, {\"b1\": 0.07164997040939772, \"se_b1\": 0.023091945613803636, \"ci95_lower\": 0.026389757006342593, \"ci95_upper\": 0.11691018381245284, \"param_caught\": false, \"id\": 89}, {\"b1\": 0.07225540943625144, \"se_b1\": 0.021846611596553923, \"ci95_lower\": 0.029436050707005758, \"ci95_upper\": 0.11507476816549714, \"param_caught\": false, \"id\": 90}, {\"b1\": 0.07316466149724629, \"se_b1\": 0.020555804900931222, \"ci95_lower\": 0.032875283891421095, \"ci95_upper\": 0.11345403910307149, \"param_caught\": false, \"id\": 91}, {\"b1\": 0.07321039309763852, \"se_b1\": 0.022783909285959275, \"ci95_lower\": 0.028553930897158346, \"ci95_upper\": 0.11786685529811869, \"param_caught\": false, \"id\": 92}, {\"b1\": 0.07975475526992766, \"se_b1\": 0.022070496745187636, \"ci95_lower\": 0.03649658164935989, \"ci95_upper\": 0.12301292889049542, \"param_caught\": false, \"id\": 93}, {\"b1\": 0.08596865752211269, \"se_b1\": 0.022682729012238837, \"ci95_lower\": 0.04151050865812457, \"ci95_upper\": 0.13042680638610082, \"param_caught\": false, \"id\": 94}, {\"b1\": 0.09273830073408354, \"se_b1\": 0.0241643698448841, \"ci95_lower\": 0.045376135838110704, \"ci95_upper\": 0.14010046563005638, \"param_caught\": false, \"id\": 95}, {\"b1\": 0.09797296304319963, \"se_b1\": 0.01997463650870532, \"ci95_lower\": 0.058822675486137205, \"ci95_upper\": 0.13712325060026206, \"param_caught\": false, \"id\": 96}, {\"b1\": 0.10428646683670949, \"se_b1\": 0.02312071201832597, \"ci95_lower\": 0.058969871280790585, \"ci95_upper\": 0.14960306239262838, \"param_caught\": false, \"id\": 97}, {\"b1\": 0.10616827043485279, \"se_b1\": 0.021453071039920665, \"ci95_lower\": 0.06412025119660829, \"ci95_upper\": 0.1482162896730973, \"param_caught\": false, \"id\": 98}, {\"b1\": 0.10764878160129282, \"se_b1\": 0.023082483981507116, \"ci95_lower\": 0.06240711299753887, \"ci95_upper\": 0.15289045020504677, \"param_caught\": false, \"id\": 99}], \"data-9c00aa9dc2b1c1a0b4bf9b34ead12925\": [{\"x\": 0}]}}, {\"mode\": \"vega-lite\"});\n",
       "</script>"
      ],
      "text/plain": [
       "alt.LayerChart(...)"
      ]
     },
     "execution_count": 402,
     "metadata": {},
     "output_type": "execute_result"
    }
   ],
   "source": [
    "# Take a new sample and clean it up\n",
    "sample_estimates = sim_w_cluster.sample(sample_size)\n",
    "sample_estimates = sample_estimates.sort_values('b1')\n",
    "sample_estimates = sample_estimates.reset_index(drop=True)\n",
    "sample_estimates['id'] = sample_estimates.index\n",
    "\n",
    "\n",
    "domain_ = [True, False]\n",
    "range_ = ['black', 'red']\n",
    "\n",
    "points = alt.Chart(\n",
    "    sample_estimates,\n",
    "    title = '100 Randomly chosen b1 estimates'\n",
    ").mark_point(filled=True).encode(\n",
    "    x = alt.X(\"b1:Q\", title ='b1'),\n",
    "    y = alt.Y(\"id:Q\", title='Sample ID'),\n",
    "    color = alt.Color(\"param_caught:N\")\n",
    ")\n",
    "\n",
    "ci_lines = alt.Chart(\n",
    "    sample_estimates\n",
    ").mark_line().encode(\n",
    "    x = alt.X(\"ci95_lower:Q\"),\n",
    "    x2 = alt.X2(\"ci95_upper:Q\"),\n",
    "    y = alt.Y(\"id:Q\"),\n",
    "    color = alt.Color(\n",
    "        \"param_caught:N\",\n",
    "        title=['True b1','parameter value (0)','captured within CI'],\n",
    "        scale=alt.Scale(domain=domain_, range=range_)\n",
    "    )\n",
    ")\n",
    "truemeanline = alt.Chart(pd.DataFrame({\n",
    "    'x' : [0]\n",
    "})).mark_rule().encode(\n",
    "    x = 'x:Q'\n",
    ")\n",
    "\n",
    "alt.layer(\n",
    "    points,\n",
    "    ci_lines,\n",
    "    truemeanline\n",
    ").properties(\n",
    "    height=700\n",
    ").configure_axis(\n",
    "    titleFontSize=15,\n",
    "    labelFontSize=14\n",
    ").configure_legend(\n",
    "    titleFontSize=15,\n",
    "    labelFontSize=14\n",
    ").configure_title(\n",
    "    fontSize=15\n",
    ")"
   ]
  },
  {
   "cell_type": "markdown",
   "metadata": {},
   "source": [
    "### Now lets repeat this process with clustered data but make use of the \"cluster-aware\" regression"
   ]
  },
  {
   "cell_type": "code",
   "execution_count": 415,
   "metadata": {},
   "outputs": [],
   "source": [
    "# [intercept, beta1] = [.4, 0]\n",
    "sim_params = [.4, 0]\n",
    "\n",
    "# Create 10k estimates with these parameters\n",
    "sim_w_cluster = run_cluster_sim(\n",
    "    n_sims=10_000,\n",
    "    param = sim_params,\n",
    "    rho=.5,               # not 1 causes clustered data\n",
    "    cluster_robust = True # But we'll be taking it into account\n",
    ")"
   ]
  },
  {
   "cell_type": "code",
   "execution_count": 417,
   "metadata": {},
   "outputs": [
    {
     "data": {
      "text/plain": [
       "6.890000000000001"
      ]
     },
     "execution_count": 417,
     "metadata": {},
     "output_type": "execute_result"
    }
   ],
   "source": [
    "((10_000 - sim_w_cluster['param_caught'].sum())/10_000)"
   ]
  },
  {
   "cell_type": "code",
   "execution_count": 418,
   "metadata": {},
   "outputs": [
    {
     "data": {
      "image/png": "[encoded data removed]",
      "text/plain": [
       "<Figure size 1080x432 with 1 Axes>"
      ]
     },
     "metadata": {
      "needs_background": "light"
     },
     "output_type": "display_data"
    }
   ],
   "source": [
    "plt.figure(figsize=(15,6))\n",
    "_ = plt.hist(sim_w_cluster['b1'], bins='auto',zorder=2)\n",
    "plt.vlines(x=0,ymin=0,ymax=500, color='red',zorder=3, label='True beta_1')\n",
    "\n",
    "plt.xlim(-.2,.2)\n",
    "\n",
    "plt.legend()\n",
    "plt.xlabel(\"b1 estimates\")\n",
    "plt.ylabel(\"Number of observations\")\n",
    "plt.grid(zorder=0)"
   ]
  },
  {
   "cell_type": "code",
   "execution_count": 419,
   "metadata": {},
   "outputs": [
    {
     "name": "stdout",
     "output_type": "stream",
     "text": [
      "Percent simulation rejected null 6.890000000000001%\n"
     ]
    }
   ],
   "source": [
    "print(f\"Percent simulation rejected null {((10_000 - sim_w_cluster['param_caught'].sum()) / 10_000)*100}%\")"
   ]
  },
  {
   "cell_type": "code",
   "execution_count": 429,
   "metadata": {},
   "outputs": [
    {
     "data": {
      "text/html": [
       "\n",
       "<div id=\"altair-viz-5a5f4402c6eb475f8f8a78ac6c76837b\"></div>\n",
       "<script type=\"text/javascript\">\n",
       "  (function(spec, embedOpt){\n",
       "    let outputDiv = document.currentScript.previousElementSibling;\n",
       "    if (outputDiv.id !== \"altair-viz-5a5f4402c6eb475f8f8a78ac6c76837b\") {\n",
       "      outputDiv = document.getElementById(\"altair-viz-5a5f4402c6eb475f8f8a78ac6c76837b\");\n",
       "    }\n",
       "    const paths = {\n",
       "      \"vega\": \"https://cdn.jsdelivr.net/npm//vega@5?noext\",\n",
       "      \"vega-lib\": \"https://cdn.jsdelivr.net/npm//vega-lib?noext\",\n",
       "      \"vega-lite\": \"https://cdn.jsdelivr.net/npm//vega-lite@4.8.1?noext\",\n",
       "      \"vega-embed\": \"https://cdn.jsdelivr.net/npm//vega-embed@6?noext\",\n",
       "    };\n",
       "\n",
       "    function loadScript(lib) {\n",
       "      return new Promise(function(resolve, reject) {\n",
       "        var s = document.createElement('script');\n",
       "        s.src = paths[lib];\n",
       "        s.async = true;\n",
       "        s.onload = () => resolve(paths[lib]);\n",
       "        s.onerror = () => reject(`Error loading script: ${paths[lib]}`);\n",
       "        document.getElementsByTagName(\"head\")[0].appendChild(s);\n",
       "      });\n",
       "    }\n",
       "\n",
       "    function showError(err) {\n",
       "      outputDiv.innerHTML = `<div class=\"error\" style=\"color:red;\">${err}</div>`;\n",
       "      throw err;\n",
       "    }\n",
       "\n",
       "    function displayChart(vegaEmbed) {\n",
       "      vegaEmbed(outputDiv, spec, embedOpt)\n",
       "        .catch(err => showError(`Javascript Error: ${err.message}<br>This usually means there's a typo in your chart specification. See the javascript console for the full traceback.`));\n",
       "    }\n",
       "\n",
       "    if(typeof define === \"function\" && define.amd) {\n",
       "      requirejs.config({paths});\n",
       "      require([\"vega-embed\"], displayChart, err => showError(`Error loading script: ${err.message}`));\n",
       "    } else if (typeof vegaEmbed === \"function\") {\n",
       "      displayChart(vegaEmbed);\n",
       "    } else {\n",
       "      loadScript(\"vega\")\n",
       "        .then(() => loadScript(\"vega-lite\"))\n",
       "        .then(() => loadScript(\"vega-embed\"))\n",
       "        .catch(showError)\n",
       "        .then(() => displayChart(vegaEmbed));\n",
       "    }\n",
       "  })({\"config\": {\"view\": {\"continuousWidth\": 400, \"continuousHeight\": 300}, \"axis\": {\"labelFontSize\": 14, \"titleFontSize\": 15}, \"legend\": {\"labelFontSize\": 14, \"titleFontSize\": 15}, \"title\": {\"fontSize\": 15}}, \"layer\": [{\"data\": {\"name\": \"data-069a3bd562c198e66ab089653451278f\"}, \"mark\": {\"type\": \"point\", \"filled\": true}, \"encoding\": {\"color\": {\"type\": \"nominal\", \"field\": \"param_caught\"}, \"x\": {\"type\": \"quantitative\", \"field\": \"b1\", \"title\": \"b1\"}, \"y\": {\"type\": \"quantitative\", \"field\": \"id\", \"title\": \"Sample ID\"}}, \"title\": \"100 Randomly chosen b1 estimates\"}, {\"data\": {\"name\": \"data-069a3bd562c198e66ab089653451278f\"}, \"mark\": \"line\", \"encoding\": {\"color\": {\"type\": \"nominal\", \"field\": \"param_caught\", \"scale\": {\"domain\": [true, false], \"range\": [\"black\", \"red\"]}, \"title\": [\"True b1\", \"parameter value (0)\", \"captured within CI\"]}, \"x\": {\"type\": \"quantitative\", \"field\": \"ci95_lower\"}, \"x2\": {\"field\": \"ci95_upper\"}, \"y\": {\"type\": \"quantitative\", \"field\": \"id\"}}}, {\"data\": {\"name\": \"data-9c00aa9dc2b1c1a0b4bf9b34ead12925\"}, \"mark\": \"rule\", \"encoding\": {\"x\": {\"type\": \"quantitative\", \"field\": \"x\"}}}], \"height\": 700, \"$schema\": \"https://vega.github.io/schema/vega-lite/v4.8.1.json\", \"datasets\": {\"data-069a3bd562c198e66ab089653451278f\": [{\"b1\": -0.14105649112688096, \"se_b1\": 0.06019642039539284, \"ci95_lower\": -0.25904147510185094, \"ci95_upper\": -0.023071507151911003, \"param_caught\": false, \"id\": 0}, {\"b1\": -0.13913252411023275, \"se_b1\": 0.05405890034903774, \"ci95_lower\": -0.24508796879434672, \"ci95_upper\": -0.03317707942611878, \"param_caught\": false, \"id\": 1}, {\"b1\": -0.10254002367623297, \"se_b1\": 0.04962616301763381, \"ci95_lower\": -0.19980730319079523, \"ci95_upper\": -0.0052727441616707005, \"param_caught\": false, \"id\": 2}, {\"b1\": -0.09654976623605063, \"se_b1\": 0.06334872840937814, \"ci95_lower\": -0.22071327391843176, \"ci95_upper\": 0.02761374144633051, \"param_caught\": true, \"id\": 3}, {\"b1\": -0.09626290377813256, \"se_b1\": 0.048163012695086806, \"ci95_lower\": -0.19066240866050269, \"ci95_upper\": -0.0018633988957624248, \"param_caught\": false, \"id\": 4}, {\"b1\": -0.08544816682861903, \"se_b1\": 0.042557326538644594, \"ci95_lower\": -0.16886052684436242, \"ci95_upper\": -0.002035806812875629, \"param_caught\": false, \"id\": 5}, {\"b1\": -0.08116680902329027, \"se_b1\": 0.04503164873542131, \"ci95_lower\": -0.16942884054471602, \"ci95_upper\": 0.007095222498135503, \"param_caught\": true, \"id\": 6}, {\"b1\": -0.062351610342299385, \"se_b1\": 0.06715098924490204, \"ci95_lower\": -0.1939675492623074, \"ci95_upper\": 0.06926432857770862, \"param_caught\": true, \"id\": 7}, {\"b1\": -0.06116958743960032, \"se_b1\": 0.049303045123637146, \"ci95_lower\": -0.15780355588192913, \"ci95_upper\": 0.03546438100272848, \"param_caught\": true, \"id\": 8}, {\"b1\": -0.05992538557472875, \"se_b1\": 0.043402404165608484, \"ci95_lower\": -0.14499409773932137, \"ci95_upper\": 0.025143326589863874, \"param_caught\": true, \"id\": 9}, {\"b1\": -0.0522542312464188, \"se_b1\": 0.05715619940587975, \"ci95_lower\": -0.16428038208194312, \"ci95_upper\": 0.05977191958910551, \"param_caught\": true, \"id\": 10}, {\"b1\": -0.049815217228992854, \"se_b1\": 0.05524091292037464, \"ci95_lower\": -0.15808740655292713, \"ci95_upper\": 0.05845697209494143, \"param_caught\": true, \"id\": 11}, {\"b1\": -0.04913477387493802, \"se_b1\": 0.043726977028954506, \"ci95_lower\": -0.13483964885168886, \"ci95_upper\": 0.036570101101812816, \"param_caught\": true, \"id\": 12}, {\"b1\": -0.048774380388281635, \"se_b1\": 0.03672494747020006, \"ci95_lower\": -0.12075527742987376, \"ci95_upper\": 0.023206516653310486, \"param_caught\": true, \"id\": 13}, {\"b1\": -0.04734798443807632, \"se_b1\": 0.047337484280608445, \"ci95_lower\": -0.1401294536280689, \"ci95_upper\": 0.045433484751916234, \"param_caught\": true, \"id\": 14}, {\"b1\": -0.04670965798916042, \"se_b1\": 0.04590315136265832, \"ci95_lower\": -0.13667983465997074, \"ci95_upper\": 0.04326051868164989, \"param_caught\": true, \"id\": 15}, {\"b1\": -0.0437407954365571, \"se_b1\": 0.05105362438681005, \"ci95_lower\": -0.1438058992347048, \"ci95_upper\": 0.05632430836159059, \"param_caught\": true, \"id\": 16}, {\"b1\": -0.04269335813802415, \"se_b1\": 0.06362096946578304, \"ci95_lower\": -0.1673904582909589, \"ci95_upper\": 0.0820037420149106, \"param_caught\": true, \"id\": 17}, {\"b1\": -0.041293608908784266, \"se_b1\": 0.04168900204293016, \"ci95_lower\": -0.12300405291292738, \"ci95_upper\": 0.040416835095358844, \"param_caught\": true, \"id\": 18}, {\"b1\": -0.04006748665486483, \"se_b1\": 0.04471109920498462, \"ci95_lower\": -0.12770124109663467, \"ci95_upper\": 0.04756626778690502, \"param_caught\": true, \"id\": 19}, {\"b1\": -0.03915656171991785, \"se_b1\": 0.05298803451164056, \"ci95_lower\": -0.14301310936273334, \"ci95_upper\": 0.06469998592289763, \"param_caught\": true, \"id\": 20}, {\"b1\": -0.037594324955441, \"se_b1\": 0.046309239813562844, \"ci95_lower\": -0.12836043499002417, \"ci95_upper\": 0.053171785079142164, \"param_caught\": true, \"id\": 21}, {\"b1\": -0.03560135549841017, \"se_b1\": 0.04883900423264921, \"ci95_lower\": -0.13132580379440262, \"ci95_upper\": 0.06012309279758229, \"param_caught\": true, \"id\": 22}, {\"b1\": -0.02904255457205567, \"se_b1\": 0.04344800588903608, \"ci95_lower\": -0.11420064611456637, \"ci95_upper\": 0.05611553697045504, \"param_caught\": true, \"id\": 23}, {\"b1\": -0.028462515753967885, \"se_b1\": 0.05609425079010795, \"ci95_lower\": -0.13840724730257947, \"ci95_upper\": 0.0814822157946437, \"param_caught\": true, \"id\": 24}, {\"b1\": -0.028227230459087187, \"se_b1\": 0.05543013136133125, \"ci95_lower\": -0.13687028792729644, \"ci95_upper\": 0.08041582700912206, \"param_caught\": true, \"id\": 25}, {\"b1\": -0.02783179705138957, \"se_b1\": 0.047056234128229714, \"ci95_lower\": -0.12006201594271981, \"ci95_upper\": 0.06439842183994066, \"param_caught\": true, \"id\": 26}, {\"b1\": -0.027614164046539824, \"se_b1\": 0.04985626732966805, \"ci95_lower\": -0.12533244801268922, \"ci95_upper\": 0.07010411991960956, \"param_caught\": true, \"id\": 27}, {\"b1\": -0.02729069334353225, \"se_b1\": 0.03245845856599688, \"ci95_lower\": -0.09090927213288613, \"ci95_upper\": 0.036327885445821634, \"param_caught\": true, \"id\": 28}, {\"b1\": -0.02718381068867948, \"se_b1\": 0.05425400938884959, \"ci95_lower\": -0.1335216690908247, \"ci95_upper\": 0.07915404771346572, \"param_caught\": true, \"id\": 29}, {\"b1\": -0.023775356990712145, \"se_b1\": 0.06841695339731621, \"ci95_lower\": -0.15787258564945192, \"ci95_upper\": 0.11032187166802762, \"param_caught\": true, \"id\": 30}, {\"b1\": -0.02367132271648932, \"se_b1\": 0.0379847451553016, \"ci95_lower\": -0.09812142322088045, \"ci95_upper\": 0.05077877778790181, \"param_caught\": true, \"id\": 31}, {\"b1\": -0.02241333034643527, \"se_b1\": 0.04306150311656512, \"ci95_lower\": -0.1068138764549029, \"ci95_upper\": 0.06198721576203236, \"param_caught\": true, \"id\": 32}, {\"b1\": -0.017965553078208983, \"se_b1\": 0.05058973069976796, \"ci95_lower\": -0.11712142524975419, \"ci95_upper\": 0.08119031909333621, \"param_caught\": true, \"id\": 33}, {\"b1\": -0.015002243609796316, \"se_b1\": 0.04863976890937859, \"ci95_lower\": -0.11033619067217837, \"ci95_upper\": 0.08033170345258572, \"param_caught\": true, \"id\": 34}, {\"b1\": -0.014061488652481698, \"se_b1\": 0.060579667594942085, \"ci95_lower\": -0.13279763713856818, \"ci95_upper\": 0.1046746598336048, \"param_caught\": true, \"id\": 35}, {\"b1\": -0.012740151721264952, \"se_b1\": 0.04947422326032409, \"ci95_lower\": -0.10970962931150018, \"ci95_upper\": 0.08422932586897026, \"param_caught\": true, \"id\": 36}, {\"b1\": -0.012730456841324672, \"se_b1\": 0.05546447365576945, \"ci95_lower\": -0.1214408252066328, \"ci95_upper\": 0.09597991152398344, \"param_caught\": true, \"id\": 37}, {\"b1\": -0.012696126528484895, \"se_b1\": 0.05481847692445319, \"ci95_lower\": -0.12014034130041315, \"ci95_upper\": 0.09474808824344336, \"param_caught\": true, \"id\": 38}, {\"b1\": -0.011946736994917308, \"se_b1\": 0.055740960349426424, \"ci95_lower\": -0.1211990192797931, \"ci95_upper\": 0.0973055452899585, \"param_caught\": true, \"id\": 39}, {\"b1\": -0.010017531478656853, \"se_b1\": 0.050749134440472625, \"ci95_lower\": -0.1094858349819832, \"ci95_upper\": 0.0894507720246695, \"param_caught\": true, \"id\": 40}, {\"b1\": -0.008145118571029833, \"se_b1\": 0.05444292646581789, \"ci95_lower\": -0.11485325444403288, \"ci95_upper\": 0.09856301730197323, \"param_caught\": true, \"id\": 41}, {\"b1\": -0.0077656215023921985, \"se_b1\": 0.06075684641109635, \"ci95_lower\": -0.12684904046814105, \"ci95_upper\": 0.11131779746335664, \"param_caught\": true, \"id\": 42}, {\"b1\": -0.006846052990219356, \"se_b1\": 0.04733359099127925, \"ci95_lower\": -0.09961989133312668, \"ci95_upper\": 0.08592778535268797, \"param_caught\": true, \"id\": 43}, {\"b1\": -0.006232955317420843, \"se_b1\": 0.04863321531478444, \"ci95_lower\": -0.10155405733439835, \"ci95_upper\": 0.08908814669955667, \"param_caught\": true, \"id\": 44}, {\"b1\": -0.005715585895378658, \"se_b1\": 0.06000731183441597, \"ci95_lower\": -0.12332991709083395, \"ci95_upper\": 0.11189874530007664, \"param_caught\": true, \"id\": 45}, {\"b1\": -0.005070506726222384, \"se_b1\": 0.05659830546098352, \"ci95_lower\": -0.11600318542975008, \"ci95_upper\": 0.1058621719773053, \"param_caught\": true, \"id\": 46}, {\"b1\": -0.004495647799993074, \"se_b1\": 0.03989507538840105, \"ci95_lower\": -0.08268999556125914, \"ci95_upper\": 0.07369869996127298, \"param_caught\": true, \"id\": 47}, {\"b1\": -0.0031983572391703985, \"se_b1\": 0.05502885040791783, \"ci95_lower\": -0.11105490403868935, \"ci95_upper\": 0.10465818956034854, \"param_caught\": true, \"id\": 48}, {\"b1\": -0.0028277912894988924, \"se_b1\": 0.05399838415490216, \"ci95_lower\": -0.10866462423310712, \"ci95_upper\": 0.10300904165410933, \"param_caught\": true, \"id\": 49}, {\"b1\": -0.0020666473552634554, \"se_b1\": 0.05149561621384884, \"ci95_lower\": -0.10299805513440718, \"ci95_upper\": 0.09886476042388026, \"param_caught\": true, \"id\": 50}, {\"b1\": -0.00026539291120911655, \"se_b1\": 0.037792636090678615, \"ci95_lower\": -0.07433895964893919, \"ci95_upper\": 0.07380817382652097, \"param_caught\": true, \"id\": 51}, {\"b1\": 0.003742153241205826, \"se_b1\": 0.052537014505645255, \"ci95_lower\": -0.09923039518985886, \"ci95_upper\": 0.10671470167227053, \"param_caught\": true, \"id\": 52}, {\"b1\": 0.00508107602375973, \"se_b1\": 0.052578712943146685, \"ci95_lower\": -0.09797320134480776, \"ci95_upper\": 0.10813535339232723, \"param_caught\": true, \"id\": 53}, {\"b1\": 0.00622530278161346, \"se_b1\": 0.043608443609416875, \"ci95_lower\": -0.07924724669284362, \"ci95_upper\": 0.09169785225607054, \"param_caught\": true, \"id\": 54}, {\"b1\": 0.009017876196838465, \"se_b1\": 0.0595167601885279, \"ci95_lower\": -0.10763497377267621, \"ci95_upper\": 0.12567072616635314, \"param_caught\": true, \"id\": 55}, {\"b1\": 0.010524158449596135, \"se_b1\": 0.062354114527943955, \"ci95_lower\": -0.11168990602517402, \"ci95_upper\": 0.1327382229243663, \"param_caught\": true, \"id\": 56}, {\"b1\": 0.010528210280717676, \"se_b1\": 0.04049906118346594, \"ci95_lower\": -0.06884994963887556, \"ci95_upper\": 0.08990637020031092, \"param_caught\": true, \"id\": 57}, {\"b1\": 0.013263245625936167, \"se_b1\": 0.06191870922743151, \"ci95_lower\": -0.10809742445982959, \"ci95_upper\": 0.13462391571170193, \"param_caught\": true, \"id\": 58}, {\"b1\": 0.013913545545806098, \"se_b1\": 0.051619377302899574, \"ci95_lower\": -0.08726043396787707, \"ci95_upper\": 0.11508752505948926, \"param_caught\": true, \"id\": 59}, {\"b1\": 0.016647838977787217, \"se_b1\": 0.03640596541250649, \"ci95_lower\": -0.0547078532307255, \"ci95_upper\": 0.08800353118629994, \"param_caught\": true, \"id\": 60}, {\"b1\": 0.017834274952206047, \"se_b1\": 0.061690164686541954, \"ci95_lower\": -0.10307844783341619, \"ci95_upper\": 0.13874699773782828, \"param_caught\": true, \"id\": 61}, {\"b1\": 0.021827972361619204, \"se_b1\": 0.05600136219172985, \"ci95_lower\": -0.0879346975341713, \"ci95_upper\": 0.1315906422574097, \"param_caught\": true, \"id\": 62}, {\"b1\": 0.022853019417525024, \"se_b1\": 0.05760342606320358, \"ci95_lower\": -0.09004969566635398, \"ci95_upper\": 0.13575573450140405, \"param_caught\": true, \"id\": 63}, {\"b1\": 0.024666524786718536, \"se_b1\": 0.05051239060695611, \"ci95_lower\": -0.07433776080291543, \"ci95_upper\": 0.1236708103763525, \"param_caught\": true, \"id\": 64}, {\"b1\": 0.024857103116547298, \"se_b1\": 0.061068734859126894, \"ci95_lower\": -0.09483761720734141, \"ci95_upper\": 0.14455182344043602, \"param_caught\": true, \"id\": 65}, {\"b1\": 0.024959766684917402, \"se_b1\": 0.0605712335993352, \"ci95_lower\": -0.09375985116977958, \"ci95_upper\": 0.1436793845396144, \"param_caught\": true, \"id\": 66}, {\"b1\": 0.0265670213965385, \"se_b1\": 0.048873764287284474, \"ci95_lower\": -0.06922555660653906, \"ci95_upper\": 0.12235959939961608, \"param_caught\": true, \"id\": 67}, {\"b1\": 0.027559772209914957, \"se_b1\": 0.0533639642696189, \"ci95_lower\": -0.07703359775853809, \"ci95_upper\": 0.132153142178368, \"param_caught\": true, \"id\": 68}, {\"b1\": 0.030051558737493315, \"se_b1\": 0.049270564204570814, \"ci95_lower\": -0.06651874710346548, \"ci95_upper\": 0.12662186457845212, \"param_caught\": true, \"id\": 69}, {\"b1\": 0.03114977547973444, \"se_b1\": 0.0479219950457617, \"ci95_lower\": -0.0627773348099585, \"ci95_upper\": 0.12507688576942738, \"param_caught\": true, \"id\": 70}, {\"b1\": 0.03159319940874515, \"se_b1\": 0.05523603932216931, \"ci95_lower\": -0.0766694376627067, \"ci95_upper\": 0.139855836480197, \"param_caught\": true, \"id\": 71}, {\"b1\": 0.03519423040176292, \"se_b1\": 0.05571471499535245, \"ci95_lower\": -0.07400661098912788, \"ci95_upper\": 0.1443950717926537, \"param_caught\": true, \"id\": 72}, {\"b1\": 0.03682160348418574, \"se_b1\": 0.06357892745602266, \"ci95_lower\": -0.08779309432961867, \"ci95_upper\": 0.16143630129799014, \"param_caught\": true, \"id\": 73}, {\"b1\": 0.03847396597221052, \"se_b1\": 0.052873283470577785, \"ci95_lower\": -0.06515766963012194, \"ci95_upper\": 0.142105601574543, \"param_caught\": true, \"id\": 74}, {\"b1\": 0.03982706329115005, \"se_b1\": 0.054369018183163455, \"ci95_lower\": -0.06673621234785032, \"ci95_upper\": 0.1463903389301504, \"param_caught\": true, \"id\": 75}, {\"b1\": 0.04237208068092592, \"se_b1\": 0.04293796139573095, \"ci95_lower\": -0.04178632365470675, \"ci95_upper\": 0.12653048501655859, \"param_caught\": true, \"id\": 76}, {\"b1\": 0.04460876195301518, \"se_b1\": 0.06471052683412415, \"ci95_lower\": -0.08222387064186816, \"ci95_upper\": 0.17144139454789853, \"param_caught\": true, \"id\": 77}, {\"b1\": 0.04477858350492615, \"se_b1\": 0.05140467304283239, \"ci95_lower\": -0.05597457565902533, \"ci95_upper\": 0.14553174266887764, \"param_caught\": true, \"id\": 78}, {\"b1\": 0.045003651148541136, \"se_b1\": 0.05604613062503119, \"ci95_lower\": -0.06484676487652, \"ci95_upper\": 0.15485406717360228, \"param_caught\": true, \"id\": 79}, {\"b1\": 0.04764352242840854, \"se_b1\": 0.06285979083989107, \"ci95_lower\": -0.07556166761777797, \"ci95_upper\": 0.17084871247459504, \"param_caught\": true, \"id\": 80}, {\"b1\": 0.05030685108428719, \"se_b1\": 0.04894143294058335, \"ci95_lower\": -0.045618357479256175, \"ci95_upper\": 0.14623205964783054, \"param_caught\": true, \"id\": 81}, {\"b1\": 0.05135094807655531, \"se_b1\": 0.05604723943201069, \"ci95_lower\": -0.05850164121018564, \"ci95_upper\": 0.16120353736329626, \"param_caught\": true, \"id\": 82}, {\"b1\": 0.05223683728083002, \"se_b1\": 0.05630747030882867, \"ci95_lower\": -0.058125804524474176, \"ci95_upper\": 0.1625994790861342, \"param_caught\": true, \"id\": 83}, {\"b1\": 0.05265389437947334, \"se_b1\": 0.045849311015252935, \"ci95_lower\": -0.03721075521042241, \"ci95_upper\": 0.14251854396936908, \"param_caught\": true, \"id\": 84}, {\"b1\": 0.055227556143375885, \"se_b1\": 0.05005901843204001, \"ci95_lower\": -0.04288811998342253, \"ci95_upper\": 0.1533432322701743, \"param_caught\": true, \"id\": 85}, {\"b1\": 0.05614005813368394, \"se_b1\": 0.058477711820913596, \"ci95_lower\": -0.05847625703530671, \"ci95_upper\": 0.1707563733026746, \"param_caught\": true, \"id\": 86}, {\"b1\": 0.05950475022823323, \"se_b1\": 0.05775376197457952, \"ci95_lower\": -0.05369262324194263, \"ci95_upper\": 0.1727021236984091, \"param_caught\": true, \"id\": 87}, {\"b1\": 0.05975522184399357, \"se_b1\": 0.0385013973441809, \"ci95_lower\": -0.01570751695060099, \"ci95_upper\": 0.13521796063858812, \"param_caught\": true, \"id\": 88}, {\"b1\": 0.07332323139594604, \"se_b1\": 0.06069388736468725, \"ci95_lower\": -0.04563678783884097, \"ci95_upper\": 0.19228325063073304, \"param_caught\": true, \"id\": 89}, {\"b1\": 0.07524785183856572, \"se_b1\": 0.04427141653855988, \"ci95_lower\": -0.011524124577011643, \"ci95_upper\": 0.16201982825414307, \"param_caught\": true, \"id\": 90}, {\"b1\": 0.07705005971485952, \"se_b1\": 0.04651399623817298, \"ci95_lower\": -0.014117372911959525, \"ci95_upper\": 0.16821749234167857, \"param_caught\": true, \"id\": 91}, {\"b1\": 0.08227564881312507, \"se_b1\": 0.07347138193081931, \"ci95_lower\": -0.06172825977128077, \"ci95_upper\": 0.22627955739753092, \"param_caught\": true, \"id\": 92}, {\"b1\": 0.08436110335502608, \"se_b1\": 0.04619278667398166, \"ci95_lower\": -0.006176758525977974, \"ci95_upper\": 0.17489896523603016, \"param_caught\": true, \"id\": 93}, {\"b1\": 0.08973192865886698, \"se_b1\": 0.048273100219903164, \"ci95_lower\": -0.004883347772143221, \"ci95_upper\": 0.18434720508987718, \"param_caught\": true, \"id\": 94}, {\"b1\": 0.0925675295557411, \"se_b1\": 0.05734613086242921, \"ci95_lower\": -0.019830886934620137, \"ci95_upper\": 0.20496594604610235, \"param_caught\": true, \"id\": 95}, {\"b1\": 0.10512216143411832, \"se_b1\": 0.05388997001121464, \"ci95_lower\": -0.0005021797878623779, \"ci95_upper\": 0.210746502656099, \"param_caught\": true, \"id\": 96}, {\"b1\": 0.11034603397177836, \"se_b1\": 0.06862235462303712, \"ci95_lower\": -0.024153781089374382, \"ci95_upper\": 0.2448458490329311, \"param_caught\": true, \"id\": 97}, {\"b1\": 0.11161838017791792, \"se_b1\": 0.04768539678963805, \"ci95_lower\": 0.018155002470227347, \"ci95_upper\": 0.2050817578856085, \"param_caught\": false, \"id\": 98}, {\"b1\": 0.18042278117920912, \"se_b1\": 0.04434095300307464, \"ci95_lower\": 0.09351451329318283, \"ci95_upper\": 0.2673310490652354, \"param_caught\": false, \"id\": 99}], \"data-9c00aa9dc2b1c1a0b4bf9b34ead12925\": [{\"x\": 0}]}}, {\"mode\": \"vega-lite\"});\n",
       "</script>"
      ],
      "text/plain": [
       "alt.LayerChart(...)"
      ]
     },
     "execution_count": 429,
     "metadata": {},
     "output_type": "execute_result"
    }
   ],
   "source": [
    "# Take a new sample and clean it up\n",
    "sample_estimates = sim_w_cluster.sample(sample_size)\n",
    "sample_estimates = sample_estimates.sort_values('b1')\n",
    "sample_estimates = sample_estimates.reset_index(drop=True)\n",
    "sample_estimates['id'] = sample_estimates.index\n",
    "\n",
    "\n",
    "domain_ = [True, False]\n",
    "range_ = ['black', 'red']\n",
    "\n",
    "points = alt.Chart(\n",
    "    sample_estimates,\n",
    "    title = '100 Randomly chosen b1 estimates'\n",
    ").mark_point(filled=True).encode(\n",
    "    x = alt.X(\"b1:Q\", title ='b1'),\n",
    "    y = alt.Y(\"id:Q\", title='Sample ID'),\n",
    "    color = alt.Color(\"param_caught:N\")\n",
    ")\n",
    "\n",
    "ci_lines = alt.Chart(\n",
    "    sample_estimates\n",
    ").mark_line().encode(\n",
    "    x = alt.X(\"ci95_lower:Q\"),\n",
    "    x2 = alt.X2(\"ci95_upper:Q\"),\n",
    "    y = alt.Y(\"id:Q\"),\n",
    "    color = alt.Color(\n",
    "        \"param_caught:N\",\n",
    "        title=['True b1','parameter value (0)','captured within CI'],\n",
    "        scale=alt.Scale(domain=domain_, range=range_)\n",
    "    )\n",
    ")\n",
    "truemeanline = alt.Chart(pd.DataFrame({\n",
    "    'x' : [0]\n",
    "})).mark_rule().encode(\n",
    "    x = 'x:Q'\n",
    ")\n",
    "\n",
    "alt.layer(\n",
    "    points,\n",
    "    ci_lines,\n",
    "    truemeanline\n",
    ").properties(\n",
    "    height=700\n",
    ").configure_axis(\n",
    "    titleFontSize=15,\n",
    "    labelFontSize=14\n",
    ").configure_legend(\n",
    "    titleFontSize=15,\n",
    "    labelFontSize=14\n",
    ").configure_title(\n",
    "    fontSize=15\n",
    ")"
   ]
  },
  {
   "cell_type": "code",
   "execution_count": null,
   "metadata": {},
   "outputs": [],
   "source": []
  },
  {
   "cell_type": "code",
   "execution_count": 406,
   "metadata": {},
   "outputs": [],
   "source": [
    "rhos = np.array([1,.5,0])\n",
    "allrhos = np.repeat(rhos, repeats=50)"
   ]
  },
  {
   "cell_type": "code",
   "execution_count": 407,
   "metadata": {},
   "outputs": [],
   "source": [
    "datasets = []\n",
    "\n",
    "\n",
    "for temp_rho in allrhos:\n",
    "    datasets.append(gen_cluster(param = (.1, .5), n = 1000, n_cluster = 50, rho = temp_rho))"
   ]
  },
  {
   "cell_type": "code",
   "execution_count": 431,
   "metadata": {},
   "outputs": [
    {
     "data": {
      "text/plain": [
       "{1: 0.7071781270161536,\n",
       " 2: 1.198172115307831,\n",
       " 3: 0.826048403721237,\n",
       " 4: 0.8305526569707155,\n",
       " 5: 0.7059712902542031,\n",
       " 6: 0.7092506262692977,\n",
       " 7: 0.7881460681017228,\n",
       " 8: 0.7914424805194823,\n",
       " 9: 1.0871409682498974,\n",
       " 10: 1.3020988219125427,\n",
       " 11: 1.114519042134536,\n",
       " 12: 0.6044719253265579,\n",
       " 13: 1.131533441864776,\n",
       " 14: 0.6274906123891414,\n",
       " 15: 1.232191593772438,\n",
       " 16: 1.306546096507019,\n",
       " 17: 0.7966347990803738,\n",
       " 18: 1.2218052289988244,\n",
       " 19: 1.174314469439438,\n",
       " 20: 0.8403488749310353,\n",
       " 21: 0.7905886407750509,\n",
       " 22: 0.9544484018203429,\n",
       " 23: 0.6130010811834331,\n",
       " 24: 0.9018437095518356,\n",
       " 25: 1.045021216082925,\n",
       " 26: 0.9192175070947473,\n",
       " 27: 1.6317992895586724,\n",
       " 28: 0.817508568280941,\n",
       " 29: 0.990374629059343,\n",
       " 30: 1.0716464608288785,\n",
       " 31: 0.7991457416835681,\n",
       " 32: 1.135072112926072,\n",
       " 33: 0.8347309860407313,\n",
       " 34: 1.1214369654487641,\n",
       " 35: 1.349507713934812,\n",
       " 36: 1.8728761480041243,\n",
       " 37: 0.6363650779844113,\n",
       " 38: 1.1071565786925428,\n",
       " 39: 1.3909793507560293,\n",
       " 40: 0.7297457667013346,\n",
       " 41: 1.0365003567196414,\n",
       " 42: 1.1159226722402005,\n",
       " 43: 1.6686070536525672,\n",
       " 44: 0.6928758232623041,\n",
       " 45: 1.1180576558448483,\n",
       " 46: 1.2801072757959242,\n",
       " 47: 0.624231385447905,\n",
       " 48: 1.1317853658212613,\n",
       " 49: 1.502981609031712,\n",
       " 50: 0.7621528274530751}"
      ]
     },
     "execution_count": 431,
     "metadata": {},
     "output_type": "execute_result"
    }
   ],
   "source": []
  },
  {
   "cell_type": "code",
   "execution_count": 432,
   "metadata": {},
   "outputs": [],
   "source": [
    "info = {}\n",
    "\n",
    "for idx, data in enumerate(zip(datasets,allrhos)):\n",
    "    d, r = data\n",
    "    xvars = d.groupby('cluster')['x'].var().to_dict()\n",
    "    yvars = d.groupby('cluster')['y'].var().to_dict()\n",
    "    \n",
    "    info[idx] = {\n",
    "        'rho':r,\n",
    "        'xvars': xvars,\n",
    "        'yvars': yvars\n",
    "    }\n"
   ]
  },
  {
   "cell_type": "code",
   "execution_count": 435,
   "metadata": {},
   "outputs": [
    {
     "data": {
      "text/html": [
       "<div>\n",
       "<style scoped>\n",
       "    .dataframe tbody tr th:only-of-type {\n",
       "        vertical-align: middle;\n",
       "    }\n",
       "\n",
       "    .dataframe tbody tr th {\n",
       "        vertical-align: top;\n",
       "    }\n",
       "\n",
       "    .dataframe thead th {\n",
       "        text-align: right;\n",
       "    }\n",
       "</style>\n",
       "<table border=\"1\" class=\"dataframe\">\n",
       "  <thead>\n",
       "    <tr style=\"text-align: right;\">\n",
       "      <th></th>\n",
       "      <th>x</th>\n",
       "      <th>y</th>\n",
       "      <th>cluster</th>\n",
       "    </tr>\n",
       "  </thead>\n",
       "  <tbody>\n",
       "    <tr>\n",
       "      <th>0</th>\n",
       "      <td>-0.374795</td>\n",
       "      <td>2.067374</td>\n",
       "      <td>1</td>\n",
       "    </tr>\n",
       "    <tr>\n",
       "      <th>1</th>\n",
       "      <td>-1.038024</td>\n",
       "      <td>1.735759</td>\n",
       "      <td>1</td>\n",
       "    </tr>\n",
       "    <tr>\n",
       "      <th>2</th>\n",
       "      <td>-0.288700</td>\n",
       "      <td>2.110421</td>\n",
       "      <td>1</td>\n",
       "    </tr>\n",
       "    <tr>\n",
       "      <th>3</th>\n",
       "      <td>-0.520836</td>\n",
       "      <td>1.994353</td>\n",
       "      <td>1</td>\n",
       "    </tr>\n",
       "    <tr>\n",
       "      <th>4</th>\n",
       "      <td>-1.561646</td>\n",
       "      <td>1.473948</td>\n",
       "      <td>1</td>\n",
       "    </tr>\n",
       "    <tr>\n",
       "      <th>...</th>\n",
       "      <td>...</td>\n",
       "      <td>...</td>\n",
       "      <td>...</td>\n",
       "    </tr>\n",
       "    <tr>\n",
       "      <th>995</th>\n",
       "      <td>0.152174</td>\n",
       "      <td>0.183053</td>\n",
       "      <td>50</td>\n",
       "    </tr>\n",
       "    <tr>\n",
       "      <th>996</th>\n",
       "      <td>1.597068</td>\n",
       "      <td>0.905500</td>\n",
       "      <td>50</td>\n",
       "    </tr>\n",
       "    <tr>\n",
       "      <th>997</th>\n",
       "      <td>-0.056969</td>\n",
       "      <td>0.078481</td>\n",
       "      <td>50</td>\n",
       "    </tr>\n",
       "    <tr>\n",
       "      <th>998</th>\n",
       "      <td>0.112934</td>\n",
       "      <td>0.163433</td>\n",
       "      <td>50</td>\n",
       "    </tr>\n",
       "    <tr>\n",
       "      <th>999</th>\n",
       "      <td>1.991983</td>\n",
       "      <td>1.102957</td>\n",
       "      <td>50</td>\n",
       "    </tr>\n",
       "  </tbody>\n",
       "</table>\n",
       "<p>1000 rows × 3 columns</p>\n",
       "</div>"
      ],
      "text/plain": [
       "            x         y  cluster\n",
       "0   -0.374795  2.067374        1\n",
       "1   -1.038024  1.735759        1\n",
       "2   -0.288700  2.110421        1\n",
       "3   -0.520836  1.994353        1\n",
       "4   -1.561646  1.473948        1\n",
       "..        ...       ...      ...\n",
       "995  0.152174  0.183053       50\n",
       "996  1.597068  0.905500       50\n",
       "997 -0.056969  0.078481       50\n",
       "998  0.112934  0.163433       50\n",
       "999  1.991983  1.102957       50\n",
       "\n",
       "[1000 rows x 3 columns]"
      ]
     },
     "execution_count": 435,
     "metadata": {},
     "output_type": "execute_result"
    }
   ],
   "source": [
    "datasets[0]"
   ]
  },
  {
   "cell_type": "code",
   "execution_count": 445,
   "metadata": {},
   "outputs": [],
   "source": [
    "results = []\n",
    "\n",
    "for key,val in info.items():\n",
    "    xvars_mean = np.mean(list(val['xvars'].items()))\n",
    "    xvars_std = np.std(list(val['xvars'].items()))\n",
    "    \n",
    "    yvars_mean = np.var(list(val['yvars'].items()))\n",
    "    yvars_std = np.var(list(val['yvars'].items()))\n",
    "    \n",
    "    r_temp = val['rho']\n",
    "    \n",
    "    results.append(\n",
    "        (r_temp, xvars_mean, xvars_std, yvars_mean, yvars_std)\n",
    "    )\n",
    "\n"
   ]
  },
  {
   "cell_type": "code",
   "execution_count": 446,
   "metadata": {},
   "outputs": [],
   "source": [
    "newdf = pd.DataFrame(results)"
   ]
  },
  {
   "cell_type": "code",
   "execution_count": 448,
   "metadata": {},
   "outputs": [],
   "source": [
    "newdf.columns = ('r_temp', 'xvars_mean', 'xvars_std', 'yvars_mean', 'yvars_std')"
   ]
  },
  {
   "cell_type": "code",
   "execution_count": 449,
   "metadata": {},
   "outputs": [
    {
     "data": {
      "text/html": [
       "<div>\n",
       "<style scoped>\n",
       "    .dataframe tbody tr th:only-of-type {\n",
       "        vertical-align: middle;\n",
       "    }\n",
       "\n",
       "    .dataframe tbody tr th {\n",
       "        vertical-align: top;\n",
       "    }\n",
       "\n",
       "    .dataframe thead th {\n",
       "        text-align: right;\n",
       "    }\n",
       "</style>\n",
       "<table border=\"1\" class=\"dataframe\">\n",
       "  <thead>\n",
       "    <tr style=\"text-align: right;\">\n",
       "      <th></th>\n",
       "      <th>r_temp</th>\n",
       "      <th>xvars_mean</th>\n",
       "      <th>xvars_std</th>\n",
       "      <th>yvars_mean</th>\n",
       "      <th>yvars_std</th>\n",
       "    </tr>\n",
       "  </thead>\n",
       "  <tbody>\n",
       "    <tr>\n",
       "      <th>0</th>\n",
       "      <td>1.0</td>\n",
       "      <td>13.256415</td>\n",
       "      <td>15.939671</td>\n",
       "      <td>263.477803</td>\n",
       "      <td>263.477803</td>\n",
       "    </tr>\n",
       "    <tr>\n",
       "      <th>1</th>\n",
       "      <td>1.0</td>\n",
       "      <td>13.238676</td>\n",
       "      <td>15.953856</td>\n",
       "      <td>263.590896</td>\n",
       "      <td>263.590896</td>\n",
       "    </tr>\n",
       "    <tr>\n",
       "      <th>2</th>\n",
       "      <td>1.0</td>\n",
       "      <td>13.248938</td>\n",
       "      <td>15.945131</td>\n",
       "      <td>263.524431</td>\n",
       "      <td>263.524431</td>\n",
       "    </tr>\n",
       "    <tr>\n",
       "      <th>3</th>\n",
       "      <td>1.0</td>\n",
       "      <td>13.289234</td>\n",
       "      <td>15.914653</td>\n",
       "      <td>263.271079</td>\n",
       "      <td>263.271079</td>\n",
       "    </tr>\n",
       "    <tr>\n",
       "      <th>4</th>\n",
       "      <td>1.0</td>\n",
       "      <td>13.223657</td>\n",
       "      <td>15.964553</td>\n",
       "      <td>263.684041</td>\n",
       "      <td>263.684041</td>\n",
       "    </tr>\n",
       "    <tr>\n",
       "      <th>...</th>\n",
       "      <td>...</td>\n",
       "      <td>...</td>\n",
       "      <td>...</td>\n",
       "      <td>...</td>\n",
       "      <td>...</td>\n",
       "    </tr>\n",
       "    <tr>\n",
       "      <th>145</th>\n",
       "      <td>0.0</td>\n",
       "      <td>13.263671</td>\n",
       "      <td>15.934305</td>\n",
       "      <td>251.376494</td>\n",
       "      <td>251.376494</td>\n",
       "    </tr>\n",
       "    <tr>\n",
       "      <th>146</th>\n",
       "      <td>0.0</td>\n",
       "      <td>13.294493</td>\n",
       "      <td>15.910773</td>\n",
       "      <td>250.413606</td>\n",
       "      <td>250.413606</td>\n",
       "    </tr>\n",
       "    <tr>\n",
       "      <th>147</th>\n",
       "      <td>0.0</td>\n",
       "      <td>13.289790</td>\n",
       "      <td>15.914168</td>\n",
       "      <td>250.348592</td>\n",
       "      <td>250.348592</td>\n",
       "    </tr>\n",
       "    <tr>\n",
       "      <th>148</th>\n",
       "      <td>0.0</td>\n",
       "      <td>13.237717</td>\n",
       "      <td>15.954279</td>\n",
       "      <td>251.806488</td>\n",
       "      <td>251.806488</td>\n",
       "    </tr>\n",
       "    <tr>\n",
       "      <th>149</th>\n",
       "      <td>0.0</td>\n",
       "      <td>13.213029</td>\n",
       "      <td>15.973214</td>\n",
       "      <td>251.980086</td>\n",
       "      <td>251.980086</td>\n",
       "    </tr>\n",
       "  </tbody>\n",
       "</table>\n",
       "<p>150 rows × 5 columns</p>\n",
       "</div>"
      ],
      "text/plain": [
       "     r_temp  xvars_mean  xvars_std  yvars_mean   yvars_std\n",
       "0       1.0   13.256415  15.939671  263.477803  263.477803\n",
       "1       1.0   13.238676  15.953856  263.590896  263.590896\n",
       "2       1.0   13.248938  15.945131  263.524431  263.524431\n",
       "3       1.0   13.289234  15.914653  263.271079  263.271079\n",
       "4       1.0   13.223657  15.964553  263.684041  263.684041\n",
       "..      ...         ...        ...         ...         ...\n",
       "145     0.0   13.263671  15.934305  251.376494  251.376494\n",
       "146     0.0   13.294493  15.910773  250.413606  250.413606\n",
       "147     0.0   13.289790  15.914168  250.348592  250.348592\n",
       "148     0.0   13.237717  15.954279  251.806488  251.806488\n",
       "149     0.0   13.213029  15.973214  251.980086  251.980086\n",
       "\n",
       "[150 rows x 5 columns]"
      ]
     },
     "execution_count": 449,
     "metadata": {},
     "output_type": "execute_result"
    }
   ],
   "source": [
    "newdf"
   ]
  },
  {
   "cell_type": "code",
   "execution_count": 453,
   "metadata": {},
   "outputs": [
    {
     "data": {
      "text/html": [
       "<div>\n",
       "<style scoped>\n",
       "    .dataframe tbody tr th:only-of-type {\n",
       "        vertical-align: middle;\n",
       "    }\n",
       "\n",
       "    .dataframe tbody tr th {\n",
       "        vertical-align: top;\n",
       "    }\n",
       "\n",
       "    .dataframe thead th {\n",
       "        text-align: right;\n",
       "    }\n",
       "</style>\n",
       "<table border=\"1\" class=\"dataframe\">\n",
       "  <thead>\n",
       "    <tr style=\"text-align: right;\">\n",
       "      <th></th>\n",
       "      <th>r_temp</th>\n",
       "      <th>variable</th>\n",
       "      <th>value</th>\n",
       "    </tr>\n",
       "  </thead>\n",
       "  <tbody>\n",
       "    <tr>\n",
       "      <th>0</th>\n",
       "      <td>1.0</td>\n",
       "      <td>xvars_mean</td>\n",
       "      <td>13.256415</td>\n",
       "    </tr>\n",
       "    <tr>\n",
       "      <th>1</th>\n",
       "      <td>1.0</td>\n",
       "      <td>xvars_mean</td>\n",
       "      <td>13.238676</td>\n",
       "    </tr>\n",
       "    <tr>\n",
       "      <th>2</th>\n",
       "      <td>1.0</td>\n",
       "      <td>xvars_mean</td>\n",
       "      <td>13.248938</td>\n",
       "    </tr>\n",
       "    <tr>\n",
       "      <th>3</th>\n",
       "      <td>1.0</td>\n",
       "      <td>xvars_mean</td>\n",
       "      <td>13.289234</td>\n",
       "    </tr>\n",
       "    <tr>\n",
       "      <th>4</th>\n",
       "      <td>1.0</td>\n",
       "      <td>xvars_mean</td>\n",
       "      <td>13.223657</td>\n",
       "    </tr>\n",
       "    <tr>\n",
       "      <th>...</th>\n",
       "      <td>...</td>\n",
       "      <td>...</td>\n",
       "      <td>...</td>\n",
       "    </tr>\n",
       "    <tr>\n",
       "      <th>595</th>\n",
       "      <td>0.0</td>\n",
       "      <td>yvars_std</td>\n",
       "      <td>251.376494</td>\n",
       "    </tr>\n",
       "    <tr>\n",
       "      <th>596</th>\n",
       "      <td>0.0</td>\n",
       "      <td>yvars_std</td>\n",
       "      <td>250.413606</td>\n",
       "    </tr>\n",
       "    <tr>\n",
       "      <th>597</th>\n",
       "      <td>0.0</td>\n",
       "      <td>yvars_std</td>\n",
       "      <td>250.348592</td>\n",
       "    </tr>\n",
       "    <tr>\n",
       "      <th>598</th>\n",
       "      <td>0.0</td>\n",
       "      <td>yvars_std</td>\n",
       "      <td>251.806488</td>\n",
       "    </tr>\n",
       "    <tr>\n",
       "      <th>599</th>\n",
       "      <td>0.0</td>\n",
       "      <td>yvars_std</td>\n",
       "      <td>251.980086</td>\n",
       "    </tr>\n",
       "  </tbody>\n",
       "</table>\n",
       "<p>600 rows × 3 columns</p>\n",
       "</div>"
      ],
      "text/plain": [
       "     r_temp    variable       value\n",
       "0       1.0  xvars_mean   13.256415\n",
       "1       1.0  xvars_mean   13.238676\n",
       "2       1.0  xvars_mean   13.248938\n",
       "3       1.0  xvars_mean   13.289234\n",
       "4       1.0  xvars_mean   13.223657\n",
       "..      ...         ...         ...\n",
       "595     0.0   yvars_std  251.376494\n",
       "596     0.0   yvars_std  250.413606\n",
       "597     0.0   yvars_std  250.348592\n",
       "598     0.0   yvars_std  251.806488\n",
       "599     0.0   yvars_std  251.980086\n",
       "\n",
       "[600 rows x 3 columns]"
      ]
     },
     "execution_count": 453,
     "metadata": {},
     "output_type": "execute_result"
    }
   ],
   "source": [
    "newdf.melt(id_vars='r_temp')"
   ]
  },
  {
   "cell_type": "code",
   "execution_count": 457,
   "metadata": {},
   "outputs": [
    {
     "data": {
      "text/html": [
       "\n",
       "<div id=\"altair-viz-c43bb34b2a9b49aa97250e79b53f9925\"></div>\n",
       "<script type=\"text/javascript\">\n",
       "  (function(spec, embedOpt){\n",
       "    let outputDiv = document.currentScript.previousElementSibling;\n",
       "    if (outputDiv.id !== \"altair-viz-c43bb34b2a9b49aa97250e79b53f9925\") {\n",
       "      outputDiv = document.getElementById(\"altair-viz-c43bb34b2a9b49aa97250e79b53f9925\");\n",
       "    }\n",
       "    const paths = {\n",
       "      \"vega\": \"https://cdn.jsdelivr.net/npm//vega@5?noext\",\n",
       "      \"vega-lib\": \"https://cdn.jsdelivr.net/npm//vega-lib?noext\",\n",
       "      \"vega-lite\": \"https://cdn.jsdelivr.net/npm//vega-lite@4.8.1?noext\",\n",
       "      \"vega-embed\": \"https://cdn.jsdelivr.net/npm//vega-embed@6?noext\",\n",
       "    };\n",
       "\n",
       "    function loadScript(lib) {\n",
       "      return new Promise(function(resolve, reject) {\n",
       "        var s = document.createElement('script');\n",
       "        s.src = paths[lib];\n",
       "        s.async = true;\n",
       "        s.onload = () => resolve(paths[lib]);\n",
       "        s.onerror = () => reject(`Error loading script: ${paths[lib]}`);\n",
       "        document.getElementsByTagName(\"head\")[0].appendChild(s);\n",
       "      });\n",
       "    }\n",
       "\n",
       "    function showError(err) {\n",
       "      outputDiv.innerHTML = `<div class=\"error\" style=\"color:red;\">${err}</div>`;\n",
       "      throw err;\n",
       "    }\n",
       "\n",
       "    function displayChart(vegaEmbed) {\n",
       "      vegaEmbed(outputDiv, spec, embedOpt)\n",
       "        .catch(err => showError(`Javascript Error: ${err.message}<br>This usually means there's a typo in your chart specification. See the javascript console for the full traceback.`));\n",
       "    }\n",
       "\n",
       "    if(typeof define === \"function\" && define.amd) {\n",
       "      requirejs.config({paths});\n",
       "      require([\"vega-embed\"], displayChart, err => showError(`Error loading script: ${err.message}`));\n",
       "    } else if (typeof vegaEmbed === \"function\") {\n",
       "      displayChart(vegaEmbed);\n",
       "    } else {\n",
       "      loadScript(\"vega\")\n",
       "        .then(() => loadScript(\"vega-lite\"))\n",
       "        .then(() => loadScript(\"vega-embed\"))\n",
       "        .catch(showError)\n",
       "        .then(() => displayChart(vegaEmbed));\n",
       "    }\n",
       "  })({\"config\": {\"view\": {\"continuousWidth\": 400, \"continuousHeight\": 300}}, \"data\": {\"name\": \"data-efccb20e5e89ce3663ea2e4d282ec0cd\"}, \"mark\": {\"type\": \"point\", \"size\": 100}, \"encoding\": {\"color\": {\"type\": \"nominal\", \"field\": \"variable\"}, \"shape\": {\"type\": \"nominal\", \"field\": \"variable\"}, \"x\": {\"type\": \"ordinal\", \"field\": \"r_temp\"}, \"y\": {\"type\": \"quantitative\", \"aggregate\": \"mean\", \"field\": \"value\"}}, \"height\": 500, \"width\": 500, \"$schema\": \"https://vega.github.io/schema/vega-lite/v4.8.1.json\", \"datasets\": {\"data-efccb20e5e89ce3663ea2e4d282ec0cd\": [{\"r_temp\": 1.0, \"variable\": \"xvars_mean\", \"value\": 13.256415456144452}, {\"r_temp\": 1.0, \"variable\": \"xvars_mean\", \"value\": 13.23867552396541}, {\"r_temp\": 1.0, \"variable\": \"xvars_mean\", \"value\": 13.248938480562225}, {\"r_temp\": 1.0, \"variable\": \"xvars_mean\", \"value\": 13.289234260426609}, {\"r_temp\": 1.0, \"variable\": \"xvars_mean\", \"value\": 13.223657418889163}, {\"r_temp\": 1.0, \"variable\": \"xvars_mean\", \"value\": 13.250770932380192}, {\"r_temp\": 1.0, \"variable\": \"xvars_mean\", \"value\": 13.240276518129487}, {\"r_temp\": 1.0, \"variable\": \"xvars_mean\", \"value\": 13.23124670096284}, {\"r_temp\": 1.0, \"variable\": \"xvars_mean\", \"value\": 13.2799207913587}, {\"r_temp\": 1.0, \"variable\": \"xvars_mean\", \"value\": 13.241989617253664}, {\"r_temp\": 1.0, \"variable\": \"xvars_mean\", \"value\": 13.293162288231386}, {\"r_temp\": 1.0, \"variable\": \"xvars_mean\", \"value\": 13.238162593815932}, {\"r_temp\": 1.0, \"variable\": \"xvars_mean\", \"value\": 13.237786284716769}, {\"r_temp\": 1.0, \"variable\": \"xvars_mean\", \"value\": 13.213786627460628}, {\"r_temp\": 1.0, \"variable\": \"xvars_mean\", \"value\": 13.252054615919524}, {\"r_temp\": 1.0, \"variable\": \"xvars_mean\", \"value\": 13.290640356016345}, {\"r_temp\": 1.0, \"variable\": \"xvars_mean\", \"value\": 13.29655836581283}, {\"r_temp\": 1.0, \"variable\": \"xvars_mean\", \"value\": 13.250572946384963}, {\"r_temp\": 1.0, \"variable\": \"xvars_mean\", \"value\": 13.253926908527353}, {\"r_temp\": 1.0, \"variable\": \"xvars_mean\", \"value\": 13.24934752352214}, {\"r_temp\": 1.0, \"variable\": \"xvars_mean\", \"value\": 13.248863680802433}, {\"r_temp\": 1.0, \"variable\": \"xvars_mean\", \"value\": 13.252409766971466}, {\"r_temp\": 1.0, \"variable\": \"xvars_mean\", \"value\": 13.209139351238264}, {\"r_temp\": 1.0, \"variable\": \"xvars_mean\", \"value\": 13.259381477469814}, {\"r_temp\": 1.0, \"variable\": \"xvars_mean\", \"value\": 13.269402989654605}, {\"r_temp\": 1.0, \"variable\": \"xvars_mean\", \"value\": 13.261929089894569}, {\"r_temp\": 1.0, \"variable\": \"xvars_mean\", \"value\": 13.301590820932036}, {\"r_temp\": 1.0, \"variable\": \"xvars_mean\", \"value\": 13.258411624479248}, {\"r_temp\": 1.0, \"variable\": \"xvars_mean\", \"value\": 13.255239265630944}, {\"r_temp\": 1.0, \"variable\": \"xvars_mean\", \"value\": 13.245701269817483}, {\"r_temp\": 1.0, \"variable\": \"xvars_mean\", \"value\": 13.251658274113074}, {\"r_temp\": 1.0, \"variable\": \"xvars_mean\", \"value\": 13.277037590551938}, {\"r_temp\": 1.0, \"variable\": \"xvars_mean\", \"value\": 13.220616505769708}, {\"r_temp\": 1.0, \"variable\": \"xvars_mean\", \"value\": 13.266479309551517}, {\"r_temp\": 1.0, \"variable\": \"xvars_mean\", \"value\": 13.236611946254017}, {\"r_temp\": 1.0, \"variable\": \"xvars_mean\", \"value\": 13.288398007287102}, {\"r_temp\": 1.0, \"variable\": \"xvars_mean\", \"value\": 13.24535301632124}, {\"r_temp\": 1.0, \"variable\": \"xvars_mean\", \"value\": 13.270643835377534}, {\"r_temp\": 1.0, \"variable\": \"xvars_mean\", \"value\": 13.252988466316422}, {\"r_temp\": 1.0, \"variable\": \"xvars_mean\", \"value\": 13.234820291642214}, {\"r_temp\": 1.0, \"variable\": \"xvars_mean\", \"value\": 13.250831282692374}, {\"r_temp\": 1.0, \"variable\": \"xvars_mean\", \"value\": 13.289086473702907}, {\"r_temp\": 1.0, \"variable\": \"xvars_mean\", \"value\": 13.259133597179744}, {\"r_temp\": 1.0, \"variable\": \"xvars_mean\", \"value\": 13.257035782451142}, {\"r_temp\": 1.0, \"variable\": \"xvars_mean\", \"value\": 13.242863245099112}, {\"r_temp\": 1.0, \"variable\": \"xvars_mean\", \"value\": 13.236696417679994}, {\"r_temp\": 1.0, \"variable\": \"xvars_mean\", \"value\": 13.261338725669322}, {\"r_temp\": 1.0, \"variable\": \"xvars_mean\", \"value\": 13.272839049774227}, {\"r_temp\": 1.0, \"variable\": \"xvars_mean\", \"value\": 13.22039001334483}, {\"r_temp\": 1.0, \"variable\": \"xvars_mean\", \"value\": 13.287084312160548}, {\"r_temp\": 0.5, \"variable\": \"xvars_mean\", \"value\": 13.277608171923935}, {\"r_temp\": 0.5, \"variable\": \"xvars_mean\", \"value\": 13.282623962948085}, {\"r_temp\": 0.5, \"variable\": \"xvars_mean\", \"value\": 13.299920111876448}, {\"r_temp\": 0.5, \"variable\": \"xvars_mean\", \"value\": 13.234443582363292}, {\"r_temp\": 0.5, \"variable\": \"xvars_mean\", \"value\": 13.252778094883327}, {\"r_temp\": 0.5, \"variable\": \"xvars_mean\", \"value\": 13.226305067144622}, {\"r_temp\": 0.5, \"variable\": \"xvars_mean\", \"value\": 13.25331164478284}, {\"r_temp\": 0.5, \"variable\": \"xvars_mean\", \"value\": 13.267243630767387}, {\"r_temp\": 0.5, \"variable\": \"xvars_mean\", \"value\": 13.250682741034788}, {\"r_temp\": 0.5, \"variable\": \"xvars_mean\", \"value\": 13.289437352690406}, {\"r_temp\": 0.5, \"variable\": \"xvars_mean\", \"value\": 13.246198701041738}, {\"r_temp\": 0.5, \"variable\": \"xvars_mean\", \"value\": 13.28669093053236}, {\"r_temp\": 0.5, \"variable\": \"xvars_mean\", \"value\": 13.251802429025883}, {\"r_temp\": 0.5, \"variable\": \"xvars_mean\", \"value\": 13.2830609158872}, {\"r_temp\": 0.5, \"variable\": \"xvars_mean\", \"value\": 13.320004264678623}, {\"r_temp\": 0.5, \"variable\": \"xvars_mean\", \"value\": 13.231344246451592}, {\"r_temp\": 0.5, \"variable\": \"xvars_mean\", \"value\": 13.233197590437765}, {\"r_temp\": 0.5, \"variable\": \"xvars_mean\", \"value\": 13.241535871793092}, {\"r_temp\": 0.5, \"variable\": \"xvars_mean\", \"value\": 13.207401580369172}, {\"r_temp\": 0.5, \"variable\": \"xvars_mean\", \"value\": 13.266419113245469}, {\"r_temp\": 0.5, \"variable\": \"xvars_mean\", \"value\": 13.233569089411056}, {\"r_temp\": 0.5, \"variable\": \"xvars_mean\", \"value\": 13.268536000867712}, {\"r_temp\": 0.5, \"variable\": \"xvars_mean\", \"value\": 13.241262979269274}, {\"r_temp\": 0.5, \"variable\": \"xvars_mean\", \"value\": 13.249825598413908}, {\"r_temp\": 0.5, \"variable\": \"xvars_mean\", \"value\": 13.277229714388769}, {\"r_temp\": 0.5, \"variable\": \"xvars_mean\", \"value\": 13.23736853180984}, {\"r_temp\": 0.5, \"variable\": \"xvars_mean\", \"value\": 13.274208924689013}, {\"r_temp\": 0.5, \"variable\": \"xvars_mean\", \"value\": 13.276394125309368}, {\"r_temp\": 0.5, \"variable\": \"xvars_mean\", \"value\": 13.262069273294061}, {\"r_temp\": 0.5, \"variable\": \"xvars_mean\", \"value\": 13.249537116885584}, {\"r_temp\": 0.5, \"variable\": \"xvars_mean\", \"value\": 13.251667136259936}, {\"r_temp\": 0.5, \"variable\": \"xvars_mean\", \"value\": 13.253931859213118}, {\"r_temp\": 0.5, \"variable\": \"xvars_mean\", \"value\": 13.262942464530488}, {\"r_temp\": 0.5, \"variable\": \"xvars_mean\", \"value\": 13.241770334135742}, {\"r_temp\": 0.5, \"variable\": \"xvars_mean\", \"value\": 13.283793122710463}, {\"r_temp\": 0.5, \"variable\": \"xvars_mean\", \"value\": 13.217976515978973}, {\"r_temp\": 0.5, \"variable\": \"xvars_mean\", \"value\": 13.253421115513616}, {\"r_temp\": 0.5, \"variable\": \"xvars_mean\", \"value\": 13.31979440414713}, {\"r_temp\": 0.5, \"variable\": \"xvars_mean\", \"value\": 13.236285099550521}, {\"r_temp\": 0.5, \"variable\": \"xvars_mean\", \"value\": 13.273041050593461}, {\"r_temp\": 0.5, \"variable\": \"xvars_mean\", \"value\": 13.2080859000296}, {\"r_temp\": 0.5, \"variable\": \"xvars_mean\", \"value\": 13.215187297441476}, {\"r_temp\": 0.5, \"variable\": \"xvars_mean\", \"value\": 13.246224438815098}, {\"r_temp\": 0.5, \"variable\": \"xvars_mean\", \"value\": 13.227390260182462}, {\"r_temp\": 0.5, \"variable\": \"xvars_mean\", \"value\": 13.211257126311487}, {\"r_temp\": 0.5, \"variable\": \"xvars_mean\", \"value\": 13.297697599339545}, {\"r_temp\": 0.5, \"variable\": \"xvars_mean\", \"value\": 13.268322166865373}, {\"r_temp\": 0.5, \"variable\": \"xvars_mean\", \"value\": 13.243733407883353}, {\"r_temp\": 0.5, \"variable\": \"xvars_mean\", \"value\": 13.24126728560985}, {\"r_temp\": 0.5, \"variable\": \"xvars_mean\", \"value\": 13.217392772363056}, {\"r_temp\": 0.0, \"variable\": \"xvars_mean\", \"value\": 13.243639343541306}, {\"r_temp\": 0.0, \"variable\": \"xvars_mean\", \"value\": 13.240038463490405}, {\"r_temp\": 0.0, \"variable\": \"xvars_mean\", \"value\": 13.2679180770886}, {\"r_temp\": 0.0, \"variable\": \"xvars_mean\", \"value\": 13.245446108063623}, {\"r_temp\": 0.0, \"variable\": \"xvars_mean\", \"value\": 13.266855840751537}, {\"r_temp\": 0.0, \"variable\": \"xvars_mean\", \"value\": 13.259757710553025}, {\"r_temp\": 0.0, \"variable\": \"xvars_mean\", \"value\": 13.235312640498096}, {\"r_temp\": 0.0, \"variable\": \"xvars_mean\", \"value\": 13.281204650245535}, {\"r_temp\": 0.0, \"variable\": \"xvars_mean\", \"value\": 13.269610753303269}, {\"r_temp\": 0.0, \"variable\": \"xvars_mean\", \"value\": 13.243216821091142}, {\"r_temp\": 0.0, \"variable\": \"xvars_mean\", \"value\": 13.240029725482698}, {\"r_temp\": 0.0, \"variable\": \"xvars_mean\", \"value\": 13.223760311412654}, {\"r_temp\": 0.0, \"variable\": \"xvars_mean\", \"value\": 13.244101535012595}, {\"r_temp\": 0.0, \"variable\": \"xvars_mean\", \"value\": 13.242969086926502}, {\"r_temp\": 0.0, \"variable\": \"xvars_mean\", \"value\": 13.259108835620767}, {\"r_temp\": 0.0, \"variable\": \"xvars_mean\", \"value\": 13.276077383391016}, {\"r_temp\": 0.0, \"variable\": \"xvars_mean\", \"value\": 13.286302151732052}, {\"r_temp\": 0.0, \"variable\": \"xvars_mean\", \"value\": 13.275282592248795}, {\"r_temp\": 0.0, \"variable\": \"xvars_mean\", \"value\": 13.262452940629286}, {\"r_temp\": 0.0, \"variable\": \"xvars_mean\", \"value\": 13.245124650268185}, {\"r_temp\": 0.0, \"variable\": \"xvars_mean\", \"value\": 13.23883635604198}, {\"r_temp\": 0.0, \"variable\": \"xvars_mean\", \"value\": 13.266950101644607}, {\"r_temp\": 0.0, \"variable\": \"xvars_mean\", \"value\": 13.220392810477529}, {\"r_temp\": 0.0, \"variable\": \"xvars_mean\", \"value\": 13.239936704105054}, {\"r_temp\": 0.0, \"variable\": \"xvars_mean\", \"value\": 13.229336621153625}, {\"r_temp\": 0.0, \"variable\": \"xvars_mean\", \"value\": 13.24504521151594}, {\"r_temp\": 0.0, \"variable\": \"xvars_mean\", \"value\": 13.261788403691023}, {\"r_temp\": 0.0, \"variable\": \"xvars_mean\", \"value\": 13.265716633689571}, {\"r_temp\": 0.0, \"variable\": \"xvars_mean\", \"value\": 13.230169026393748}, {\"r_temp\": 0.0, \"variable\": \"xvars_mean\", \"value\": 13.220897114936113}, {\"r_temp\": 0.0, \"variable\": \"xvars_mean\", \"value\": 13.2399339581531}, {\"r_temp\": 0.0, \"variable\": \"xvars_mean\", \"value\": 13.22787350772067}, {\"r_temp\": 0.0, \"variable\": \"xvars_mean\", \"value\": 13.235438109220949}, {\"r_temp\": 0.0, \"variable\": \"xvars_mean\", \"value\": 13.254787091816095}, {\"r_temp\": 0.0, \"variable\": \"xvars_mean\", \"value\": 13.245625648547154}, {\"r_temp\": 0.0, \"variable\": \"xvars_mean\", \"value\": 13.266517108094975}, {\"r_temp\": 0.0, \"variable\": \"xvars_mean\", \"value\": 13.201719025803852}, {\"r_temp\": 0.0, \"variable\": \"xvars_mean\", \"value\": 13.236232770340465}, {\"r_temp\": 0.0, \"variable\": \"xvars_mean\", \"value\": 13.23380602841956}, {\"r_temp\": 0.0, \"variable\": \"xvars_mean\", \"value\": 13.251058440572724}, {\"r_temp\": 0.0, \"variable\": \"xvars_mean\", \"value\": 13.238270725484597}, {\"r_temp\": 0.0, \"variable\": \"xvars_mean\", \"value\": 13.242790056209087}, {\"r_temp\": 0.0, \"variable\": \"xvars_mean\", \"value\": 13.271961180713879}, {\"r_temp\": 0.0, \"variable\": \"xvars_mean\", \"value\": 13.230147195765253}, {\"r_temp\": 0.0, \"variable\": \"xvars_mean\", \"value\": 13.232716615479806}, {\"r_temp\": 0.0, \"variable\": \"xvars_mean\", \"value\": 13.263671027024902}, {\"r_temp\": 0.0, \"variable\": \"xvars_mean\", \"value\": 13.294492919051574}, {\"r_temp\": 0.0, \"variable\": \"xvars_mean\", \"value\": 13.289789908433853}, {\"r_temp\": 0.0, \"variable\": \"xvars_mean\", \"value\": 13.23771743353963}, {\"r_temp\": 0.0, \"variable\": \"xvars_mean\", \"value\": 13.21302897330243}, {\"r_temp\": 1.0, \"variable\": \"xvars_std\", \"value\": 15.93967149489187}, {\"r_temp\": 1.0, \"variable\": \"xvars_std\", \"value\": 15.953855865017205}, {\"r_temp\": 1.0, \"variable\": \"xvars_std\", \"value\": 15.945130629492159}, {\"r_temp\": 1.0, \"variable\": \"xvars_std\", \"value\": 15.9146529671409}, {\"r_temp\": 1.0, \"variable\": \"xvars_std\", \"value\": 15.964553105565109}, {\"r_temp\": 1.0, \"variable\": \"xvars_std\", \"value\": 15.944526212658344}, {\"r_temp\": 1.0, \"variable\": \"xvars_std\", \"value\": 15.952284503459724}, {\"r_temp\": 1.0, \"variable\": \"xvars_std\", \"value\": 15.959525968288139}, {\"r_temp\": 1.0, \"variable\": \"xvars_std\", \"value\": 15.921741167129362}, {\"r_temp\": 1.0, \"variable\": \"xvars_std\", \"value\": 15.950873207500885}, {\"r_temp\": 1.0, \"variable\": \"xvars_std\", \"value\": 15.911931043603852}, {\"r_temp\": 1.0, \"variable\": \"xvars_std\", \"value\": 15.95373004796762}, {\"r_temp\": 1.0, \"variable\": \"xvars_std\", \"value\": 15.95393965703539}, {\"r_temp\": 1.0, \"variable\": \"xvars_std\", \"value\": 15.972265933164561}, {\"r_temp\": 1.0, \"variable\": \"xvars_std\", \"value\": 15.943606990250087}, {\"r_temp\": 1.0, \"variable\": \"xvars_std\", \"value\": 15.913946785624297}, {\"r_temp\": 1.0, \"variable\": \"xvars_std\", \"value\": 15.90987899035059}, {\"r_temp\": 1.0, \"variable\": \"xvars_std\", \"value\": 15.944527699341274}, {\"r_temp\": 1.0, \"variable\": \"xvars_std\", \"value\": 15.941671435383505}, {\"r_temp\": 1.0, \"variable\": \"xvars_std\", \"value\": 15.94482911442254}, {\"r_temp\": 1.0, \"variable\": \"xvars_std\", \"value\": 15.94549863209155}, {\"r_temp\": 1.0, \"variable\": \"xvars_std\", \"value\": 15.943336297120176}, {\"r_temp\": 1.0, \"variable\": \"xvars_std\", \"value\": 15.97593925334009}, {\"r_temp\": 1.0, \"variable\": \"xvars_std\", \"value\": 15.938569717857527}, {\"r_temp\": 1.0, \"variable\": \"xvars_std\", \"value\": 15.930189516231591}, {\"r_temp\": 1.0, \"variable\": \"xvars_std\", \"value\": 15.935602756432793}, {\"r_temp\": 1.0, \"variable\": \"xvars_std\", \"value\": 15.905594104291765}, {\"r_temp\": 1.0, \"variable\": \"xvars_std\", \"value\": 15.938542718974327}, {\"r_temp\": 1.0, \"variable\": \"xvars_std\", \"value\": 15.941152772906936}, {\"r_temp\": 1.0, \"variable\": \"xvars_std\", \"value\": 15.94860249028634}, {\"r_temp\": 1.0, \"variable\": \"xvars_std\", \"value\": 15.944181851972012}, {\"r_temp\": 1.0, \"variable\": \"xvars_std\", \"value\": 15.923979046011768}, {\"r_temp\": 1.0, \"variable\": \"xvars_std\", \"value\": 15.967416000958096}, {\"r_temp\": 1.0, \"variable\": \"xvars_std\", \"value\": 15.932068456822195}, {\"r_temp\": 1.0, \"variable\": \"xvars_std\", \"value\": 15.955117842447944}, {\"r_temp\": 1.0, \"variable\": \"xvars_std\", \"value\": 15.914978480508932}, {\"r_temp\": 1.0, \"variable\": \"xvars_std\", \"value\": 15.948738264676736}, {\"r_temp\": 1.0, \"variable\": \"xvars_std\", \"value\": 15.929670076858384}, {\"r_temp\": 1.0, \"variable\": \"xvars_std\", \"value\": 15.943309122972805}, {\"r_temp\": 1.0, \"variable\": \"xvars_std\", \"value\": 15.956266540717525}, {\"r_temp\": 1.0, \"variable\": \"xvars_std\", \"value\": 15.944045033664567}, {\"r_temp\": 1.0, \"variable\": \"xvars_std\", \"value\": 15.914868069096489}, {\"r_temp\": 1.0, \"variable\": \"xvars_std\", \"value\": 15.938290855600341}, {\"r_temp\": 1.0, \"variable\": \"xvars_std\", \"value\": 15.93962967504174}, {\"r_temp\": 1.0, \"variable\": \"xvars_std\", \"value\": 15.950239500896421}, {\"r_temp\": 1.0, \"variable\": \"xvars_std\", \"value\": 15.95509179904279}, {\"r_temp\": 1.0, \"variable\": \"xvars_std\", \"value\": 15.936005588581297}, {\"r_temp\": 1.0, \"variable\": \"xvars_std\", \"value\": 15.927630184133402}, {\"r_temp\": 1.0, \"variable\": \"xvars_std\", \"value\": 15.967509814700755}, {\"r_temp\": 1.0, \"variable\": \"xvars_std\", \"value\": 15.916620822008145}, {\"r_temp\": 0.5, \"variable\": \"xvars_std\", \"value\": 15.92336254589165}, {\"r_temp\": 0.5, \"variable\": \"xvars_std\", \"value\": 15.91994111335871}, {\"r_temp\": 0.5, \"variable\": \"xvars_std\", \"value\": 15.907234696137348}, {\"r_temp\": 0.5, \"variable\": \"xvars_std\", \"value\": 15.95639713101934}, {\"r_temp\": 0.5, \"variable\": \"xvars_std\", \"value\": 15.942837284645032}, {\"r_temp\": 0.5, \"variable\": \"xvars_std\", \"value\": 15.96242669485714}, {\"r_temp\": 0.5, \"variable\": \"xvars_std\", \"value\": 15.942190018579995}, {\"r_temp\": 0.5, \"variable\": \"xvars_std\", \"value\": 15.93176662030517}, {\"r_temp\": 0.5, \"variable\": \"xvars_std\", \"value\": 15.944183486939755}, {\"r_temp\": 0.5, \"variable\": \"xvars_std\", \"value\": 15.916333882270473}, {\"r_temp\": 0.5, \"variable\": \"xvars_std\", \"value\": 15.947554233919826}, {\"r_temp\": 0.5, \"variable\": \"xvars_std\", \"value\": 15.917306894862906}, {\"r_temp\": 0.5, \"variable\": \"xvars_std\", \"value\": 15.943429452819435}, {\"r_temp\": 0.5, \"variable\": \"xvars_std\", \"value\": 15.919881718104584}, {\"r_temp\": 0.5, \"variable\": \"xvars_std\", \"value\": 15.891407613981059}, {\"r_temp\": 0.5, \"variable\": \"xvars_std\", \"value\": 15.95876434059958}, {\"r_temp\": 0.5, \"variable\": \"xvars_std\", \"value\": 15.957805813631317}, {\"r_temp\": 0.5, \"variable\": \"xvars_std\", \"value\": 15.951594176077567}, {\"r_temp\": 0.5, \"variable\": \"xvars_std\", \"value\": 15.977602364518338}, {\"r_temp\": 0.5, \"variable\": \"xvars_std\", \"value\": 15.932080565231871}, {\"r_temp\": 0.5, \"variable\": \"xvars_std\", \"value\": 15.957381037902453}, {\"r_temp\": 0.5, \"variable\": \"xvars_std\", \"value\": 15.930616710686209}, {\"r_temp\": 0.5, \"variable\": \"xvars_std\", \"value\": 15.952014650236888}, {\"r_temp\": 0.5, \"variable\": \"xvars_std\", \"value\": 15.945018580699916}, {\"r_temp\": 0.5, \"variable\": \"xvars_std\", \"value\": 15.924275831529412}, {\"r_temp\": 0.5, \"variable\": \"xvars_std\", \"value\": 15.954237150158752}, {\"r_temp\": 0.5, \"variable\": \"xvars_std\", \"value\": 15.92706341973272}, {\"r_temp\": 0.5, \"variable\": \"xvars_std\", \"value\": 15.924546014991225}, {\"r_temp\": 0.5, \"variable\": \"xvars_std\", \"value\": 15.935732622739557}, {\"r_temp\": 0.5, \"variable\": \"xvars_std\", \"value\": 15.944869160354541}, {\"r_temp\": 0.5, \"variable\": \"xvars_std\", \"value\": 15.943412310414036}, {\"r_temp\": 0.5, \"variable\": \"xvars_std\", \"value\": 15.94191981045396}, {\"r_temp\": 0.5, \"variable\": \"xvars_std\", \"value\": 15.934594275028699}, {\"r_temp\": 0.5, \"variable\": \"xvars_std\", \"value\": 15.950902902841893}, {\"r_temp\": 0.5, \"variable\": \"xvars_std\", \"value\": 15.919110466081463}, {\"r_temp\": 0.5, \"variable\": \"xvars_std\", \"value\": 15.969372123961191}, {\"r_temp\": 0.5, \"variable\": \"xvars_std\", \"value\": 15.94204137558488}, {\"r_temp\": 0.5, \"variable\": \"xvars_std\", \"value\": 15.892030998189423}, {\"r_temp\": 0.5, \"variable\": \"xvars_std\", \"value\": 15.955085403851946}, {\"r_temp\": 0.5, \"variable\": \"xvars_std\", \"value\": 15.927844618694033}, {\"r_temp\": 0.5, \"variable\": \"xvars_std\", \"value\": 15.976699681296973}, {\"r_temp\": 0.5, \"variable\": \"xvars_std\", \"value\": 15.971297828771194}, {\"r_temp\": 0.5, \"variable\": \"xvars_std\", \"value\": 15.947758275468969}, {\"r_temp\": 0.5, \"variable\": \"xvars_std\", \"value\": 15.962256597127931}, {\"r_temp\": 0.5, \"variable\": \"xvars_std\", \"value\": 15.974257016937736}, {\"r_temp\": 0.5, \"variable\": \"xvars_std\", \"value\": 15.908242231968797}, {\"r_temp\": 0.5, \"variable\": \"xvars_std\", \"value\": 15.930745316815417}, {\"r_temp\": 0.5, \"variable\": \"xvars_std\", \"value\": 15.949352676883015}, {\"r_temp\": 0.5, \"variable\": \"xvars_std\", \"value\": 15.951581630058257}, {\"r_temp\": 0.5, \"variable\": \"xvars_std\", \"value\": 15.969692035354411}, {\"r_temp\": 0.0, \"variable\": \"xvars_std\", \"value\": 15.949443423514555}, {\"r_temp\": 0.0, \"variable\": \"xvars_std\", \"value\": 15.95240153760854}, {\"r_temp\": 0.0, \"variable\": \"xvars_std\", \"value\": 15.930970001480013}, {\"r_temp\": 0.0, \"variable\": \"xvars_std\", \"value\": 15.948097682054856}, {\"r_temp\": 0.0, \"variable\": \"xvars_std\", \"value\": 15.931398453653697}, {\"r_temp\": 0.0, \"variable\": \"xvars_std\", \"value\": 15.936831028310229}, {\"r_temp\": 0.0, \"variable\": \"xvars_std\", \"value\": 15.955781160842418}, {\"r_temp\": 0.0, \"variable\": \"xvars_std\", \"value\": 15.921219841569265}, {\"r_temp\": 0.0, \"variable\": \"xvars_std\", \"value\": 15.92938327298575}, {\"r_temp\": 0.0, \"variable\": \"xvars_std\", \"value\": 15.950175168724595}, {\"r_temp\": 0.0, \"variable\": \"xvars_std\", \"value\": 15.952604877200962}, {\"r_temp\": 0.0, \"variable\": \"xvars_std\", \"value\": 15.96498404060897}, {\"r_temp\": 0.0, \"variable\": \"xvars_std\", \"value\": 15.94938537507214}, {\"r_temp\": 0.0, \"variable\": \"xvars_std\", \"value\": 15.950863610829611}, {\"r_temp\": 0.0, \"variable\": \"xvars_std\", \"value\": 15.937594795574533}, {\"r_temp\": 0.0, \"variable\": \"xvars_std\", \"value\": 15.924641743416167}, {\"r_temp\": 0.0, \"variable\": \"xvars_std\", \"value\": 15.91737990350291}, {\"r_temp\": 0.0, \"variable\": \"xvars_std\", \"value\": 15.925632820485616}, {\"r_temp\": 0.0, \"variable\": \"xvars_std\", \"value\": 15.935586287178383}, {\"r_temp\": 0.0, \"variable\": \"xvars_std\", \"value\": 15.948547002940721}, {\"r_temp\": 0.0, \"variable\": \"xvars_std\", \"value\": 15.95288233541902}, {\"r_temp\": 0.0, \"variable\": \"xvars_std\", \"value\": 15.931679546259163}, {\"r_temp\": 0.0, \"variable\": \"xvars_std\", \"value\": 15.96723324849657}, {\"r_temp\": 0.0, \"variable\": \"xvars_std\", \"value\": 15.952335774111585}, {\"r_temp\": 0.0, \"variable\": \"xvars_std\", \"value\": 15.960724169649449}, {\"r_temp\": 0.0, \"variable\": \"xvars_std\", \"value\": 15.949102531111267}, {\"r_temp\": 0.0, \"variable\": \"xvars_std\", \"value\": 15.935727798329758}, {\"r_temp\": 0.0, \"variable\": \"xvars_std\", \"value\": 15.93303072422801}, {\"r_temp\": 0.0, \"variable\": \"xvars_std\", \"value\": 15.960167641949923}, {\"r_temp\": 0.0, \"variable\": \"xvars_std\", \"value\": 15.967101490890718}, {\"r_temp\": 0.0, \"variable\": \"xvars_std\", \"value\": 15.952292385422185}, {\"r_temp\": 0.0, \"variable\": \"xvars_std\", \"value\": 15.96213935225302}, {\"r_temp\": 0.0, \"variable\": \"xvars_std\", \"value\": 15.956081817120696}, {\"r_temp\": 0.0, \"variable\": \"xvars_std\", \"value\": 15.941226723824293}, {\"r_temp\": 0.0, \"variable\": \"xvars_std\", \"value\": 15.948017741583818}, {\"r_temp\": 0.0, \"variable\": \"xvars_std\", \"value\": 15.932160781894941}, {\"r_temp\": 0.0, \"variable\": \"xvars_std\", \"value\": 15.981779001967148}, {\"r_temp\": 0.0, \"variable\": \"xvars_std\", \"value\": 15.95487407141456}, {\"r_temp\": 0.0, \"variable\": \"xvars_std\", \"value\": 15.956985272254432}, {\"r_temp\": 0.0, \"variable\": \"xvars_std\", \"value\": 15.94434729947217}, {\"r_temp\": 0.0, \"variable\": \"xvars_std\", \"value\": 15.954258936502669}, {\"r_temp\": 0.0, \"variable\": \"xvars_std\", \"value\": 15.950436524247364}, {\"r_temp\": 0.0, \"variable\": \"xvars_std\", \"value\": 15.927364042946422}, {\"r_temp\": 0.0, \"variable\": \"xvars_std\", \"value\": 15.9596916937392}, {\"r_temp\": 0.0, \"variable\": \"xvars_std\", \"value\": 15.958270315790815}, {\"r_temp\": 0.0, \"variable\": \"xvars_std\", \"value\": 15.934304510779606}, {\"r_temp\": 0.0, \"variable\": \"xvars_std\", \"value\": 15.910772824624267}, {\"r_temp\": 0.0, \"variable\": \"xvars_std\", \"value\": 15.914167523020046}, {\"r_temp\": 0.0, \"variable\": \"xvars_std\", \"value\": 15.954279333292012}, {\"r_temp\": 0.0, \"variable\": \"xvars_std\", \"value\": 15.9732138353448}, {\"r_temp\": 1.0, \"variable\": \"yvars_mean\", \"value\": 263.47780281062614}, {\"r_temp\": 1.0, \"variable\": \"yvars_mean\", \"value\": 263.59089621114936}, {\"r_temp\": 1.0, \"variable\": \"yvars_mean\", \"value\": 263.52443106428495}, {\"r_temp\": 1.0, \"variable\": \"yvars_mean\", \"value\": 263.2710786338682}, {\"r_temp\": 1.0, \"variable\": \"yvars_mean\", \"value\": 263.6840414572118}, {\"r_temp\": 1.0, \"variable\": \"yvars_mean\", \"value\": 263.5144649886915}, {\"r_temp\": 1.0, \"variable\": \"yvars_mean\", \"value\": 263.58010795265096}, {\"r_temp\": 1.0, \"variable\": \"yvars_mean\", \"value\": 263.63772478180044}, {\"r_temp\": 1.0, \"variable\": \"yvars_mean\", \"value\": 263.32971257838255}, {\"r_temp\": 1.0, \"variable\": \"yvars_mean\", \"value\": 263.56910314761654}, {\"r_temp\": 1.0, \"variable\": \"yvars_mean\", \"value\": 263.246883405419}, {\"r_temp\": 1.0, \"variable\": \"yvars_mean\", \"value\": 263.59309775103156}, {\"r_temp\": 1.0, \"variable\": \"yvars_mean\", \"value\": 263.5953149874684}, {\"r_temp\": 1.0, \"variable\": \"yvars_mean\", \"value\": 263.7466313774369}, {\"r_temp\": 1.0, \"variable\": \"yvars_mean\", \"value\": 263.50649535885674}, {\"r_temp\": 1.0, \"variable\": \"yvars_mean\", \"value\": 263.262950941277}, {\"r_temp\": 1.0, \"variable\": \"yvars_mean\", \"value\": 263.2265646564324}, {\"r_temp\": 1.0, \"variable\": \"yvars_mean\", \"value\": 263.5154145722882}, {\"r_temp\": 1.0, \"variable\": \"yvars_mean\", \"value\": 263.4936862282113}, {\"r_temp\": 1.0, \"variable\": \"yvars_mean\", \"value\": 263.5218743711683}, {\"r_temp\": 1.0, \"variable\": \"yvars_mean\", \"value\": 263.5255221902904}, {\"r_temp\": 1.0, \"variable\": \"yvars_mean\", \"value\": 263.5042578193595}, {\"r_temp\": 1.0, \"variable\": \"yvars_mean\", \"value\": 263.7761859160428}, {\"r_temp\": 1.0, \"variable\": \"yvars_mean\", \"value\": 263.4614263515353}, {\"r_temp\": 1.0, \"variable\": \"yvars_mean\", \"value\": 263.39681933215485}, {\"r_temp\": 1.0, \"variable\": \"yvars_mean\", \"value\": 263.4433349896184}, {\"r_temp\": 1.0, \"variable\": \"yvars_mean\", \"value\": 263.19398287557374}, {\"r_temp\": 1.0, \"variable\": \"yvars_mean\", \"value\": 263.4660096707442}, {\"r_temp\": 1.0, \"variable\": \"yvars_mean\", \"value\": 263.4863779942745}, {\"r_temp\": 1.0, \"variable\": \"yvars_mean\", \"value\": 263.5468296407582}, {\"r_temp\": 1.0, \"variable\": \"yvars_mean\", \"value\": 263.5095360599439}, {\"r_temp\": 1.0, \"variable\": \"yvars_mean\", \"value\": 263.34795206128746}, {\"r_temp\": 1.0, \"variable\": \"yvars_mean\", \"value\": 263.7042944410169}, {\"r_temp\": 1.0, \"variable\": \"yvars_mean\", \"value\": 263.4145398832611}, {\"r_temp\": 1.0, \"variable\": \"yvars_mean\", \"value\": 263.60327946737306}, {\"r_temp\": 1.0, \"variable\": \"yvars_mean\", \"value\": 263.27572452984987}, {\"r_temp\": 1.0, \"variable\": \"yvars_mean\", \"value\": 263.5487654054118}, {\"r_temp\": 1.0, \"variable\": \"yvars_mean\", \"value\": 263.38985220944846}, {\"r_temp\": 1.0, \"variable\": \"yvars_mean\", \"value\": 263.50143675734137}, {\"r_temp\": 1.0, \"variable\": \"yvars_mean\", \"value\": 263.614136850487}, {\"r_temp\": 1.0, \"variable\": \"yvars_mean\", \"value\": 263.5132174318474}, {\"r_temp\": 1.0, \"variable\": \"yvars_mean\", \"value\": 263.2722131511547}, {\"r_temp\": 1.0, \"variable\": \"yvars_mean\", \"value\": 263.4620559508414}, {\"r_temp\": 1.0, \"variable\": \"yvars_mean\", \"value\": 263.47475355124743}, {\"r_temp\": 1.0, \"variable\": \"yvars_mean\", \"value\": 263.5636626178672}, {\"r_temp\": 1.0, \"variable\": \"yvars_mean\", \"value\": 263.60282364771024}, {\"r_temp\": 1.0, \"variable\": \"yvars_mean\", \"value\": 263.4469601003495}, {\"r_temp\": 1.0, \"variable\": \"yvars_mean\", \"value\": 263.37529474842427}, {\"r_temp\": 1.0, \"variable\": \"yvars_mean\", \"value\": 263.7055646038554}, {\"r_temp\": 1.0, \"variable\": \"yvars_mean\", \"value\": 263.28527303195636}, {\"r_temp\": 0.5, \"variable\": \"yvars_mean\", \"value\": 256.93925675240297}, {\"r_temp\": 0.5, \"variable\": \"yvars_mean\", \"value\": 256.6230120396832}, {\"r_temp\": 0.5, \"variable\": \"yvars_mean\", \"value\": 257.7256670891871}, {\"r_temp\": 0.5, \"variable\": \"yvars_mean\", \"value\": 257.29407298948206}, {\"r_temp\": 0.5, \"variable\": \"yvars_mean\", \"value\": 256.354049081865}, {\"r_temp\": 0.5, \"variable\": \"yvars_mean\", \"value\": 257.08174111397716}, {\"r_temp\": 0.5, \"variable\": \"yvars_mean\", \"value\": 257.30707909842585}, {\"r_temp\": 0.5, \"variable\": \"yvars_mean\", \"value\": 257.0937823179535}, {\"r_temp\": 0.5, \"variable\": \"yvars_mean\", \"value\": 257.4414960680235}, {\"r_temp\": 0.5, \"variable\": \"yvars_mean\", \"value\": 255.91387594077077}, {\"r_temp\": 0.5, \"variable\": \"yvars_mean\", \"value\": 256.85888672095535}, {\"r_temp\": 0.5, \"variable\": \"yvars_mean\", \"value\": 256.7319197360571}, {\"r_temp\": 0.5, \"variable\": \"yvars_mean\", \"value\": 257.15721335834365}, {\"r_temp\": 0.5, \"variable\": \"yvars_mean\", \"value\": 256.54722634246497}, {\"r_temp\": 0.5, \"variable\": \"yvars_mean\", \"value\": 257.01360551387637}, {\"r_temp\": 0.5, \"variable\": \"yvars_mean\", \"value\": 257.22750288677446}, {\"r_temp\": 0.5, \"variable\": \"yvars_mean\", \"value\": 257.0354108240646}, {\"r_temp\": 0.5, \"variable\": \"yvars_mean\", \"value\": 257.35333011107576}, {\"r_temp\": 0.5, \"variable\": \"yvars_mean\", \"value\": 257.16310347080986}, {\"r_temp\": 0.5, \"variable\": \"yvars_mean\", \"value\": 256.7259579526642}, {\"r_temp\": 0.5, \"variable\": \"yvars_mean\", \"value\": 257.6033227892912}, {\"r_temp\": 0.5, \"variable\": \"yvars_mean\", \"value\": 257.8887081777413}, {\"r_temp\": 0.5, \"variable\": \"yvars_mean\", \"value\": 257.5935840573067}, {\"r_temp\": 0.5, \"variable\": \"yvars_mean\", \"value\": 257.7739983255509}, {\"r_temp\": 0.5, \"variable\": \"yvars_mean\", \"value\": 256.6731446568642}, {\"r_temp\": 0.5, \"variable\": \"yvars_mean\", \"value\": 257.32920340552477}, {\"r_temp\": 0.5, \"variable\": \"yvars_mean\", \"value\": 257.1081854493469}, {\"r_temp\": 0.5, \"variable\": \"yvars_mean\", \"value\": 257.70355855739047}, {\"r_temp\": 0.5, \"variable\": \"yvars_mean\", \"value\": 257.52971427140716}, {\"r_temp\": 0.5, \"variable\": \"yvars_mean\", \"value\": 256.3047582400876}, {\"r_temp\": 0.5, \"variable\": \"yvars_mean\", \"value\": 256.7653674874727}, {\"r_temp\": 0.5, \"variable\": \"yvars_mean\", \"value\": 257.59903927337814}, {\"r_temp\": 0.5, \"variable\": \"yvars_mean\", \"value\": 257.1511142128366}, {\"r_temp\": 0.5, \"variable\": \"yvars_mean\", \"value\": 257.1731074746999}, {\"r_temp\": 0.5, \"variable\": \"yvars_mean\", \"value\": 257.35480541213207}, {\"r_temp\": 0.5, \"variable\": \"yvars_mean\", \"value\": 257.38979739533113}, {\"r_temp\": 0.5, \"variable\": \"yvars_mean\", \"value\": 257.9531393935103}, {\"r_temp\": 0.5, \"variable\": \"yvars_mean\", \"value\": 256.3895445693801}, {\"r_temp\": 0.5, \"variable\": \"yvars_mean\", \"value\": 257.4449444131748}, {\"r_temp\": 0.5, \"variable\": \"yvars_mean\", \"value\": 256.9578671825396}, {\"r_temp\": 0.5, \"variable\": \"yvars_mean\", \"value\": 257.54463928747873}, {\"r_temp\": 0.5, \"variable\": \"yvars_mean\", \"value\": 257.3458460657623}, {\"r_temp\": 0.5, \"variable\": \"yvars_mean\", \"value\": 257.4434281296399}, {\"r_temp\": 0.5, \"variable\": \"yvars_mean\", \"value\": 257.57783702287907}, {\"r_temp\": 0.5, \"variable\": \"yvars_mean\", \"value\": 257.58795100879183}, {\"r_temp\": 0.5, \"variable\": \"yvars_mean\", \"value\": 257.0057568377059}, {\"r_temp\": 0.5, \"variable\": \"yvars_mean\", \"value\": 257.3546513205179}, {\"r_temp\": 0.5, \"variable\": \"yvars_mean\", \"value\": 257.40171470127325}, {\"r_temp\": 0.5, \"variable\": \"yvars_mean\", \"value\": 257.84099210649435}, {\"r_temp\": 0.5, \"variable\": \"yvars_mean\", \"value\": 257.29753129869226}, {\"r_temp\": 0.0, \"variable\": \"yvars_mean\", \"value\": 251.13226040742467}, {\"r_temp\": 0.0, \"variable\": \"yvars_mean\", \"value\": 252.8671563039899}, {\"r_temp\": 0.0, \"variable\": \"yvars_mean\", \"value\": 250.78620105371243}, {\"r_temp\": 0.0, \"variable\": \"yvars_mean\", \"value\": 251.52894319733667}, {\"r_temp\": 0.0, \"variable\": \"yvars_mean\", \"value\": 251.64806651968618}, {\"r_temp\": 0.0, \"variable\": \"yvars_mean\", \"value\": 251.91666383611278}, {\"r_temp\": 0.0, \"variable\": \"yvars_mean\", \"value\": 250.99687768342739}, {\"r_temp\": 0.0, \"variable\": \"yvars_mean\", \"value\": 250.56851127190544}, {\"r_temp\": 0.0, \"variable\": \"yvars_mean\", \"value\": 251.10239867182173}, {\"r_temp\": 0.0, \"variable\": \"yvars_mean\", \"value\": 251.54521128206022}, {\"r_temp\": 0.0, \"variable\": \"yvars_mean\", \"value\": 252.00674111752141}, {\"r_temp\": 0.0, \"variable\": \"yvars_mean\", \"value\": 250.58004999866276}, {\"r_temp\": 0.0, \"variable\": \"yvars_mean\", \"value\": 252.05287082163716}, {\"r_temp\": 0.0, \"variable\": \"yvars_mean\", \"value\": 251.37766052341124}, {\"r_temp\": 0.0, \"variable\": \"yvars_mean\", \"value\": 251.42810889709537}, {\"r_temp\": 0.0, \"variable\": \"yvars_mean\", \"value\": 251.45447650934955}, {\"r_temp\": 0.0, \"variable\": \"yvars_mean\", \"value\": 251.511726337265}, {\"r_temp\": 0.0, \"variable\": \"yvars_mean\", \"value\": 250.45097994393046}, {\"r_temp\": 0.0, \"variable\": \"yvars_mean\", \"value\": 250.5169174406092}, {\"r_temp\": 0.0, \"variable\": \"yvars_mean\", \"value\": 251.998581183125}, {\"r_temp\": 0.0, \"variable\": \"yvars_mean\", \"value\": 251.90492930008028}, {\"r_temp\": 0.0, \"variable\": \"yvars_mean\", \"value\": 250.7524655518966}, {\"r_temp\": 0.0, \"variable\": \"yvars_mean\", \"value\": 251.7720181871186}, {\"r_temp\": 0.0, \"variable\": \"yvars_mean\", \"value\": 249.83603088788968}, {\"r_temp\": 0.0, \"variable\": \"yvars_mean\", \"value\": 250.92546523126012}, {\"r_temp\": 0.0, \"variable\": \"yvars_mean\", \"value\": 252.11033630730165}, {\"r_temp\": 0.0, \"variable\": \"yvars_mean\", \"value\": 251.20076354348487}, {\"r_temp\": 0.0, \"variable\": \"yvars_mean\", \"value\": 251.532317756492}, {\"r_temp\": 0.0, \"variable\": \"yvars_mean\", \"value\": 252.77400325775736}, {\"r_temp\": 0.0, \"variable\": \"yvars_mean\", \"value\": 250.90796304214317}, {\"r_temp\": 0.0, \"variable\": \"yvars_mean\", \"value\": 251.9229528146845}, {\"r_temp\": 0.0, \"variable\": \"yvars_mean\", \"value\": 251.13276742923895}, {\"r_temp\": 0.0, \"variable\": \"yvars_mean\", \"value\": 251.122958399705}, {\"r_temp\": 0.0, \"variable\": \"yvars_mean\", \"value\": 251.1859966306157}, {\"r_temp\": 0.0, \"variable\": \"yvars_mean\", \"value\": 251.33235766238778}, {\"r_temp\": 0.0, \"variable\": \"yvars_mean\", \"value\": 250.2025815900932}, {\"r_temp\": 0.0, \"variable\": \"yvars_mean\", \"value\": 252.1194347089057}, {\"r_temp\": 0.0, \"variable\": \"yvars_mean\", \"value\": 250.73297249101194}, {\"r_temp\": 0.0, \"variable\": \"yvars_mean\", \"value\": 251.60802853286128}, {\"r_temp\": 0.0, \"variable\": \"yvars_mean\", \"value\": 251.27750073470256}, {\"r_temp\": 0.0, \"variable\": \"yvars_mean\", \"value\": 251.90398145294176}, {\"r_temp\": 0.0, \"variable\": \"yvars_mean\", \"value\": 252.04716784522873}, {\"r_temp\": 0.0, \"variable\": \"yvars_mean\", \"value\": 252.22396706906846}, {\"r_temp\": 0.0, \"variable\": \"yvars_mean\", \"value\": 251.07109522683314}, {\"r_temp\": 0.0, \"variable\": \"yvars_mean\", \"value\": 251.4698536624104}, {\"r_temp\": 0.0, \"variable\": \"yvars_mean\", \"value\": 251.37649412076888}, {\"r_temp\": 0.0, \"variable\": \"yvars_mean\", \"value\": 250.4136055699779}, {\"r_temp\": 0.0, \"variable\": \"yvars_mean\", \"value\": 250.34859163431727}, {\"r_temp\": 0.0, \"variable\": \"yvars_mean\", \"value\": 251.806487594095}, {\"r_temp\": 0.0, \"variable\": \"yvars_mean\", \"value\": 251.9800855612098}, {\"r_temp\": 1.0, \"variable\": \"yvars_std\", \"value\": 263.47780281062614}, {\"r_temp\": 1.0, \"variable\": \"yvars_std\", \"value\": 263.59089621114936}, {\"r_temp\": 1.0, \"variable\": \"yvars_std\", \"value\": 263.52443106428495}, {\"r_temp\": 1.0, \"variable\": \"yvars_std\", \"value\": 263.2710786338682}, {\"r_temp\": 1.0, \"variable\": \"yvars_std\", \"value\": 263.6840414572118}, {\"r_temp\": 1.0, \"variable\": \"yvars_std\", \"value\": 263.5144649886915}, {\"r_temp\": 1.0, \"variable\": \"yvars_std\", \"value\": 263.58010795265096}, {\"r_temp\": 1.0, \"variable\": \"yvars_std\", \"value\": 263.63772478180044}, {\"r_temp\": 1.0, \"variable\": \"yvars_std\", \"value\": 263.32971257838255}, {\"r_temp\": 1.0, \"variable\": \"yvars_std\", \"value\": 263.56910314761654}, {\"r_temp\": 1.0, \"variable\": \"yvars_std\", \"value\": 263.246883405419}, {\"r_temp\": 1.0, \"variable\": \"yvars_std\", \"value\": 263.59309775103156}, {\"r_temp\": 1.0, \"variable\": \"yvars_std\", \"value\": 263.5953149874684}, {\"r_temp\": 1.0, \"variable\": \"yvars_std\", \"value\": 263.7466313774369}, {\"r_temp\": 1.0, \"variable\": \"yvars_std\", \"value\": 263.50649535885674}, {\"r_temp\": 1.0, \"variable\": \"yvars_std\", \"value\": 263.262950941277}, {\"r_temp\": 1.0, \"variable\": \"yvars_std\", \"value\": 263.2265646564324}, {\"r_temp\": 1.0, \"variable\": \"yvars_std\", \"value\": 263.5154145722882}, {\"r_temp\": 1.0, \"variable\": \"yvars_std\", \"value\": 263.4936862282113}, {\"r_temp\": 1.0, \"variable\": \"yvars_std\", \"value\": 263.5218743711683}, {\"r_temp\": 1.0, \"variable\": \"yvars_std\", \"value\": 263.5255221902904}, {\"r_temp\": 1.0, \"variable\": \"yvars_std\", \"value\": 263.5042578193595}, {\"r_temp\": 1.0, \"variable\": \"yvars_std\", \"value\": 263.7761859160428}, {\"r_temp\": 1.0, \"variable\": \"yvars_std\", \"value\": 263.4614263515353}, {\"r_temp\": 1.0, \"variable\": \"yvars_std\", \"value\": 263.39681933215485}, {\"r_temp\": 1.0, \"variable\": \"yvars_std\", \"value\": 263.4433349896184}, {\"r_temp\": 1.0, \"variable\": \"yvars_std\", \"value\": 263.19398287557374}, {\"r_temp\": 1.0, \"variable\": \"yvars_std\", \"value\": 263.4660096707442}, {\"r_temp\": 1.0, \"variable\": \"yvars_std\", \"value\": 263.4863779942745}, {\"r_temp\": 1.0, \"variable\": \"yvars_std\", \"value\": 263.5468296407582}, {\"r_temp\": 1.0, \"variable\": \"yvars_std\", \"value\": 263.5095360599439}, {\"r_temp\": 1.0, \"variable\": \"yvars_std\", \"value\": 263.34795206128746}, {\"r_temp\": 1.0, \"variable\": \"yvars_std\", \"value\": 263.7042944410169}, {\"r_temp\": 1.0, \"variable\": \"yvars_std\", \"value\": 263.4145398832611}, {\"r_temp\": 1.0, \"variable\": \"yvars_std\", \"value\": 263.60327946737306}, {\"r_temp\": 1.0, \"variable\": \"yvars_std\", \"value\": 263.27572452984987}, {\"r_temp\": 1.0, \"variable\": \"yvars_std\", \"value\": 263.5487654054118}, {\"r_temp\": 1.0, \"variable\": \"yvars_std\", \"value\": 263.38985220944846}, {\"r_temp\": 1.0, \"variable\": \"yvars_std\", \"value\": 263.50143675734137}, {\"r_temp\": 1.0, \"variable\": \"yvars_std\", \"value\": 263.614136850487}, {\"r_temp\": 1.0, \"variable\": \"yvars_std\", \"value\": 263.5132174318474}, {\"r_temp\": 1.0, \"variable\": \"yvars_std\", \"value\": 263.2722131511547}, {\"r_temp\": 1.0, \"variable\": \"yvars_std\", \"value\": 263.4620559508414}, {\"r_temp\": 1.0, \"variable\": \"yvars_std\", \"value\": 263.47475355124743}, {\"r_temp\": 1.0, \"variable\": \"yvars_std\", \"value\": 263.5636626178672}, {\"r_temp\": 1.0, \"variable\": \"yvars_std\", \"value\": 263.60282364771024}, {\"r_temp\": 1.0, \"variable\": \"yvars_std\", \"value\": 263.4469601003495}, {\"r_temp\": 1.0, \"variable\": \"yvars_std\", \"value\": 263.37529474842427}, {\"r_temp\": 1.0, \"variable\": \"yvars_std\", \"value\": 263.7055646038554}, {\"r_temp\": 1.0, \"variable\": \"yvars_std\", \"value\": 263.28527303195636}, {\"r_temp\": 0.5, \"variable\": \"yvars_std\", \"value\": 256.93925675240297}, {\"r_temp\": 0.5, \"variable\": \"yvars_std\", \"value\": 256.6230120396832}, {\"r_temp\": 0.5, \"variable\": \"yvars_std\", \"value\": 257.7256670891871}, {\"r_temp\": 0.5, \"variable\": \"yvars_std\", \"value\": 257.29407298948206}, {\"r_temp\": 0.5, \"variable\": \"yvars_std\", \"value\": 256.354049081865}, {\"r_temp\": 0.5, \"variable\": \"yvars_std\", \"value\": 257.08174111397716}, {\"r_temp\": 0.5, \"variable\": \"yvars_std\", \"value\": 257.30707909842585}, {\"r_temp\": 0.5, \"variable\": \"yvars_std\", \"value\": 257.0937823179535}, {\"r_temp\": 0.5, \"variable\": \"yvars_std\", \"value\": 257.4414960680235}, {\"r_temp\": 0.5, \"variable\": \"yvars_std\", \"value\": 255.91387594077077}, {\"r_temp\": 0.5, \"variable\": \"yvars_std\", \"value\": 256.85888672095535}, {\"r_temp\": 0.5, \"variable\": \"yvars_std\", \"value\": 256.7319197360571}, {\"r_temp\": 0.5, \"variable\": \"yvars_std\", \"value\": 257.15721335834365}, {\"r_temp\": 0.5, \"variable\": \"yvars_std\", \"value\": 256.54722634246497}, {\"r_temp\": 0.5, \"variable\": \"yvars_std\", \"value\": 257.01360551387637}, {\"r_temp\": 0.5, \"variable\": \"yvars_std\", \"value\": 257.22750288677446}, {\"r_temp\": 0.5, \"variable\": \"yvars_std\", \"value\": 257.0354108240646}, {\"r_temp\": 0.5, \"variable\": \"yvars_std\", \"value\": 257.35333011107576}, {\"r_temp\": 0.5, \"variable\": \"yvars_std\", \"value\": 257.16310347080986}, {\"r_temp\": 0.5, \"variable\": \"yvars_std\", \"value\": 256.7259579526642}, {\"r_temp\": 0.5, \"variable\": \"yvars_std\", \"value\": 257.6033227892912}, {\"r_temp\": 0.5, \"variable\": \"yvars_std\", \"value\": 257.8887081777413}, {\"r_temp\": 0.5, \"variable\": \"yvars_std\", \"value\": 257.5935840573067}, {\"r_temp\": 0.5, \"variable\": \"yvars_std\", \"value\": 257.7739983255509}, {\"r_temp\": 0.5, \"variable\": \"yvars_std\", \"value\": 256.6731446568642}, {\"r_temp\": 0.5, \"variable\": \"yvars_std\", \"value\": 257.32920340552477}, {\"r_temp\": 0.5, \"variable\": \"yvars_std\", \"value\": 257.1081854493469}, {\"r_temp\": 0.5, \"variable\": \"yvars_std\", \"value\": 257.70355855739047}, {\"r_temp\": 0.5, \"variable\": \"yvars_std\", \"value\": 257.52971427140716}, {\"r_temp\": 0.5, \"variable\": \"yvars_std\", \"value\": 256.3047582400876}, {\"r_temp\": 0.5, \"variable\": \"yvars_std\", \"value\": 256.7653674874727}, {\"r_temp\": 0.5, \"variable\": \"yvars_std\", \"value\": 257.59903927337814}, {\"r_temp\": 0.5, \"variable\": \"yvars_std\", \"value\": 257.1511142128366}, {\"r_temp\": 0.5, \"variable\": \"yvars_std\", \"value\": 257.1731074746999}, {\"r_temp\": 0.5, \"variable\": \"yvars_std\", \"value\": 257.35480541213207}, {\"r_temp\": 0.5, \"variable\": \"yvars_std\", \"value\": 257.38979739533113}, {\"r_temp\": 0.5, \"variable\": \"yvars_std\", \"value\": 257.9531393935103}, {\"r_temp\": 0.5, \"variable\": \"yvars_std\", \"value\": 256.3895445693801}, {\"r_temp\": 0.5, \"variable\": \"yvars_std\", \"value\": 257.4449444131748}, {\"r_temp\": 0.5, \"variable\": \"yvars_std\", \"value\": 256.9578671825396}, {\"r_temp\": 0.5, \"variable\": \"yvars_std\", \"value\": 257.54463928747873}, {\"r_temp\": 0.5, \"variable\": \"yvars_std\", \"value\": 257.3458460657623}, {\"r_temp\": 0.5, \"variable\": \"yvars_std\", \"value\": 257.4434281296399}, {\"r_temp\": 0.5, \"variable\": \"yvars_std\", \"value\": 257.57783702287907}, {\"r_temp\": 0.5, \"variable\": \"yvars_std\", \"value\": 257.58795100879183}, {\"r_temp\": 0.5, \"variable\": \"yvars_std\", \"value\": 257.0057568377059}, {\"r_temp\": 0.5, \"variable\": \"yvars_std\", \"value\": 257.3546513205179}, {\"r_temp\": 0.5, \"variable\": \"yvars_std\", \"value\": 257.40171470127325}, {\"r_temp\": 0.5, \"variable\": \"yvars_std\", \"value\": 257.84099210649435}, {\"r_temp\": 0.5, \"variable\": \"yvars_std\", \"value\": 257.29753129869226}, {\"r_temp\": 0.0, \"variable\": \"yvars_std\", \"value\": 251.13226040742467}, {\"r_temp\": 0.0, \"variable\": \"yvars_std\", \"value\": 252.8671563039899}, {\"r_temp\": 0.0, \"variable\": \"yvars_std\", \"value\": 250.78620105371243}, {\"r_temp\": 0.0, \"variable\": \"yvars_std\", \"value\": 251.52894319733667}, {\"r_temp\": 0.0, \"variable\": \"yvars_std\", \"value\": 251.64806651968618}, {\"r_temp\": 0.0, \"variable\": \"yvars_std\", \"value\": 251.91666383611278}, {\"r_temp\": 0.0, \"variable\": \"yvars_std\", \"value\": 250.99687768342739}, {\"r_temp\": 0.0, \"variable\": \"yvars_std\", \"value\": 250.56851127190544}, {\"r_temp\": 0.0, \"variable\": \"yvars_std\", \"value\": 251.10239867182173}, {\"r_temp\": 0.0, \"variable\": \"yvars_std\", \"value\": 251.54521128206022}, {\"r_temp\": 0.0, \"variable\": \"yvars_std\", \"value\": 252.00674111752141}, {\"r_temp\": 0.0, \"variable\": \"yvars_std\", \"value\": 250.58004999866276}, {\"r_temp\": 0.0, \"variable\": \"yvars_std\", \"value\": 252.05287082163716}, {\"r_temp\": 0.0, \"variable\": \"yvars_std\", \"value\": 251.37766052341124}, {\"r_temp\": 0.0, \"variable\": \"yvars_std\", \"value\": 251.42810889709537}, {\"r_temp\": 0.0, \"variable\": \"yvars_std\", \"value\": 251.45447650934955}, {\"r_temp\": 0.0, \"variable\": \"yvars_std\", \"value\": 251.511726337265}, {\"r_temp\": 0.0, \"variable\": \"yvars_std\", \"value\": 250.45097994393046}, {\"r_temp\": 0.0, \"variable\": \"yvars_std\", \"value\": 250.5169174406092}, {\"r_temp\": 0.0, \"variable\": \"yvars_std\", \"value\": 251.998581183125}, {\"r_temp\": 0.0, \"variable\": \"yvars_std\", \"value\": 251.90492930008028}, {\"r_temp\": 0.0, \"variable\": \"yvars_std\", \"value\": 250.7524655518966}, {\"r_temp\": 0.0, \"variable\": \"yvars_std\", \"value\": 251.7720181871186}, {\"r_temp\": 0.0, \"variable\": \"yvars_std\", \"value\": 249.83603088788968}, {\"r_temp\": 0.0, \"variable\": \"yvars_std\", \"value\": 250.92546523126012}, {\"r_temp\": 0.0, \"variable\": \"yvars_std\", \"value\": 252.11033630730165}, {\"r_temp\": 0.0, \"variable\": \"yvars_std\", \"value\": 251.20076354348487}, {\"r_temp\": 0.0, \"variable\": \"yvars_std\", \"value\": 251.532317756492}, {\"r_temp\": 0.0, \"variable\": \"yvars_std\", \"value\": 252.77400325775736}, {\"r_temp\": 0.0, \"variable\": \"yvars_std\", \"value\": 250.90796304214317}, {\"r_temp\": 0.0, \"variable\": \"yvars_std\", \"value\": 251.9229528146845}, {\"r_temp\": 0.0, \"variable\": \"yvars_std\", \"value\": 251.13276742923895}, {\"r_temp\": 0.0, \"variable\": \"yvars_std\", \"value\": 251.122958399705}, {\"r_temp\": 0.0, \"variable\": \"yvars_std\", \"value\": 251.1859966306157}, {\"r_temp\": 0.0, \"variable\": \"yvars_std\", \"value\": 251.33235766238778}, {\"r_temp\": 0.0, \"variable\": \"yvars_std\", \"value\": 250.2025815900932}, {\"r_temp\": 0.0, \"variable\": \"yvars_std\", \"value\": 252.1194347089057}, {\"r_temp\": 0.0, \"variable\": \"yvars_std\", \"value\": 250.73297249101194}, {\"r_temp\": 0.0, \"variable\": \"yvars_std\", \"value\": 251.60802853286128}, {\"r_temp\": 0.0, \"variable\": \"yvars_std\", \"value\": 251.27750073470256}, {\"r_temp\": 0.0, \"variable\": \"yvars_std\", \"value\": 251.90398145294176}, {\"r_temp\": 0.0, \"variable\": \"yvars_std\", \"value\": 252.04716784522873}, {\"r_temp\": 0.0, \"variable\": \"yvars_std\", \"value\": 252.22396706906846}, {\"r_temp\": 0.0, \"variable\": \"yvars_std\", \"value\": 251.07109522683314}, {\"r_temp\": 0.0, \"variable\": \"yvars_std\", \"value\": 251.4698536624104}, {\"r_temp\": 0.0, \"variable\": \"yvars_std\", \"value\": 251.37649412076888}, {\"r_temp\": 0.0, \"variable\": \"yvars_std\", \"value\": 250.4136055699779}, {\"r_temp\": 0.0, \"variable\": \"yvars_std\", \"value\": 250.34859163431727}, {\"r_temp\": 0.0, \"variable\": \"yvars_std\", \"value\": 251.806487594095}, {\"r_temp\": 0.0, \"variable\": \"yvars_std\", \"value\": 251.9800855612098}]}}, {\"mode\": \"vega-lite\"});\n",
       "</script>"
      ],
      "text/plain": [
       "alt.Chart(...)"
      ]
     },
     "execution_count": 457,
     "metadata": {},
     "output_type": "execute_result"
    }
   ],
   "source": [
    "alt.Chart(newdf.melt(id_vars='r_temp')).mark_point(size=100).encode(\n",
    "    x = 'r_temp:O',\n",
    "    y = 'mean(value):Q',\n",
    "    color = 'variable:N',\n",
    "    shape = 'variable:N'\n",
    ").properties(width=500,height=500)"
   ]
  },
  {
   "cell_type": "code",
   "execution_count": 442,
   "metadata": {},
   "outputs": [
    {
     "data": {
      "text/plain": [
       "149"
      ]
     },
     "execution_count": 442,
     "metadata": {},
     "output_type": "execute_result"
    }
   ],
   "source": [
    "key"
   ]
  },
  {
   "cell_type": "code",
   "execution_count": 443,
   "metadata": {},
   "outputs": [
    {
     "data": {
      "text/plain": [
       "{'rho': 0.0,\n",
       " 'xvars': {1: 0.962057473747658,\n",
       "  2: 0.7928231159633945,\n",
       "  3: 0.884968927160461,\n",
       "  4: 0.6927115830513849,\n",
       "  5: 0.6058170519955087,\n",
       "  6: 0.6847167806890208,\n",
       "  7: 0.7369269570559593,\n",
       "  8: 0.5179513637809056,\n",
       "  9: 0.8513655282798714,\n",
       "  10: 1.3799608437304876,\n",
       "  11: 1.9187545417505687,\n",
       "  12: 0.42646021031543846,\n",
       "  13: 1.0687345561706463,\n",
       "  14: 0.9800900808300793,\n",
       "  15: 1.0582470992089872,\n",
       "  16: 1.4272734203496942,\n",
       "  17: 0.8888928887824145,\n",
       "  18: 0.6842748708380434,\n",
       "  19: 0.44050019705430105,\n",
       "  20: 0.6976976682162307,\n",
       "  21: 1.1505694224166743,\n",
       "  22: 1.4326616739611253,\n",
       "  23: 1.2641823151109663,\n",
       "  24: 1.1018251286666747,\n",
       "  25: 1.064432890157604,\n",
       "  26: 0.9597497984000437,\n",
       "  27: 0.8266948585937485,\n",
       "  28: 1.1282248899611809,\n",
       "  29: 1.320569253369619,\n",
       "  30: 0.8486276555787581,\n",
       "  31: 1.084420903826475,\n",
       "  32: 1.3803057911786407,\n",
       "  33: 0.7141387187914585,\n",
       "  34: 0.8880101203544307,\n",
       "  35: 0.5325996059730059,\n",
       "  36: 0.6594442737185888,\n",
       "  37: 1.0290439764147687,\n",
       "  38: 0.7421463098588277,\n",
       "  39: 1.2394636801123695,\n",
       "  40: 1.115804191412301,\n",
       "  41: 0.8410209591581849,\n",
       "  42: 0.6068393946523833,\n",
       "  43: 0.5984709872086649,\n",
       "  44: 1.0297782871406536,\n",
       "  45: 0.35088889046105076,\n",
       "  46: 0.502385213025834,\n",
       "  47: 1.0983252577557456,\n",
       "  48: 0.6697282648327737,\n",
       "  49: 1.1730139376419306,\n",
       "  50: 1.249305521537565},\n",
       " 'yvars': {1: 1.3135007747644853,\n",
       "  2: 1.1134416619096237,\n",
       "  3: 1.2475378314077894,\n",
       "  4: 1.1330984528980423,\n",
       "  5: 1.386976085179667,\n",
       "  6: 1.130174633171973,\n",
       "  7: 1.8597455108516883,\n",
       "  8: 0.892324145820102,\n",
       "  9: 1.544811428024972,\n",
       "  10: 1.2152468697423215,\n",
       "  11: 0.978392349166884,\n",
       "  12: 0.9906417250484614,\n",
       "  13: 1.0500409728252489,\n",
       "  14: 0.7360755726797613,\n",
       "  15: 1.5226735298255727,\n",
       "  16: 1.5115284075744102,\n",
       "  17: 1.468614681964653,\n",
       "  18: 1.0915117848675866,\n",
       "  19: 0.8873989430683897,\n",
       "  20: 1.9520227329266062,\n",
       "  21: 1.310888377295316,\n",
       "  22: 1.2978106018458133,\n",
       "  23: 0.5377177910233591,\n",
       "  24: 1.2553731331867808,\n",
       "  25: 1.6529486694157494,\n",
       "  26: 1.1550588302380327,\n",
       "  27: 0.9142804681566203,\n",
       "  28: 0.982081787515392,\n",
       "  29: 1.7615979018147632,\n",
       "  30: 0.9565499456362745,\n",
       "  31: 1.3767773308484237,\n",
       "  32: 2.2100286073869144,\n",
       "  33: 1.2474735450419268,\n",
       "  34: 1.2111172807312751,\n",
       "  35: 0.5889388225475827,\n",
       "  36: 1.4222249215670082,\n",
       "  37: 1.3944641892859264,\n",
       "  38: 0.8909368821184586,\n",
       "  39: 0.8708867057308524,\n",
       "  40: 1.1229049673845435,\n",
       "  41: 1.1951558813091288,\n",
       "  42: 1.4806330734009079,\n",
       "  43: 1.3402631153226996,\n",
       "  44: 0.5547480791144233,\n",
       "  45: 0.7763024018971162,\n",
       "  46: 0.8451094379863688,\n",
       "  47: 0.6118405989354165,\n",
       "  48: 0.5753877789023804,\n",
       "  49: 1.1995660695946853,\n",
       "  50: 1.5482624929674131}}"
      ]
     },
     "execution_count": 443,
     "metadata": {},
     "output_type": "execute_result"
    }
   ],
   "source": [
    "val"
   ]
  },
  {
   "cell_type": "code",
   "execution_count": 441,
   "metadata": {},
   "outputs": [
    {
     "data": {
      "text/plain": [
       "13.21302897330243"
      ]
     },
     "execution_count": 441,
     "metadata": {},
     "output_type": "execute_result"
    }
   ],
   "source": [
    "xvars_mean"
   ]
  },
  {
   "cell_type": "code",
   "execution_count": 414,
   "metadata": {},
   "outputs": [
    {
     "data": {
      "text/html": [
       "<div>\n",
       "<style scoped>\n",
       "    .dataframe tbody tr th:only-of-type {\n",
       "        vertical-align: middle;\n",
       "    }\n",
       "\n",
       "    .dataframe tbody tr th {\n",
       "        vertical-align: top;\n",
       "    }\n",
       "\n",
       "    .dataframe thead th {\n",
       "        text-align: right;\n",
       "    }\n",
       "</style>\n",
       "<table border=\"1\" class=\"dataframe\">\n",
       "  <thead>\n",
       "    <tr style=\"text-align: right;\">\n",
       "      <th></th>\n",
       "      <th>x</th>\n",
       "      <th>y</th>\n",
       "      <th>cluster</th>\n",
       "    </tr>\n",
       "  </thead>\n",
       "  <tbody>\n",
       "    <tr>\n",
       "      <th>0</th>\n",
       "      <td>-0.374795</td>\n",
       "      <td>2.067374</td>\n",
       "      <td>1</td>\n",
       "    </tr>\n",
       "    <tr>\n",
       "      <th>1</th>\n",
       "      <td>-1.038024</td>\n",
       "      <td>1.735759</td>\n",
       "      <td>1</td>\n",
       "    </tr>\n",
       "    <tr>\n",
       "      <th>2</th>\n",
       "      <td>-0.288700</td>\n",
       "      <td>2.110421</td>\n",
       "      <td>1</td>\n",
       "    </tr>\n",
       "    <tr>\n",
       "      <th>3</th>\n",
       "      <td>-0.520836</td>\n",
       "      <td>1.994353</td>\n",
       "      <td>1</td>\n",
       "    </tr>\n",
       "    <tr>\n",
       "      <th>4</th>\n",
       "      <td>-1.561646</td>\n",
       "      <td>1.473948</td>\n",
       "      <td>1</td>\n",
       "    </tr>\n",
       "    <tr>\n",
       "      <th>...</th>\n",
       "      <td>...</td>\n",
       "      <td>...</td>\n",
       "      <td>...</td>\n",
       "    </tr>\n",
       "    <tr>\n",
       "      <th>995</th>\n",
       "      <td>0.152174</td>\n",
       "      <td>0.183053</td>\n",
       "      <td>50</td>\n",
       "    </tr>\n",
       "    <tr>\n",
       "      <th>996</th>\n",
       "      <td>1.597068</td>\n",
       "      <td>0.905500</td>\n",
       "      <td>50</td>\n",
       "    </tr>\n",
       "    <tr>\n",
       "      <th>997</th>\n",
       "      <td>-0.056969</td>\n",
       "      <td>0.078481</td>\n",
       "      <td>50</td>\n",
       "    </tr>\n",
       "    <tr>\n",
       "      <th>998</th>\n",
       "      <td>0.112934</td>\n",
       "      <td>0.163433</td>\n",
       "      <td>50</td>\n",
       "    </tr>\n",
       "    <tr>\n",
       "      <th>999</th>\n",
       "      <td>1.991983</td>\n",
       "      <td>1.102957</td>\n",
       "      <td>50</td>\n",
       "    </tr>\n",
       "  </tbody>\n",
       "</table>\n",
       "<p>1000 rows × 3 columns</p>\n",
       "</div>"
      ],
      "text/plain": [
       "            x         y  cluster\n",
       "0   -0.374795  2.067374        1\n",
       "1   -1.038024  1.735759        1\n",
       "2   -0.288700  2.110421        1\n",
       "3   -0.520836  1.994353        1\n",
       "4   -1.561646  1.473948        1\n",
       "..        ...       ...      ...\n",
       "995  0.152174  0.183053       50\n",
       "996  1.597068  0.905500       50\n",
       "997 -0.056969  0.078481       50\n",
       "998  0.112934  0.163433       50\n",
       "999  1.991983  1.102957       50\n",
       "\n",
       "[1000 rows x 3 columns]"
      ]
     },
     "execution_count": 414,
     "metadata": {},
     "output_type": "execute_result"
    }
   ],
   "source": [
    "datasets[0]"
   ]
  },
  {
   "cell_type": "code",
   "execution_count": 227,
   "metadata": {},
   "outputs": [
    {
     "data": {
      "text/plain": [
       "5.067"
      ]
     },
     "execution_count": 227,
     "metadata": {},
     "output_type": "execute_result"
    }
   ],
   "source": [
    "np.mean(num_rejections)"
   ]
  },
  {
   "cell_type": "code",
   "execution_count": 277,
   "metadata": {},
   "outputs": [
    {
     "data": {
      "text/plain": [
       "98"
      ]
     },
     "execution_count": 277,
     "metadata": {},
     "output_type": "execute_result"
    }
   ],
   "source": [
    "sample_estimates = sim_nocluster.sample(sample_size)\n",
    "sample_estimates['param_caught'].sum()"
   ]
  },
  {
   "cell_type": "code",
   "execution_count": null,
   "metadata": {},
   "outputs": [],
   "source": []
  },
  {
   "cell_type": "code",
   "execution_count": 225,
   "metadata": {},
   "outputs": [
    {
     "data": {
      "text/plain": [
       "-94"
      ]
     },
     "execution_count": 225,
     "metadata": {},
     "output_type": "execute_result"
    }
   ],
   "source": [
    "\n",
    "1 - sample_estimates['param_caught'].sum()\n"
   ]
  },
  {
   "cell_type": "code",
   "execution_count": null,
   "metadata": {},
   "outputs": [],
   "source": []
  },
  {
   "cell_type": "code",
   "execution_count": null,
   "metadata": {},
   "outputs": [],
   "source": []
  },
  {
   "cell_type": "code",
   "execution_count": null,
   "metadata": {},
   "outputs": [],
   "source": []
  },
  {
   "cell_type": "code",
   "execution_count": 134,
   "metadata": {},
   "outputs": [],
   "source": [
    "Sigma_i = np.array((1, 0, 0, 1 - rho)).reshape(2,2)"
   ]
  },
  {
   "cell_type": "code",
   "execution_count": 135,
   "metadata": {},
   "outputs": [
    {
     "data": {
      "text/plain": [
       "array([[1. , 0. ],\n",
       "       [0. , 0.5]])"
      ]
     },
     "execution_count": 135,
     "metadata": {},
     "output_type": "execute_result"
    }
   ],
   "source": [
    "Sigma_i"
   ]
  },
  {
   "cell_type": "code",
   "execution_count": 136,
   "metadata": {},
   "outputs": [],
   "source": [
    "values_i = np.random.multivariate_normal(np.zeros(2), Sigma_i, size = n)"
   ]
  },
  {
   "cell_type": "code",
   "execution_count": 137,
   "metadata": {},
   "outputs": [
    {
     "data": {
      "text/plain": [
       "array([[-1.08085812, -0.6392409 ],\n",
       "       [-0.64989879, -0.44544054],\n",
       "       [-1.31799746,  0.4162152 ],\n",
       "       ...,\n",
       "       [-0.69015856, -0.88381486],\n",
       "       [ 1.41766918,  1.04945865],\n",
       "       [ 1.03296376,  1.03778787]])"
      ]
     },
     "execution_count": 137,
     "metadata": {},
     "output_type": "execute_result"
    }
   ],
   "source": [
    "values_i"
   ]
  },
  {
   "cell_type": "code",
   "execution_count": 138,
   "metadata": {
    "collapsed": true
   },
   "outputs": [
    {
     "data": {
      "text/plain": [
       "array([ 1,  1,  1,  1,  1,  1,  1,  1,  1,  1,  1,  1,  1,  1,  1,  1,  1,\n",
       "        1,  1,  1,  2,  2,  2,  2,  2,  2,  2,  2,  2,  2,  2,  2,  2,  2,\n",
       "        2,  2,  2,  2,  2,  2,  3,  3,  3,  3,  3,  3,  3,  3,  3,  3,  3,\n",
       "        3,  3,  3,  3,  3,  3,  3,  3,  3,  4,  4,  4,  4,  4,  4,  4,  4,\n",
       "        4,  4,  4,  4,  4,  4,  4,  4,  4,  4,  4,  4,  5,  5,  5,  5,  5,\n",
       "        5,  5,  5,  5,  5,  5,  5,  5,  5,  5,  5,  5,  5,  5,  5,  6,  6,\n",
       "        6,  6,  6,  6,  6,  6,  6,  6,  6,  6,  6,  6,  6,  6,  6,  6,  6,\n",
       "        6,  7,  7,  7,  7,  7,  7,  7,  7,  7,  7,  7,  7,  7,  7,  7,  7,\n",
       "        7,  7,  7,  7,  8,  8,  8,  8,  8,  8,  8,  8,  8,  8,  8,  8,  8,\n",
       "        8,  8,  8,  8,  8,  8,  8,  9,  9,  9,  9,  9,  9,  9,  9,  9,  9,\n",
       "        9,  9,  9,  9,  9,  9,  9,  9,  9,  9, 10, 10, 10, 10, 10, 10, 10,\n",
       "       10, 10, 10, 10, 10, 10, 10, 10, 10, 10, 10, 10, 10, 11, 11, 11, 11,\n",
       "       11, 11, 11, 11, 11, 11, 11, 11, 11, 11, 11, 11, 11, 11, 11, 11, 12,\n",
       "       12, 12, 12, 12, 12, 12, 12, 12, 12, 12, 12, 12, 12, 12, 12, 12, 12,\n",
       "       12, 12, 13, 13, 13, 13, 13, 13, 13, 13, 13, 13, 13, 13, 13, 13, 13,\n",
       "       13, 13, 13, 13, 13, 14, 14, 14, 14, 14, 14, 14, 14, 14, 14, 14, 14,\n",
       "       14, 14, 14, 14, 14, 14, 14, 14, 15, 15, 15, 15, 15, 15, 15, 15, 15,\n",
       "       15, 15, 15, 15, 15, 15, 15, 15, 15, 15, 15, 16, 16, 16, 16, 16, 16,\n",
       "       16, 16, 16, 16, 16, 16, 16, 16, 16, 16, 16, 16, 16, 16, 17, 17, 17,\n",
       "       17, 17, 17, 17, 17, 17, 17, 17, 17, 17, 17, 17, 17, 17, 17, 17, 17,\n",
       "       18, 18, 18, 18, 18, 18, 18, 18, 18, 18, 18, 18, 18, 18, 18, 18, 18,\n",
       "       18, 18, 18, 19, 19, 19, 19, 19, 19, 19, 19, 19, 19, 19, 19, 19, 19,\n",
       "       19, 19, 19, 19, 19, 19, 20, 20, 20, 20, 20, 20, 20, 20, 20, 20, 20,\n",
       "       20, 20, 20, 20, 20, 20, 20, 20, 20, 21, 21, 21, 21, 21, 21, 21, 21,\n",
       "       21, 21, 21, 21, 21, 21, 21, 21, 21, 21, 21, 21, 22, 22, 22, 22, 22,\n",
       "       22, 22, 22, 22, 22, 22, 22, 22, 22, 22, 22, 22, 22, 22, 22, 23, 23,\n",
       "       23, 23, 23, 23, 23, 23, 23, 23, 23, 23, 23, 23, 23, 23, 23, 23, 23,\n",
       "       23, 24, 24, 24, 24, 24, 24, 24, 24, 24, 24, 24, 24, 24, 24, 24, 24,\n",
       "       24, 24, 24, 24, 25, 25, 25, 25, 25, 25, 25, 25, 25, 25, 25, 25, 25,\n",
       "       25, 25, 25, 25, 25, 25, 25, 26, 26, 26, 26, 26, 26, 26, 26, 26, 26,\n",
       "       26, 26, 26, 26, 26, 26, 26, 26, 26, 26, 27, 27, 27, 27, 27, 27, 27,\n",
       "       27, 27, 27, 27, 27, 27, 27, 27, 27, 27, 27, 27, 27, 28, 28, 28, 28,\n",
       "       28, 28, 28, 28, 28, 28, 28, 28, 28, 28, 28, 28, 28, 28, 28, 28, 29,\n",
       "       29, 29, 29, 29, 29, 29, 29, 29, 29, 29, 29, 29, 29, 29, 29, 29, 29,\n",
       "       29, 29, 30, 30, 30, 30, 30, 30, 30, 30, 30, 30, 30, 30, 30, 30, 30,\n",
       "       30, 30, 30, 30, 30, 31, 31, 31, 31, 31, 31, 31, 31, 31, 31, 31, 31,\n",
       "       31, 31, 31, 31, 31, 31, 31, 31, 32, 32, 32, 32, 32, 32, 32, 32, 32,\n",
       "       32, 32, 32, 32, 32, 32, 32, 32, 32, 32, 32, 33, 33, 33, 33, 33, 33,\n",
       "       33, 33, 33, 33, 33, 33, 33, 33, 33, 33, 33, 33, 33, 33, 34, 34, 34,\n",
       "       34, 34, 34, 34, 34, 34, 34, 34, 34, 34, 34, 34, 34, 34, 34, 34, 34,\n",
       "       35, 35, 35, 35, 35, 35, 35, 35, 35, 35, 35, 35, 35, 35, 35, 35, 35,\n",
       "       35, 35, 35, 36, 36, 36, 36, 36, 36, 36, 36, 36, 36, 36, 36, 36, 36,\n",
       "       36, 36, 36, 36, 36, 36, 37, 37, 37, 37, 37, 37, 37, 37, 37, 37, 37,\n",
       "       37, 37, 37, 37, 37, 37, 37, 37, 37, 38, 38, 38, 38, 38, 38, 38, 38,\n",
       "       38, 38, 38, 38, 38, 38, 38, 38, 38, 38, 38, 38, 39, 39, 39, 39, 39,\n",
       "       39, 39, 39, 39, 39, 39, 39, 39, 39, 39, 39, 39, 39, 39, 39, 40, 40,\n",
       "       40, 40, 40, 40, 40, 40, 40, 40, 40, 40, 40, 40, 40, 40, 40, 40, 40,\n",
       "       40, 41, 41, 41, 41, 41, 41, 41, 41, 41, 41, 41, 41, 41, 41, 41, 41,\n",
       "       41, 41, 41, 41, 42, 42, 42, 42, 42, 42, 42, 42, 42, 42, 42, 42, 42,\n",
       "       42, 42, 42, 42, 42, 42, 42, 43, 43, 43, 43, 43, 43, 43, 43, 43, 43,\n",
       "       43, 43, 43, 43, 43, 43, 43, 43, 43, 43, 44, 44, 44, 44, 44, 44, 44,\n",
       "       44, 44, 44, 44, 44, 44, 44, 44, 44, 44, 44, 44, 44, 45, 45, 45, 45,\n",
       "       45, 45, 45, 45, 45, 45, 45, 45, 45, 45, 45, 45, 45, 45, 45, 45, 46,\n",
       "       46, 46, 46, 46, 46, 46, 46, 46, 46, 46, 46, 46, 46, 46, 46, 46, 46,\n",
       "       46, 46, 47, 47, 47, 47, 47, 47, 47, 47, 47, 47, 47, 47, 47, 47, 47,\n",
       "       47, 47, 47, 47, 47, 48, 48, 48, 48, 48, 48, 48, 48, 48, 48, 48, 48,\n",
       "       48, 48, 48, 48, 48, 48, 48, 48, 49, 49, 49, 49, 49, 49, 49, 49, 49,\n",
       "       49, 49, 49, 49, 49, 49, 49, 49, 49, 49, 49, 50, 50, 50, 50, 50, 50,\n",
       "       50, 50, 50, 50, 50, 50, 50, 50, 50, 50, 50, 50, 50, 50])"
      ]
     },
     "execution_count": 138,
     "metadata": {},
     "output_type": "execute_result"
    }
   ],
   "source": [
    "cluster_name = np.repeat(np.arange(1, n_cluster+1), repeats = n / n_cluster)\n",
    "cluster_name"
   ]
  },
  {
   "cell_type": "code",
   "execution_count": 146,
   "metadata": {},
   "outputs": [
    {
     "data": {
      "text/plain": [
       "array([[1. , 0. ],\n",
       "       [0. , 0.5]])"
      ]
     },
     "execution_count": 146,
     "metadata": {},
     "output_type": "execute_result"
    }
   ],
   "source": [
    "Sigma_cl = np.array((1, 0, 0, rho)).reshape(2,2)\n",
    "Sigma_cl"
   ]
  },
  {
   "cell_type": "code",
   "execution_count": 147,
   "metadata": {
    "scrolled": true
   },
   "outputs": [
    {
     "data": {
      "text/plain": [
       "array([[-0.48520193, -1.45529837],\n",
       "       [-0.34622518, -0.14677401],\n",
       "       [ 1.24082302, -0.90006691],\n",
       "       [-1.35163237,  0.46705253],\n",
       "       [ 1.39748901,  0.55455942],\n",
       "       [-1.79164108, -0.41060827],\n",
       "       [ 0.13083943, -1.23267429],\n",
       "       [-0.64908561, -0.21254756],\n",
       "       [ 0.87846571,  0.56264406],\n",
       "       [ 0.62579503, -0.70609798],\n",
       "       [-0.27480692,  0.05884786],\n",
       "       [-2.18204164, -0.92634437],\n",
       "       [ 1.1252696 , -0.52819834],\n",
       "       [-1.30410295, -0.09409598],\n",
       "       [-0.45241573,  0.11513713],\n",
       "       [ 1.28464065,  1.6745619 ],\n",
       "       [-0.98184157,  0.69684605],\n",
       "       [-0.45373725, -0.47922879],\n",
       "       [-0.25551794,  0.7808831 ],\n",
       "       [ 0.04870407, -0.16133764],\n",
       "       [-1.33234314, -0.95190226],\n",
       "       [ 1.07084796, -0.37330364],\n",
       "       [-0.05939749, -0.54988476],\n",
       "       [ 0.39455471, -0.53210827],\n",
       "       [ 0.75182492,  0.42704141],\n",
       "       [ 0.18869935,  1.10553532],\n",
       "       [ 0.80388271,  0.07495211],\n",
       "       [ 0.64533009,  0.26878226],\n",
       "       [-0.7672559 , -1.03556281],\n",
       "       [-1.0935793 ,  0.80432781],\n",
       "       [ 0.34923204,  2.34323097],\n",
       "       [ 0.54853795, -0.96924189],\n",
       "       [ 1.85143316, -0.04893226],\n",
       "       [ 0.81272551, -0.07350598],\n",
       "       [ 0.73241915, -0.01287641],\n",
       "       [ 0.1711417 , -0.55507418],\n",
       "       [ 0.03127226,  0.17907756],\n",
       "       [ 0.77354734, -0.36871651],\n",
       "       [-0.3779994 ,  0.1313586 ],\n",
       "       [ 0.22466307,  0.18143341],\n",
       "       [ 0.5872176 ,  0.76291101],\n",
       "       [ 0.54342337, -0.10014513],\n",
       "       [-1.73098538, -0.62369595],\n",
       "       [ 2.16018598,  0.60158364],\n",
       "       [ 0.32740606, -1.12930901],\n",
       "       [ 0.35180347, -0.06218373],\n",
       "       [-0.17981391,  0.18609018],\n",
       "       [ 1.38519908, -0.90962782],\n",
       "       [-1.08642429,  0.57617888],\n",
       "       [-0.694664  ,  0.07769224]])"
      ]
     },
     "execution_count": 147,
     "metadata": {},
     "output_type": "execute_result"
    }
   ],
   "source": [
    "values_cl = np.random.multivariate_normal(np.zeros(2),Sigma_cl, size = n_cluster)\n",
    "values_cl"
   ]
  },
  {
   "cell_type": "code",
   "execution_count": 149,
   "metadata": {},
   "outputs": [
    {
     "data": {
      "text/plain": [
       "1000"
      ]
     },
     "execution_count": 149,
     "metadata": {},
     "output_type": "execute_result"
    }
   ],
   "source": [
    "x = values_i[: , 0] + np.repeat(values_cl[: , 0], repeats = n / n_cluster)\n",
    "len(x)"
   ]
  },
  {
   "cell_type": "code",
   "execution_count": 151,
   "metadata": {},
   "outputs": [
    {
     "data": {
      "text/plain": [
       "(1000, 2)"
      ]
     },
     "execution_count": 151,
     "metadata": {},
     "output_type": "execute_result"
    }
   ],
   "source": [
    "\n",
    "values_i.shape"
   ]
  },
  {
   "cell_type": "code",
   "execution_count": 152,
   "metadata": {},
   "outputs": [
    {
     "data": {
      "text/plain": [
       "(50, 2)"
      ]
     },
     "execution_count": 152,
     "metadata": {},
     "output_type": "execute_result"
    }
   ],
   "source": [
    "values_cl.shape"
   ]
  },
  {
   "cell_type": "code",
   "execution_count": 153,
   "metadata": {},
   "outputs": [
    {
     "data": {
      "text/plain": [
       "array([[-0.48520193, -1.45529837],\n",
       "       [-0.34622518, -0.14677401],\n",
       "       [ 1.24082302, -0.90006691],\n",
       "       [-1.35163237,  0.46705253],\n",
       "       [ 1.39748901,  0.55455942],\n",
       "       [-1.79164108, -0.41060827],\n",
       "       [ 0.13083943, -1.23267429],\n",
       "       [-0.64908561, -0.21254756],\n",
       "       [ 0.87846571,  0.56264406],\n",
       "       [ 0.62579503, -0.70609798],\n",
       "       [-0.27480692,  0.05884786],\n",
       "       [-2.18204164, -0.92634437],\n",
       "       [ 1.1252696 , -0.52819834],\n",
       "       [-1.30410295, -0.09409598],\n",
       "       [-0.45241573,  0.11513713],\n",
       "       [ 1.28464065,  1.6745619 ],\n",
       "       [-0.98184157,  0.69684605],\n",
       "       [-0.45373725, -0.47922879],\n",
       "       [-0.25551794,  0.7808831 ],\n",
       "       [ 0.04870407, -0.16133764],\n",
       "       [-1.33234314, -0.95190226],\n",
       "       [ 1.07084796, -0.37330364],\n",
       "       [-0.05939749, -0.54988476],\n",
       "       [ 0.39455471, -0.53210827],\n",
       "       [ 0.75182492,  0.42704141],\n",
       "       [ 0.18869935,  1.10553532],\n",
       "       [ 0.80388271,  0.07495211],\n",
       "       [ 0.64533009,  0.26878226],\n",
       "       [-0.7672559 , -1.03556281],\n",
       "       [-1.0935793 ,  0.80432781],\n",
       "       [ 0.34923204,  2.34323097],\n",
       "       [ 0.54853795, -0.96924189],\n",
       "       [ 1.85143316, -0.04893226],\n",
       "       [ 0.81272551, -0.07350598],\n",
       "       [ 0.73241915, -0.01287641],\n",
       "       [ 0.1711417 , -0.55507418],\n",
       "       [ 0.03127226,  0.17907756],\n",
       "       [ 0.77354734, -0.36871651],\n",
       "       [-0.3779994 ,  0.1313586 ],\n",
       "       [ 0.22466307,  0.18143341],\n",
       "       [ 0.5872176 ,  0.76291101],\n",
       "       [ 0.54342337, -0.10014513],\n",
       "       [-1.73098538, -0.62369595],\n",
       "       [ 2.16018598,  0.60158364],\n",
       "       [ 0.32740606, -1.12930901],\n",
       "       [ 0.35180347, -0.06218373],\n",
       "       [-0.17981391,  0.18609018],\n",
       "       [ 1.38519908, -0.90962782],\n",
       "       [-1.08642429,  0.57617888],\n",
       "       [-0.694664  ,  0.07769224]])"
      ]
     },
     "execution_count": 153,
     "metadata": {},
     "output_type": "execute_result"
    }
   ],
   "source": [
    "values_cl"
   ]
  },
  {
   "cell_type": "code",
   "execution_count": null,
   "metadata": {},
   "outputs": [],
   "source": []
  }
 ],
 "metadata": {
  "kernelspec": {
   "display_name": "Python 3",
   "language": "python",
   "name": "python3"
  },
  "language_info": {
   "codemirror_mode": {
    "name": "ipython",
    "version": 3
   },
   "file_extension": ".py",
   "mimetype": "text/x-python",
   "name": "python",
   "nbconvert_exporter": "python",
   "pygments_lexer": "ipython3",
   "version": "3.7.6"
  }
 },
 "nbformat": 4,
 "nbformat_minor": 2
}
